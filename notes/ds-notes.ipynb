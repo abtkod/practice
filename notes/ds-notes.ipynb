{
 "cells": [
  {
   "cell_type": "markdown",
   "metadata": {},
   "source": [
    "## Outline:\n",
    "* [Numpy](#numpy)\n",
    "* [Pandas](#pandas)\n",
    "* [Statistics](#statistics)\n",
    "* [Plotting](#plotting)"
   ]
  },
  {
   "cell_type": "code",
   "execution_count": 1,
   "metadata": {},
   "outputs": [],
   "source": [
    "import numpy as np\n",
    "import pandas as pd\n",
    "from scipy import stats\n",
    "\n",
    "%precision 2\n",
    "\n",
    "csvpath = 'https://covid.ourworldindata.org/data/owid-covid-data.csv'"
   ]
  },
  {
   "cell_type": "markdown",
   "metadata": {},
   "source": [
    "## Numpy <a class=\"anchor\" id=\"numpy\"></a>"
   ]
  },
  {
   "cell_type": "code",
   "execution_count": 2,
   "metadata": {
    "scrolled": true
   },
   "outputs": [
    {
     "name": "stdout",
     "output_type": "stream",
     "text": [
      "np.arange(1, 11, 2): [1 3 5 7 9]\n",
      "np.array(list(range(1, 11, 2))): [1 3 5 7 9]\n",
      "ar1 == ar2: [ True  True  True  True  True]\n",
      "np.array_equal(ar1, ar2): True\n",
      "\n",
      "np.arange(1, 11).reshape(2,5):\n",
      " [[ 1  2  3  4  5]\n",
      " [ 6  7  8  9 10]]\n",
      "\n",
      "multi-dimentional:\n",
      "[[[1 2]\n",
      "  [3 4]]\n",
      "\n",
      " [[5 6]\n",
      "  [7 8]]]\n",
      "\n",
      "np.linspace:\n",
      "[0.  0.1 0.2 0.3 0.4 0.5 0.6 0.7 0.8 0.9 1. ]\n",
      "\n",
      "np.diag\n",
      "[[1 0 0]\n",
      " [0 2 0]\n",
      " [0 0 3]]\n",
      "\n",
      "np.repeat\n",
      "[1 2 3 1 2 3 1 2 3]\n",
      "[1 1 1 2 2 2 3 3 3]\n",
      "\n",
      "np.vstack([ar1, ar1**2]):\n",
      " [[ 1  3  5  7  9]\n",
      " [ 1  9 25 49 81]]\n",
      "\n",
      "np.hstack([ar1, ar1**2]):\n",
      " [ 1  3  5  7  9  1  9 25 49 81]\n"
     ]
    }
   ],
   "source": [
    "ar1 = np.arange(1, 11, 2)\n",
    "ar2 = np.array(list(range(1, 11, 2)))\n",
    "print('np.arange(1, 11, 2):', ar1)\n",
    "print('np.array(list(range(1, 11, 2))):', ar2)\n",
    "print('ar1 == ar2:', ar1 == ar2)\n",
    "print('np.array_equal(ar1, ar2):', np.array_equal(ar1, ar2))\n",
    "print()\n",
    "ar3 = np.arange(1, 11).reshape(2,5)\n",
    "print('np.arange(1, 11).reshape(2,5):\\n', ar3)\n",
    "print()\n",
    "print('multi-dimentional:')\n",
    "ar4 = np.arange(1,9).reshape(2,2,2)\n",
    "print(ar4)\n",
    "print()\n",
    "print('np.linspace:')\n",
    "ar5 = np.linspace(0, 1, 11)\n",
    "print(ar5)\n",
    "print('\\nnp.diag')\n",
    "ar6 = np.diag([1,2,3])\n",
    "print(ar6)\n",
    "print('\\nnp.repeat')\n",
    "print(np.array([1,2,3]*3))\n",
    "print(np.repeat([1,2,3], 3))\n",
    "print()\n",
    "print('np.vstack([ar1, ar1**2]):\\n', np.vstack([ar1, ar1**2]))\n",
    "print()\n",
    "print('np.hstack([ar1, ar1**2]):\\n', np.hstack([ar1, ar1**2]))"
   ]
  },
  {
   "cell_type": "code",
   "execution_count": 3,
   "metadata": {},
   "outputs": [
    {
     "name": "stdout",
     "output_type": "stream",
     "text": [
      "[[0 1 2 3 4]\n",
      " [5 6 7 8 9]]\n",
      "\n",
      "[0 1 2 3 4 5 6 7 8 9]\n",
      "\n",
      "None\n",
      "\n",
      "[[0 1 2 3 4]\n",
      " [5 6 7 8 9]]\n"
     ]
    }
   ],
   "source": [
    "ar = np.arange(10)\n",
    "print(ar.reshape(2,5))\n",
    "print()\n",
    "print(ar)\n",
    "print()\n",
    "print(ar.resize(2,5))\n",
    "print()\n",
    "print(ar)"
   ]
  },
  {
   "cell_type": "code",
   "execution_count": 4,
   "metadata": {},
   "outputs": [
    {
     "name": "stdout",
     "output_type": "stream",
     "text": [
      "a: [1 2 3]\n",
      "np.dot(a,a): 14\n",
      "a.dot(a): 14\n",
      "a.dot(a.T): 14\n",
      "**********\n",
      "ar:\n",
      " [[1 2 3]\n",
      " [4 5 6]]\n",
      "ar.dot(ar.T):\n",
      " [[14 32]\n",
      " [32 77]]\n",
      "np.dot(ar,ar.T):\n",
      " [[14 32]\n",
      " [32 77]]\n",
      "np.inner(ar, ar):\n",
      " [[14 32]\n",
      " [32 77]]\n",
      "np.outer(ar, ar):\n",
      " [[ 1  2  3  4  5  6]\n",
      " [ 2  4  6  8 10 12]\n",
      " [ 3  6  9 12 15 18]\n",
      " [ 4  8 12 16 20 24]\n",
      " [ 5 10 15 20 25 30]\n",
      " [ 6 12 18 24 30 36]]\n"
     ]
    }
   ],
   "source": [
    "a = np.arange(1, 4)\n",
    "print('a:', a)\n",
    "print('np.dot(a,a):', np.dot(a, a))\n",
    "print('a.dot(a):', a.dot(a))\n",
    "print('a.dot(a.T):', a.dot(a.T))\n",
    "print('*'*10)\n",
    "ar = np.arange(1, 7).reshape(2,3)\n",
    "print('ar:\\n', ar)\n",
    "print('ar.dot(ar.T):\\n', ar.dot(ar.T))\n",
    "print('np.dot(ar,ar.T):\\n', np.dot(ar,ar.T))\n",
    "print('np.inner(ar, ar):\\n', np.inner(ar, ar))\n",
    "print('np.outer(ar, ar):\\n', np.outer(ar, ar))"
   ]
  },
  {
   "cell_type": "code",
   "execution_count": 5,
   "metadata": {},
   "outputs": [
    {
     "name": "stdout",
     "output_type": "stream",
     "text": [
      "[[[ 1  2  3]\n",
      "  [ 4  5  6]\n",
      "  [ 7  8  9]]\n",
      "\n",
      " [[10 11 12]\n",
      "  [13  0  0]\n",
      "  [16  0  0]]\n",
      "\n",
      " [[19 20 21]\n",
      "  [22  0  0]\n",
      "  [25  0  0]]]\n",
      "\n",
      "\n",
      "\n",
      "[[[ 1  2  3]\n",
      "  [ 4  5  6]\n",
      "  [ 7  8  9]]\n",
      "\n",
      " [[10 11 12]\n",
      "  [13 14 15]\n",
      "  [16 17 18]]\n",
      "\n",
      " [[19 20 21]\n",
      "  [22 23 24]\n",
      "  [25 26 27]]]\n"
     ]
    }
   ],
   "source": [
    "ar = np.arange(1, 28)\n",
    "ar.resize(3,3,3)\n",
    "arorigin = ar.copy()\n",
    "ar[-2:, -2:, -2:] = 0\n",
    "print(ar)\n",
    "print(), print(), print()\n",
    "print(arorigin)"
   ]
  },
  {
   "cell_type": "code",
   "execution_count": 6,
   "metadata": {},
   "outputs": [
    {
     "name": "stdout",
     "output_type": "stream",
     "text": [
      "13223\n",
      "0\n"
     ]
    },
    {
     "data": {
      "text/plain": [
       "array([[2, 3, 2, ..., 5, 9, 1],\n",
       "       [3, 4, 3, ..., 1, 5, 6],\n",
       "       [1, 4, 9, ..., 4, 1, 2],\n",
       "       ...,\n",
       "       [3, 2, 4, ..., 4, 3, 7],\n",
       "       [8, 8, 8, ..., 9, 3, 6],\n",
       "       [4, 3, 2, ..., 2, 5, 5]])"
      ]
     },
     "execution_count": 6,
     "metadata": {},
     "output_type": "execute_result"
    }
   ],
   "source": [
    "randar = np.random.randint(1, 10, (300,400)) #not inclusive\n",
    "print(np.sum(randar==1))\n",
    "print(np.sum(randar==10))\n",
    "randar"
   ]
  },
  {
   "cell_type": "code",
   "execution_count": 7,
   "metadata": {},
   "outputs": [
    {
     "name": "stdout",
     "output_type": "stream",
     "text": [
      "[0 1]\n",
      "[0 1]\n",
      "\n",
      "[2 3]\n",
      "[2 3]\n",
      "\n",
      "[[0 1]\n",
      " [2 3]]\n",
      "[[0 1]\n",
      " [2 3]]\n",
      "\n",
      "[[4 5]\n",
      " [6 7]]\n",
      "[[4 5]\n",
      " [6 7]]\n",
      "\n"
     ]
    }
   ],
   "source": [
    "ar = np.arange(4).reshape(2,2)\n",
    "for i,j in zip(ar, ar):\n",
    "    print(i)\n",
    "    print(j)\n",
    "    print()\n",
    "    \n",
    "ar = np.arange(8).reshape((2,2,2))\n",
    "for i,j in zip(ar, ar):\n",
    "    print(i)\n",
    "    print(j)\n",
    "    print()"
   ]
  },
  {
   "cell_type": "markdown",
   "metadata": {},
   "source": [
    "### broadcasting & vectorization"
   ]
  },
  {
   "cell_type": "code",
   "execution_count": 8,
   "metadata": {},
   "outputs": [
    {
     "name": "stdout",
     "output_type": "stream",
     "text": [
      "(4,) (1, 4) (4, 1) (1, 4) (4, 4)\n"
     ]
    }
   ],
   "source": [
    "a0 = np.array([1, 2, 3, 4])\n",
    "a1 = np.array([[1, 2, 3, 4]])\n",
    "a2 = np.array([[1], [2], [3], [4]])\n",
    "print(a0.shape, a1.shape, a2.shape, (a0==a1).shape, (a1==a2).shape)"
   ]
  },
  {
   "cell_type": "code",
   "execution_count": 9,
   "metadata": {},
   "outputs": [
    {
     "name": "stdout",
     "output_type": "stream",
     "text": [
      "(10,) (1, 10) (10, 1)\n",
      "False False\n",
      "(1, 10) (10, 10) (10, 10)\n",
      "(1, 1) (10, 10)\n"
     ]
    }
   ],
   "source": [
    "a = np.array([1,2,3,4,5,6,7,8,9,10]) #rank 1 array which is neither a row vector (1,10) nor a column vector (10, 1)\n",
    "b = np.array([1,2,3,4,5,6,7,8,9,10]).reshape((1,10))\n",
    "c = np.array([1,2,3,4,5,6,7,8,9,10]).reshape((10, 1))\n",
    "print(a.shape, b.shape, c.shape)\n",
    "print(np.array_equal(a, b), np.array_equal(a, c))\n",
    "print((a*b).shape, (a*c).shape, (b*c).shape)\n",
    "print(np.dot(b,c).shape, np.dot(c,b).shape)"
   ]
  },
  {
   "cell_type": "code",
   "execution_count": 10,
   "metadata": {},
   "outputs": [
    {
     "name": "stdout",
     "output_type": "stream",
     "text": [
      "250189.87714276585\n",
      "Vectorized version:17.955303192138672ms\n",
      "250189.8771427673\n",
      "For loop:743.070125579834ms\n"
     ]
    }
   ],
   "source": [
    "import time\n",
    "a = np.random.rand(1000000)\n",
    "b = np.random.rand(1000000)\n",
    "\n",
    "tic = time.time()\n",
    "c = np.dot(a,b)\n",
    "toc = time.time()\n",
    "print(c)\n",
    "print(\"Vectorized version:\" + str(1000*(toc-tic)) +\"ms\" )\n",
    "\n",
    "c = 0\n",
    "tic = time.time()\n",
    "for i in range(1000000):\n",
    "    c += a[i]*b[i]\n",
    "toc = time.time()\n",
    "print(c)\n",
    "print(\"For loop:\" + str(1000*(toc-tic)) + \"ms\")"
   ]
  },
  {
   "cell_type": "code",
   "execution_count": 11,
   "metadata": {},
   "outputs": [
    {
     "name": "stdout",
     "output_type": "stream",
     "text": [
      "(10,)\n",
      "(10, 0)\n",
      "(0, 10)\n"
     ]
    }
   ],
   "source": [
    "print(np.zeros(10).shape)\n",
    "print(np.zeros((10, 0)).shape)\n",
    "print(np.zeros((0,10)).shape)"
   ]
  },
  {
   "cell_type": "markdown",
   "metadata": {},
   "source": [
    "## Pandas <a class=\"anchor\" id=\"pandas\"></a>"
   ]
  },
  {
   "cell_type": "markdown",
   "metadata": {},
   "source": [
    "### Series"
   ]
  },
  {
   "cell_type": "code",
   "execution_count": 12,
   "metadata": {},
   "outputs": [
    {
     "name": "stdout",
     "output_type": "stream",
     "text": [
      "A    10\n",
      "B    20\n",
      "C    30\n",
      "Name: Serie 1, dtype: int64\n",
      "\n",
      "A    10\n",
      "B    20\n",
      "C    30\n",
      "Name: Serie 2, dtype: int64\n",
      "\n",
      "A    True\n",
      "B    True\n",
      "C    True\n",
      "dtype: bool\n",
      "\n",
      "True\n"
     ]
    }
   ],
   "source": [
    "ser1 = pd.Series([10,20,30], index= ['A', 'B', 'C'], name='Serie 1')\n",
    "print(ser1)\n",
    "print()\n",
    "ser2 = pd.Series({'A':10, 'B':20, 'C':30}, name='Serie 2')\n",
    "print(ser2)\n",
    "print()\n",
    "print(ser1 == ser2)\n",
    "print()\n",
    "print(pd.Series.equals(ser1, ser2))"
   ]
  },
  {
   "cell_type": "code",
   "execution_count": 13,
   "metadata": {},
   "outputs": [
    {
     "name": "stdout",
     "output_type": "stream",
     "text": [
      "A    10.0\n",
      "B    20.0\n",
      "C     NaN\n",
      "dtype: float64\n",
      "\n",
      "index:  Index(['A', 'B', 'C'], dtype='object')\n",
      "\n",
      "values:  [10. 20. nan]\n",
      "\n",
      "float64\n",
      "3 (3,)\n",
      "\n",
      "10.0 20.0 nan\n",
      "10.0 20.0 nan\n",
      "10.0 20.0 nan\n",
      "\n",
      "count     2.000000\n",
      "mean     15.000000\n",
      "std       7.071068\n",
      "min      10.000000\n",
      "25%      12.500000\n",
      "50%      15.000000\n",
      "75%      17.500000\n",
      "max      20.000000\n",
      "dtype: float64\n"
     ]
    }
   ],
   "source": [
    "ser1 = pd.Series(data= {'A':10, 'B':20, 'C':None})\n",
    "print(ser1)\n",
    "print()\n",
    "print('index: ', ser1.index)\n",
    "print()\n",
    "print('values: ', ser1.values)\n",
    "print()\n",
    "print(ser1.dtype)\n",
    "print(len(ser1), ser1.shape)\n",
    "print()\n",
    "print(ser1[0], ser1['B'], ser1['C'])\n",
    "print(ser1.iloc[0], ser1.iloc[1], ser1.iloc[2])\n",
    "print(ser1.loc['A'], ser1.loc['B'], ser1.loc['C'])\n",
    "print()\n",
    "print(ser1.describe())"
   ]
  },
  {
   "cell_type": "code",
   "execution_count": 14,
   "metadata": {
    "scrolled": true
   },
   "outputs": [
    {
     "name": "stdout",
     "output_type": "stream",
     "text": [
      "s3:\n",
      "0    10.000\n",
      "1    20.000\n",
      "2    30.001\n",
      "3       NaN\n",
      "0    10.000\n",
      "1    20.000\n",
      "2    30.001\n",
      "3       NaN\n",
      "dtype: float64\n",
      "\n",
      "s3.iloc[0]:  10.0\n",
      "s3.loc[0]:\n",
      "0    10.0\n",
      "0    10.0\n",
      "dtype: float64\n",
      "\n",
      "s3[0]\n",
      "0    10.0\n",
      "0    10.0\n",
      "dtype: float64\n",
      "\n",
      "mathematical operations:\n",
      "s1 * s2\n",
      "0    100.000000\n",
      "1    400.000000\n",
      "2    900.060001\n",
      "3           NaN\n",
      "dtype: float64\n",
      "\n",
      "s1 / s2\n",
      "0    1.0\n",
      "1    1.0\n",
      "2    1.0\n",
      "3    NaN\n",
      "dtype: float64\n",
      "\n",
      "s1 + s2\n",
      "0    20.000\n",
      "1    40.000\n",
      "2    60.002\n",
      "3       NaN\n",
      "dtype: float64\n"
     ]
    }
   ],
   "source": [
    "s = pd.Series([10, 20, 30.001, None])\n",
    "s1 = s.copy()\n",
    "s2 = s.copy()\n",
    "s3 = s1.append(s2)\n",
    "print('s3:')\n",
    "print(s3)\n",
    "print()\n",
    "print('s3.iloc[0]: ', s3.iloc[0])\n",
    "print('s3.loc[0]:')\n",
    "print(s3.loc[0])\n",
    "print()\n",
    "print('s3[0]')\n",
    "print(s3[0])\n",
    "print()\n",
    "print('mathematical operations:')\n",
    "print('s1 * s2')\n",
    "print(s1 * s2)\n",
    "print()\n",
    "print('s1 / s2')\n",
    "print(s1 / s2)\n",
    "print()\n",
    "print('s1 + s2')\n",
    "print(s1 + s2)"
   ]
  },
  {
   "cell_type": "code",
   "execution_count": 15,
   "metadata": {},
   "outputs": [
    {
     "name": "stdout",
     "output_type": "stream",
     "text": [
      "0    11\n",
      "1    12\n",
      "2    13\n",
      "dtype: int64\n",
      "\n",
      "0      11\n",
      "1      12\n",
      "2      13\n",
      "3    None\n",
      "dtype: object\n",
      "\n",
      "s[3] == None:  True\n",
      "\n",
      "s[3] == np.nan:  False\n",
      "s[3] is np.nan:  False\n",
      "np.nan == np.nan:  False\n",
      "np.isnan(np.nan):  True\n",
      "pd.isna(s[3]): True\n",
      "pd.isna(s):\n",
      " 0    False\n",
      "1    False\n",
      "2    False\n",
      "3     True\n",
      "dtype: bool\n"
     ]
    }
   ],
   "source": [
    "s = pd.Series(range(10, 13))\n",
    "s += 1\n",
    "print(s)\n",
    "print()\n",
    "s[3] = None\n",
    "print(s)\n",
    "print()\n",
    "print('s[3] == None: ', s[3] == None)\n",
    "print()\n",
    "print('s[3] == np.nan: ', s[3] == np.nan)\n",
    "print('s[3] is np.nan: ', s[3] is np.nan)\n",
    "print('np.nan == np.nan: ', np.nan == np.nan)\n",
    "print('np.isnan(np.nan): ', np.isnan(np.nan))\n",
    "print('pd.isna(s[3]):', pd.isna(s[3]))\n",
    "print('pd.isna(s):\\n', pd.isna(s))"
   ]
  },
  {
   "cell_type": "markdown",
   "metadata": {},
   "source": [
    "### DataFrames"
   ]
  },
  {
   "cell_type": "code",
   "execution_count": 16,
   "metadata": {},
   "outputs": [
    {
     "data": {
      "text/html": [
       "<div>\n",
       "<style scoped>\n",
       "    .dataframe tbody tr th:only-of-type {\n",
       "        vertical-align: middle;\n",
       "    }\n",
       "\n",
       "    .dataframe tbody tr th {\n",
       "        vertical-align: top;\n",
       "    }\n",
       "\n",
       "    .dataframe thead th {\n",
       "        text-align: right;\n",
       "    }\n",
       "</style>\n",
       "<table border=\"1\" class=\"dataframe\">\n",
       "  <thead>\n",
       "    <tr style=\"text-align: right;\">\n",
       "      <th></th>\n",
       "      <th>A</th>\n",
       "      <th>B</th>\n",
       "      <th>C</th>\n",
       "      <th>D</th>\n",
       "      <th>E</th>\n",
       "    </tr>\n",
       "  </thead>\n",
       "  <tbody>\n",
       "    <tr>\n",
       "      <td>Serie 1</td>\n",
       "      <td>1.0</td>\n",
       "      <td>2.0</td>\n",
       "      <td>3.0</td>\n",
       "      <td>NaN</td>\n",
       "      <td>NaN</td>\n",
       "    </tr>\n",
       "    <tr>\n",
       "      <td>Serie 2</td>\n",
       "      <td>4.0</td>\n",
       "      <td>5.0</td>\n",
       "      <td>6.0</td>\n",
       "      <td>NaN</td>\n",
       "      <td>NaN</td>\n",
       "    </tr>\n",
       "    <tr>\n",
       "      <td>Serie 3</td>\n",
       "      <td>7.0</td>\n",
       "      <td>8.0</td>\n",
       "      <td>9.0</td>\n",
       "      <td>NaN</td>\n",
       "      <td>10.0</td>\n",
       "    </tr>\n",
       "  </tbody>\n",
       "</table>\n",
       "</div>"
      ],
      "text/plain": [
       "           A    B    C   D     E\n",
       "Serie 1  1.0  2.0  3.0 NaN   NaN\n",
       "Serie 2  4.0  5.0  6.0 NaN   NaN\n",
       "Serie 3  7.0  8.0  9.0 NaN  10.0"
      ]
     },
     "execution_count": 16,
     "metadata": {},
     "output_type": "execute_result"
    }
   ],
   "source": [
    "ser1 = pd.Series({'A':1, 'B':2, 'C':3})\n",
    "ser2 = pd.Series({'A':4, 'B':5, 'C':6, 'D':None})\n",
    "ser3 = pd.Series({'A':7, 'B':8, 'C':9, 'E': 10.0})\n",
    "pd.DataFrame([ser1, ser2, ser3], index=['Serie 1', 'Serie 2', 'Serie 3'])"
   ]
  },
  {
   "cell_type": "code",
   "execution_count": 17,
   "metadata": {
    "scrolled": true
   },
   "outputs": [
    {
     "name": "stdout",
     "output_type": "stream",
     "text": [
      "      location        date  new_cases  new_deaths  new_tests  population  \\\n",
      "0  Afghanistan  2019-12-31        0.0         0.0        NaN  38928341.0   \n",
      "1  Afghanistan  2020-01-01        0.0         0.0        NaN  38928341.0   \n",
      "\n",
      "   population_density  \n",
      "0              54.422  \n",
      "1              54.422  \n",
      "\n",
      "            location        date  new_cases  new_deaths  new_tests  \\\n",
      "27167  International  2020-03-02        0.0         0.0        NaN   \n",
      "27168  International  2020-03-10       -9.0         1.0        NaN   \n",
      "\n",
      "       population  population_density  \n",
      "27167         NaN                 NaN  \n",
      "27168         NaN                 NaN  \n",
      "\n",
      "           new_cases    new_deaths      new_tests    population  \\\n",
      "count   26954.000000  26954.000000    7069.000000  2.710500e+04   \n",
      "mean      762.261705     37.493136   14769.822889  9.950125e+07   \n",
      "std      6743.870894    335.569000   49721.276166  6.561589e+08   \n",
      "min     -2461.000000  -1918.000000       1.000000  8.090000e+02   \n",
      "25%         0.000000      0.000000     828.000000  1.967998e+06   \n",
      "50%         4.000000      0.000000    2724.000000  9.006400e+06   \n",
      "75%        72.000000      2.000000    8690.000000  3.286627e+07   \n",
      "max    189197.000000  10512.000000  637587.000000  7.794799e+09   \n",
      "\n",
      "       population_density  \n",
      "count        25982.000000  \n",
      "mean           372.456628  \n",
      "std           1711.277415  \n",
      "min              0.137000  \n",
      "25%             39.497000  \n",
      "50%             90.672000  \n",
      "75%            222.873000  \n",
      "max          19347.500000  \n"
     ]
    }
   ],
   "source": [
    "dfalldata = pd.read_csv(csvpath)\n",
    "dforigin = pd.read_csv(csvpath, usecols=['location', 'date', 'new_cases', 'new_deaths', 'new_tests', \n",
    "                                         'population', 'population_density'])\n",
    "print(dforigin.head(2))\n",
    "print()\n",
    "print(dforigin.tail(2))\n",
    "print()\n",
    "print(dforigin.describe())"
   ]
  },
  {
   "cell_type": "code",
   "execution_count": 18,
   "metadata": {},
   "outputs": [
    {
     "name": "stdout",
     "output_type": "stream",
     "text": [
      "27169 (27169, 7)\n",
      "df index:  RangeIndex(start=0, stop=27169, step=1)\n",
      "df columns:  Index(['location', 'date', 'new_cases', 'new_deaths', 'new_tests',\n",
      "       'population', 'population_density'],\n",
      "      dtype='object')\n",
      "\n",
      "df index:  Index(['2019-12-31', '2019-12-31', '2019-12-31', '2019-12-31', '2019-12-31',\n",
      "       '2019-12-31', '2019-12-31', '2019-12-31', '2019-12-31', '2019-12-31',\n",
      "       ...\n",
      "       '2020-06-30', '2020-06-30', '2020-06-30', '2020-06-30', '2020-06-30',\n",
      "       '2020-06-30', '2020-06-30', '2020-06-30', '2020-06-30', '2020-06-30'],\n",
      "      dtype='object', name='date', length=27169)\n",
      "\n",
      "               location  new_cases  new_deaths  new_tests  population  \\\n",
      "date                                                                    \n",
      "2019-12-31  Afghanistan        0.0         0.0        NaN  38928341.0   \n",
      "2019-12-31    Macedonia        0.0         0.0        NaN   2083380.0   \n",
      "\n",
      "            population_density  \n",
      "date                            \n",
      "2019-12-31              54.422  \n",
      "2019-12-31              82.600  \n"
     ]
    }
   ],
   "source": [
    "df = dforigin.copy()\n",
    "print(len(df), df.shape)\n",
    "print('df index: ', df.index)\n",
    "print('df columns: ', df.columns)\n",
    "print()\n",
    "df.set_index('date', inplace=True)\n",
    "df.sort_index(inplace=True)\n",
    "print('df index: ', df.index)\n",
    "print()\n",
    "print(df.head(2))"
   ]
  },
  {
   "cell_type": "code",
   "execution_count": 19,
   "metadata": {},
   "outputs": [
    {
     "name": "stdout",
     "output_type": "stream",
     "text": [
      "                        new_cases  new_deaths  new_tests\n",
      "location    date                                        \n",
      "Afghanistan 2019-12-31        0.0         0.0        NaN\n",
      "            2020-01-01        0.0         0.0        NaN\n",
      "            2020-01-02        0.0         0.0        NaN\n",
      "\n",
      "df.index.nlevels: 2\n",
      "df.index.names: ['location', 'date']\n",
      "MultiIndex([('Afghanistan', '2019-12-31'),\n",
      "            ('Afghanistan', '2020-01-01')],\n",
      "           names=['location', 'date'])\n",
      "Index(['2019-12-31', '2020-01-01'], dtype='object', name='date')\n",
      "\n",
      "                     new_cases  new_deaths\n",
      "location date                             \n",
      "Austria  2020-01-01        0.0         0.0\n",
      "         2020-01-02        0.0         0.0\n",
      "         2020-01-03        0.0         0.0\n",
      "\n",
      "\n",
      "                        new_cases  new_deaths\n",
      "location    date                             \n",
      "Afghanistan 2020-01-01        0.0         0.0\n",
      "            2020-01-02        0.0         0.0\n",
      "            2020-01-03        0.0         0.0\n",
      "            2020-01-04        0.0         0.0\n",
      "            2020-01-05        0.0         0.0\n",
      "...                           ...         ...\n",
      "Argentina   2020-06-28     5287.0        40.0\n",
      "            2020-06-29        0.0        10.0\n",
      "            2020-06-30     4524.0        63.0\n",
      "Armenia     2019-12-31        0.0         0.0\n",
      "            2020-01-01        0.0         0.0\n",
      "\n",
      "[991 rows x 2 columns]\n",
      "\n",
      "                                 new_cases  new_deaths\n",
      "location             date                             \n",
      "Afghanistan          2020-01-01        0.0         0.0\n",
      "Algeria              2020-01-01        0.0         0.0\n",
      "Armenia              2020-01-01        0.0         0.0\n",
      "Australia            2020-01-01        0.0         0.0\n",
      "Austria              2020-01-01        0.0         0.0\n",
      "...                                    ...         ...\n",
      "United Arab Emirates 2020-01-01        0.0         0.0\n",
      "United Kingdom       2020-01-01        0.0         0.0\n",
      "United States        2020-01-01        0.0         0.0\n",
      "Vietnam              2020-01-01        0.0         0.0\n",
      "World                2020-01-01        0.0         0.0\n",
      "\n",
      "[68 rows x 2 columns]\n"
     ]
    }
   ],
   "source": [
    "# Multi-level index\n",
    "df = (dforigin[['location', 'date', 'new_cases', 'new_deaths', 'new_tests']]\n",
    "      .copy()\n",
    "      .set_index(['location', 'date'])\n",
    "      .sort_index())\n",
    "print(df.head(3))\n",
    "print()\n",
    "\n",
    "# df['location'] and df[['location', 'date']] --> KeyError\n",
    "print('df.index.nlevels:', df.index.nlevels)\n",
    "print('df.index.names:', df.index.names)\n",
    "print(df.index[:2])\n",
    "print(df.index.levels[1][:2])\n",
    "print()\n",
    "print(df.loc[('Austria', '2020-01-01'):('Austria', '2020-01-03'), ['new_cases', 'new_deaths']])\n",
    "print(), print()\n",
    "print(df.loc[('Afghanistan', '2020-01-01'):('Armenia', '2020-01-01'), ['new_cases', 'new_deaths']])\n",
    "print()\n",
    "idx = pd.IndexSlice\n",
    "print(df.loc[idx[:, '2020-01-01'], ['new_cases', 'new_deaths']])"
   ]
  },
  {
   "cell_type": "code",
   "execution_count": 20,
   "metadata": {
    "scrolled": true
   },
   "outputs": [
    {
     "name": "stdout",
     "output_type": "stream",
     "text": [
      "df.loc[100000] = None\n",
      "              location        date  new_cases  new_deaths  new_tests  \\\n",
      "27167   International  2020-03-02        0.0         0.0        NaN   \n",
      "27168   International  2020-03-10       -9.0         1.0        NaN   \n",
      "100000            NaN         NaN        NaN         NaN        NaN   \n",
      "\n",
      "        population  population_density  \n",
      "27167          NaN                 NaN  \n",
      "27168          NaN                 NaN  \n",
      "100000         NaN                 NaN  \n",
      "\n",
      "df.isna().sum().sum():  21788\n",
      "\n",
      "df[100000] = None !new column is added with title 100000! \n",
      "              location        date new_cases new_deaths new_tests population  \\\n",
      "27167   International  2020-03-02         0          0       $$$        $$$   \n",
      "27168   International  2020-03-10        -9          1       $$$        $$$   \n",
      "100000            $$$         $$$       $$$        $$$       $$$        $$$   \n",
      "\n",
      "       population_density 100000  \n",
      "27167                 $$$   None  \n",
      "27168                 $$$   None  \n",
      "100000                $$$   None  \n",
      "\n",
      "df.isna().sum().sum():  27170\n"
     ]
    }
   ],
   "source": [
    "df = dforigin.copy()\n",
    "df.loc[100000] = None\n",
    "print('df.loc[100000] = None\\n', df.tail(3))\n",
    "print()\n",
    "print('df.isna().sum().sum(): ', df.isna().sum().sum())\n",
    "print()\n",
    "df.fillna('$$$', inplace=True)\n",
    "df[100000] = None\n",
    "print('df[100000] = None !new column is added with title 100000! \\n', df.tail(3))\n",
    "print()\n",
    "print('df.isna().sum().sum(): ', df.isna().sum().sum())"
   ]
  },
  {
   "cell_type": "markdown",
   "metadata": {},
   "source": [
    "#### Group by"
   ]
  },
  {
   "cell_type": "code",
   "execution_count": 21,
   "metadata": {},
   "outputs": [
    {
     "name": "stdout",
     "output_type": "stream",
     "text": [
      "Afghanistan\n",
      "type(frame):  <class 'pandas.core.frame.DataFrame'>\n",
      "               location  new_cases  new_deaths  new_tests  population  \\\n",
      "date                                                                    \n",
      "2019-12-31  Afghanistan        0.0         0.0        NaN  38928341.0   \n",
      "2020-01-01  Afghanistan        0.0         0.0        NaN  38928341.0   \n",
      "\n",
      "            population_density  \n",
      "date                            \n",
      "2019-12-31              54.422  \n",
      "2020-01-01              54.422  \n"
     ]
    }
   ],
   "source": [
    "df = dforigin.copy().set_index('date').sort_index()\n",
    "group, frame = next(iter(df.groupby('location')))\n",
    "print(group)\n",
    "print('type(frame): ', type(frame))\n",
    "print(frame.head(2))"
   ]
  },
  {
   "cell_type": "code",
   "execution_count": 22,
   "metadata": {},
   "outputs": [
    {
     "name": "stdout",
     "output_type": "stream",
     "text": [
      "            new_cases         new_deaths new_tests\n",
      "                  sum    amax    average       sum\n",
      "location                                          \n",
      "Afghanistan   31238.0  1063.0   4.236994       0.0\n",
      "Albania        2466.0    82.0   0.508772       0.0\n",
      "Algeria       13571.0   305.0   5.084270       0.0\n"
     ]
    }
   ],
   "source": [
    "df = dforigin.copy()\n",
    "print(df.groupby('location').agg({'new_cases': [np.sum, np.max], 'new_deaths': np.average, 'new_tests': np.sum}).head(3))"
   ]
  },
  {
   "cell_type": "code",
   "execution_count": 23,
   "metadata": {
    "scrolled": true
   },
   "outputs": [
    {
     "name": "stdout",
     "output_type": "stream",
     "text": [
      "            new_cases         new_deaths       new_tests     \n",
      "                  sum    amax        sum  amax       sum amax\n",
      "location                                                     \n",
      "Afghanistan   31238.0  1063.0      733.0  42.0       0.0  NaN\n",
      "Albania        2466.0    82.0       58.0   3.0       0.0  NaN\n",
      "\n",
      "                 sum                            max                     \n",
      "           new_cases new_deaths new_tests new_cases new_deaths new_tests\n",
      "date                                                                    \n",
      "2020-06-29  320292.0     6088.0  722687.0  160146.0     3044.0  289488.0\n",
      "2020-06-30  320094.0     7460.0       0.0  160047.0     3730.0       NaN\n"
     ]
    },
    {
     "name": "stderr",
     "output_type": "stream",
     "text": [
      "C:\\Users\\Abtin\\Miniconda2\\envs\\py36\\lib\\site-packages\\pandas\\core\\groupby\\generic.py:1455: FutureWarning: using a dict with renaming is deprecated and will be removed\n",
      "in a future version.\n",
      "\n",
      "For column-specific groupby renaming, use named aggregation\n",
      "\n",
      "    >>> df.groupby(...).agg(name=('column', aggfunc))\n",
      "\n",
      "  return super().aggregate(arg, *args, **kwargs)\n"
     ]
    }
   ],
   "source": [
    "df = dforigin.copy().set_index(['location', 'date']).sort_index()\n",
    "print(df.groupby(level=0)['new_cases', 'new_deaths', 'new_tests'].agg([np.sum,np.max]).head(2))\n",
    "print()\n",
    "print(df.groupby(level=1)['new_cases', 'new_deaths', 'new_tests'].agg({'sum': np.sum, 'max': np.max}).tail(2))"
   ]
  },
  {
   "cell_type": "markdown",
   "metadata": {},
   "source": [
    "#### Pivot tables"
   ]
  },
  {
   "cell_type": "code",
   "execution_count": 24,
   "metadata": {},
   "outputs": [
    {
     "data": {
      "text/html": [
       "<div>\n",
       "<style scoped>\n",
       "    .dataframe tbody tr th:only-of-type {\n",
       "        vertical-align: middle;\n",
       "    }\n",
       "\n",
       "    .dataframe tbody tr th {\n",
       "        vertical-align: top;\n",
       "    }\n",
       "\n",
       "    .dataframe thead th {\n",
       "        text-align: right;\n",
       "    }\n",
       "</style>\n",
       "<table border=\"1\" class=\"dataframe\">\n",
       "  <thead>\n",
       "    <tr style=\"text-align: right;\">\n",
       "      <th>location</th>\n",
       "      <th>Afghanistan</th>\n",
       "      <th>Albania</th>\n",
       "      <th>Algeria</th>\n",
       "      <th>Andorra</th>\n",
       "      <th>Angola</th>\n",
       "      <th>Anguilla</th>\n",
       "      <th>Antigua and Barbuda</th>\n",
       "      <th>Argentina</th>\n",
       "      <th>Armenia</th>\n",
       "      <th>Aruba</th>\n",
       "      <th>...</th>\n",
       "      <th>Uruguay</th>\n",
       "      <th>Uzbekistan</th>\n",
       "      <th>Vatican</th>\n",
       "      <th>Venezuela</th>\n",
       "      <th>Vietnam</th>\n",
       "      <th>Western Sahara</th>\n",
       "      <th>World</th>\n",
       "      <th>Yemen</th>\n",
       "      <th>Zambia</th>\n",
       "      <th>Zimbabwe</th>\n",
       "    </tr>\n",
       "    <tr>\n",
       "      <th>date</th>\n",
       "      <th></th>\n",
       "      <th></th>\n",
       "      <th></th>\n",
       "      <th></th>\n",
       "      <th></th>\n",
       "      <th></th>\n",
       "      <th></th>\n",
       "      <th></th>\n",
       "      <th></th>\n",
       "      <th></th>\n",
       "      <th></th>\n",
       "      <th></th>\n",
       "      <th></th>\n",
       "      <th></th>\n",
       "      <th></th>\n",
       "      <th></th>\n",
       "      <th></th>\n",
       "      <th></th>\n",
       "      <th></th>\n",
       "      <th></th>\n",
       "      <th></th>\n",
       "    </tr>\n",
       "  </thead>\n",
       "  <tbody>\n",
       "    <tr>\n",
       "      <td>2019-12-31</td>\n",
       "      <td>0.0</td>\n",
       "      <td>NaN</td>\n",
       "      <td>0.0</td>\n",
       "      <td>NaN</td>\n",
       "      <td>NaN</td>\n",
       "      <td>NaN</td>\n",
       "      <td>NaN</td>\n",
       "      <td>NaN</td>\n",
       "      <td>0.0</td>\n",
       "      <td>NaN</td>\n",
       "      <td>...</td>\n",
       "      <td>NaN</td>\n",
       "      <td>NaN</td>\n",
       "      <td>NaN</td>\n",
       "      <td>NaN</td>\n",
       "      <td>0.0</td>\n",
       "      <td>NaN</td>\n",
       "      <td>27.0</td>\n",
       "      <td>NaN</td>\n",
       "      <td>NaN</td>\n",
       "      <td>NaN</td>\n",
       "    </tr>\n",
       "    <tr>\n",
       "      <td>2020-01-01</td>\n",
       "      <td>0.0</td>\n",
       "      <td>NaN</td>\n",
       "      <td>0.0</td>\n",
       "      <td>NaN</td>\n",
       "      <td>NaN</td>\n",
       "      <td>NaN</td>\n",
       "      <td>NaN</td>\n",
       "      <td>NaN</td>\n",
       "      <td>0.0</td>\n",
       "      <td>NaN</td>\n",
       "      <td>...</td>\n",
       "      <td>NaN</td>\n",
       "      <td>NaN</td>\n",
       "      <td>NaN</td>\n",
       "      <td>NaN</td>\n",
       "      <td>0.0</td>\n",
       "      <td>NaN</td>\n",
       "      <td>0.0</td>\n",
       "      <td>NaN</td>\n",
       "      <td>NaN</td>\n",
       "      <td>NaN</td>\n",
       "    </tr>\n",
       "    <tr>\n",
       "      <td>2020-01-02</td>\n",
       "      <td>0.0</td>\n",
       "      <td>NaN</td>\n",
       "      <td>0.0</td>\n",
       "      <td>NaN</td>\n",
       "      <td>NaN</td>\n",
       "      <td>NaN</td>\n",
       "      <td>NaN</td>\n",
       "      <td>NaN</td>\n",
       "      <td>0.0</td>\n",
       "      <td>NaN</td>\n",
       "      <td>...</td>\n",
       "      <td>NaN</td>\n",
       "      <td>NaN</td>\n",
       "      <td>NaN</td>\n",
       "      <td>NaN</td>\n",
       "      <td>0.0</td>\n",
       "      <td>NaN</td>\n",
       "      <td>0.0</td>\n",
       "      <td>NaN</td>\n",
       "      <td>NaN</td>\n",
       "      <td>NaN</td>\n",
       "    </tr>\n",
       "    <tr>\n",
       "      <td>2020-01-03</td>\n",
       "      <td>0.0</td>\n",
       "      <td>NaN</td>\n",
       "      <td>0.0</td>\n",
       "      <td>NaN</td>\n",
       "      <td>NaN</td>\n",
       "      <td>NaN</td>\n",
       "      <td>NaN</td>\n",
       "      <td>NaN</td>\n",
       "      <td>0.0</td>\n",
       "      <td>NaN</td>\n",
       "      <td>...</td>\n",
       "      <td>NaN</td>\n",
       "      <td>NaN</td>\n",
       "      <td>NaN</td>\n",
       "      <td>NaN</td>\n",
       "      <td>0.0</td>\n",
       "      <td>NaN</td>\n",
       "      <td>17.0</td>\n",
       "      <td>NaN</td>\n",
       "      <td>NaN</td>\n",
       "      <td>NaN</td>\n",
       "    </tr>\n",
       "    <tr>\n",
       "      <td>2020-01-04</td>\n",
       "      <td>0.0</td>\n",
       "      <td>NaN</td>\n",
       "      <td>0.0</td>\n",
       "      <td>NaN</td>\n",
       "      <td>NaN</td>\n",
       "      <td>NaN</td>\n",
       "      <td>NaN</td>\n",
       "      <td>NaN</td>\n",
       "      <td>0.0</td>\n",
       "      <td>NaN</td>\n",
       "      <td>...</td>\n",
       "      <td>NaN</td>\n",
       "      <td>NaN</td>\n",
       "      <td>NaN</td>\n",
       "      <td>NaN</td>\n",
       "      <td>0.0</td>\n",
       "      <td>NaN</td>\n",
       "      <td>0.0</td>\n",
       "      <td>NaN</td>\n",
       "      <td>NaN</td>\n",
       "      <td>NaN</td>\n",
       "    </tr>\n",
       "    <tr>\n",
       "      <td>...</td>\n",
       "      <td>...</td>\n",
       "      <td>...</td>\n",
       "      <td>...</td>\n",
       "      <td>...</td>\n",
       "      <td>...</td>\n",
       "      <td>...</td>\n",
       "      <td>...</td>\n",
       "      <td>...</td>\n",
       "      <td>...</td>\n",
       "      <td>...</td>\n",
       "      <td>...</td>\n",
       "      <td>...</td>\n",
       "      <td>...</td>\n",
       "      <td>...</td>\n",
       "      <td>...</td>\n",
       "      <td>...</td>\n",
       "      <td>...</td>\n",
       "      <td>...</td>\n",
       "      <td>...</td>\n",
       "      <td>...</td>\n",
       "      <td>...</td>\n",
       "    </tr>\n",
       "    <tr>\n",
       "      <td>2020-06-26</td>\n",
       "      <td>460.0</td>\n",
       "      <td>78.0</td>\n",
       "      <td>197.0</td>\n",
       "      <td>0.0</td>\n",
       "      <td>8.0</td>\n",
       "      <td>0.0</td>\n",
       "      <td>0.0</td>\n",
       "      <td>2606.0</td>\n",
       "      <td>1530.0</td>\n",
       "      <td>0.0</td>\n",
       "      <td>...</td>\n",
       "      <td>5.0</td>\n",
       "      <td>238.0</td>\n",
       "      <td>0.0</td>\n",
       "      <td>198.0</td>\n",
       "      <td>0.0</td>\n",
       "      <td>0.0</td>\n",
       "      <td>181511.0</td>\n",
       "      <td>61.0</td>\n",
       "      <td>8.0</td>\n",
       "      <td>21.0</td>\n",
       "    </tr>\n",
       "    <tr>\n",
       "      <td>2020-06-27</td>\n",
       "      <td>276.0</td>\n",
       "      <td>77.0</td>\n",
       "      <td>240.0</td>\n",
       "      <td>0.0</td>\n",
       "      <td>15.0</td>\n",
       "      <td>0.0</td>\n",
       "      <td>0.0</td>\n",
       "      <td>0.0</td>\n",
       "      <td>662.0</td>\n",
       "      <td>0.0</td>\n",
       "      <td>...</td>\n",
       "      <td>12.0</td>\n",
       "      <td>262.0</td>\n",
       "      <td>0.0</td>\n",
       "      <td>216.0</td>\n",
       "      <td>1.0</td>\n",
       "      <td>0.0</td>\n",
       "      <td>189197.0</td>\n",
       "      <td>13.0</td>\n",
       "      <td>34.0</td>\n",
       "      <td>10.0</td>\n",
       "    </tr>\n",
       "    <tr>\n",
       "      <td>2020-06-28</td>\n",
       "      <td>165.0</td>\n",
       "      <td>61.0</td>\n",
       "      <td>283.0</td>\n",
       "      <td>0.0</td>\n",
       "      <td>32.0</td>\n",
       "      <td>0.0</td>\n",
       "      <td>0.0</td>\n",
       "      <td>5287.0</td>\n",
       "      <td>736.0</td>\n",
       "      <td>0.0</td>\n",
       "      <td>...</td>\n",
       "      <td>5.0</td>\n",
       "      <td>235.0</td>\n",
       "      <td>0.0</td>\n",
       "      <td>351.0</td>\n",
       "      <td>1.0</td>\n",
       "      <td>183.0</td>\n",
       "      <td>181290.0</td>\n",
       "      <td>14.0</td>\n",
       "      <td>0.0</td>\n",
       "      <td>6.0</td>\n",
       "    </tr>\n",
       "    <tr>\n",
       "      <td>2020-06-29</td>\n",
       "      <td>351.0</td>\n",
       "      <td>72.0</td>\n",
       "      <td>305.0</td>\n",
       "      <td>0.0</td>\n",
       "      <td>23.0</td>\n",
       "      <td>0.0</td>\n",
       "      <td>0.0</td>\n",
       "      <td>0.0</td>\n",
       "      <td>482.0</td>\n",
       "      <td>0.0</td>\n",
       "      <td>...</td>\n",
       "      <td>5.0</td>\n",
       "      <td>306.0</td>\n",
       "      <td>0.0</td>\n",
       "      <td>167.0</td>\n",
       "      <td>1.0</td>\n",
       "      <td>0.0</td>\n",
       "      <td>160146.0</td>\n",
       "      <td>15.0</td>\n",
       "      <td>26.0</td>\n",
       "      <td>0.0</td>\n",
       "    </tr>\n",
       "    <tr>\n",
       "      <td>2020-06-30</td>\n",
       "      <td>271.0</td>\n",
       "      <td>64.0</td>\n",
       "      <td>298.0</td>\n",
       "      <td>0.0</td>\n",
       "      <td>9.0</td>\n",
       "      <td>0.0</td>\n",
       "      <td>1.0</td>\n",
       "      <td>4524.0</td>\n",
       "      <td>0.0</td>\n",
       "      <td>2.0</td>\n",
       "      <td>...</td>\n",
       "      <td>3.0</td>\n",
       "      <td>267.0</td>\n",
       "      <td>0.0</td>\n",
       "      <td>233.0</td>\n",
       "      <td>0.0</td>\n",
       "      <td>0.0</td>\n",
       "      <td>160047.0</td>\n",
       "      <td>10.0</td>\n",
       "      <td>11.0</td>\n",
       "      <td>7.0</td>\n",
       "    </tr>\n",
       "  </tbody>\n",
       "</table>\n",
       "<p>183 rows × 212 columns</p>\n",
       "</div>"
      ],
      "text/plain": [
       "location    Afghanistan  Albania  Algeria  Andorra  Angola  Anguilla  \\\n",
       "date                                                                   \n",
       "2019-12-31          0.0      NaN      0.0      NaN     NaN       NaN   \n",
       "2020-01-01          0.0      NaN      0.0      NaN     NaN       NaN   \n",
       "2020-01-02          0.0      NaN      0.0      NaN     NaN       NaN   \n",
       "2020-01-03          0.0      NaN      0.0      NaN     NaN       NaN   \n",
       "2020-01-04          0.0      NaN      0.0      NaN     NaN       NaN   \n",
       "...                 ...      ...      ...      ...     ...       ...   \n",
       "2020-06-26        460.0     78.0    197.0      0.0     8.0       0.0   \n",
       "2020-06-27        276.0     77.0    240.0      0.0    15.0       0.0   \n",
       "2020-06-28        165.0     61.0    283.0      0.0    32.0       0.0   \n",
       "2020-06-29        351.0     72.0    305.0      0.0    23.0       0.0   \n",
       "2020-06-30        271.0     64.0    298.0      0.0     9.0       0.0   \n",
       "\n",
       "location    Antigua and Barbuda  Argentina  Armenia  Aruba  ...  Uruguay  \\\n",
       "date                                                        ...            \n",
       "2019-12-31                  NaN        NaN      0.0    NaN  ...      NaN   \n",
       "2020-01-01                  NaN        NaN      0.0    NaN  ...      NaN   \n",
       "2020-01-02                  NaN        NaN      0.0    NaN  ...      NaN   \n",
       "2020-01-03                  NaN        NaN      0.0    NaN  ...      NaN   \n",
       "2020-01-04                  NaN        NaN      0.0    NaN  ...      NaN   \n",
       "...                         ...        ...      ...    ...  ...      ...   \n",
       "2020-06-26                  0.0     2606.0   1530.0    0.0  ...      5.0   \n",
       "2020-06-27                  0.0        0.0    662.0    0.0  ...     12.0   \n",
       "2020-06-28                  0.0     5287.0    736.0    0.0  ...      5.0   \n",
       "2020-06-29                  0.0        0.0    482.0    0.0  ...      5.0   \n",
       "2020-06-30                  1.0     4524.0      0.0    2.0  ...      3.0   \n",
       "\n",
       "location    Uzbekistan  Vatican  Venezuela  Vietnam  Western Sahara     World  \\\n",
       "date                                                                            \n",
       "2019-12-31         NaN      NaN        NaN      0.0             NaN      27.0   \n",
       "2020-01-01         NaN      NaN        NaN      0.0             NaN       0.0   \n",
       "2020-01-02         NaN      NaN        NaN      0.0             NaN       0.0   \n",
       "2020-01-03         NaN      NaN        NaN      0.0             NaN      17.0   \n",
       "2020-01-04         NaN      NaN        NaN      0.0             NaN       0.0   \n",
       "...                ...      ...        ...      ...             ...       ...   \n",
       "2020-06-26       238.0      0.0      198.0      0.0             0.0  181511.0   \n",
       "2020-06-27       262.0      0.0      216.0      1.0             0.0  189197.0   \n",
       "2020-06-28       235.0      0.0      351.0      1.0           183.0  181290.0   \n",
       "2020-06-29       306.0      0.0      167.0      1.0             0.0  160146.0   \n",
       "2020-06-30       267.0      0.0      233.0      0.0             0.0  160047.0   \n",
       "\n",
       "location    Yemen  Zambia  Zimbabwe  \n",
       "date                                 \n",
       "2019-12-31    NaN     NaN       NaN  \n",
       "2020-01-01    NaN     NaN       NaN  \n",
       "2020-01-02    NaN     NaN       NaN  \n",
       "2020-01-03    NaN     NaN       NaN  \n",
       "2020-01-04    NaN     NaN       NaN  \n",
       "...           ...     ...       ...  \n",
       "2020-06-26   61.0     8.0      21.0  \n",
       "2020-06-27   13.0    34.0      10.0  \n",
       "2020-06-28   14.0     0.0       6.0  \n",
       "2020-06-29   15.0    26.0       0.0  \n",
       "2020-06-30   10.0    11.0       7.0  \n",
       "\n",
       "[183 rows x 212 columns]"
      ]
     },
     "execution_count": 24,
     "metadata": {},
     "output_type": "execute_result"
    }
   ],
   "source": [
    "df = dforigin.copy()\n",
    "df.pivot_table(values= 'new_cases', index='date', columns= 'location', aggfunc=np.sum).sort_index()"
   ]
  },
  {
   "cell_type": "markdown",
   "metadata": {},
   "source": [
    "#### Date and time"
   ]
  },
  {
   "cell_type": "code",
   "execution_count": 25,
   "metadata": {},
   "outputs": [
    {
     "name": "stdout",
     "output_type": "stream",
     "text": [
      "2016-09-01 10:05:00\n",
      "2016-01\n",
      "2012-07-04 00:00:00\n",
      "2 days 00:00:00\n",
      "2016-09-14 11:10:00\n"
     ]
    }
   ],
   "source": [
    "print(pd.Timestamp('9/1/2016 10:05AM'))\n",
    "print(pd.Period('1/2016'))\n",
    "print(pd.to_datetime('4.7.12', dayfirst=True))\n",
    "print(pd.Timestamp('9/3/2016')-pd.Timestamp('9/1/2016'))\n",
    "print(pd.Timestamp('9/2/2016 8:10AM') + pd.Timedelta('12D 3H'))"
   ]
  },
  {
   "cell_type": "code",
   "execution_count": 26,
   "metadata": {},
   "outputs": [
    {
     "name": "stdout",
     "output_type": "stream",
     "text": [
      "Index(['Tuesday', 'Tuesday', 'Tuesday', 'Tuesday', 'Tuesday', 'Tuesday',\n",
      "       'Tuesday', 'Tuesday', 'Tuesday', 'Tuesday',\n",
      "       ...\n",
      "       'Tuesday', 'Tuesday', 'Tuesday', 'Tuesday', 'Tuesday', 'Tuesday',\n",
      "       'Tuesday', 'Tuesday', 'Tuesday', 'Tuesday'],\n",
      "      dtype='object', name='date', length=27169)\n",
      "\n"
     ]
    },
    {
     "data": {
      "text/html": [
       "<div>\n",
       "<style scoped>\n",
       "    .dataframe tbody tr th:only-of-type {\n",
       "        vertical-align: middle;\n",
       "    }\n",
       "\n",
       "    .dataframe tbody tr th {\n",
       "        vertical-align: top;\n",
       "    }\n",
       "\n",
       "    .dataframe thead th {\n",
       "        text-align: right;\n",
       "    }\n",
       "</style>\n",
       "<table border=\"1\" class=\"dataframe\">\n",
       "  <thead>\n",
       "    <tr style=\"text-align: right;\">\n",
       "      <th></th>\n",
       "      <th>location</th>\n",
       "      <th>new_cases</th>\n",
       "      <th>new_deaths</th>\n",
       "      <th>new_tests</th>\n",
       "      <th>population</th>\n",
       "      <th>population_density</th>\n",
       "    </tr>\n",
       "    <tr>\n",
       "      <th>date</th>\n",
       "      <th></th>\n",
       "      <th></th>\n",
       "      <th></th>\n",
       "      <th></th>\n",
       "      <th></th>\n",
       "      <th></th>\n",
       "    </tr>\n",
       "  </thead>\n",
       "  <tbody>\n",
       "    <tr>\n",
       "      <td>2020-05-01</td>\n",
       "      <td>Bosnia and Herzegovina</td>\n",
       "      <td>101.0</td>\n",
       "      <td>2.0</td>\n",
       "      <td>NaN</td>\n",
       "      <td>3280815.0</td>\n",
       "      <td>68.496</td>\n",
       "    </tr>\n",
       "    <tr>\n",
       "      <td>2020-05-01</td>\n",
       "      <td>Ecuador</td>\n",
       "      <td>259.0</td>\n",
       "      <td>17.0</td>\n",
       "      <td>NaN</td>\n",
       "      <td>17643060.0</td>\n",
       "      <td>66.939</td>\n",
       "    </tr>\n",
       "    <tr>\n",
       "      <td>2020-05-01</td>\n",
       "      <td>Argentina</td>\n",
       "      <td>143.0</td>\n",
       "      <td>4.0</td>\n",
       "      <td>2845.0</td>\n",
       "      <td>45195777.0</td>\n",
       "      <td>16.177</td>\n",
       "    </tr>\n",
       "    <tr>\n",
       "      <td>2020-05-01</td>\n",
       "      <td>Colombia</td>\n",
       "      <td>296.0</td>\n",
       "      <td>15.0</td>\n",
       "      <td>4293.0</td>\n",
       "      <td>50882884.0</td>\n",
       "      <td>44.223</td>\n",
       "    </tr>\n",
       "    <tr>\n",
       "      <td>2020-05-01</td>\n",
       "      <td>Haiti</td>\n",
       "      <td>5.0</td>\n",
       "      <td>2.0</td>\n",
       "      <td>NaN</td>\n",
       "      <td>11402533.0</td>\n",
       "      <td>398.448</td>\n",
       "    </tr>\n",
       "    <tr>\n",
       "      <td>...</td>\n",
       "      <td>...</td>\n",
       "      <td>...</td>\n",
       "      <td>...</td>\n",
       "      <td>...</td>\n",
       "      <td>...</td>\n",
       "      <td>...</td>\n",
       "    </tr>\n",
       "    <tr>\n",
       "      <td>2020-05-03</td>\n",
       "      <td>Ecuador</td>\n",
       "      <td>1128.0</td>\n",
       "      <td>308.0</td>\n",
       "      <td>NaN</td>\n",
       "      <td>17643060.0</td>\n",
       "      <td>66.939</td>\n",
       "    </tr>\n",
       "    <tr>\n",
       "      <td>2020-05-03</td>\n",
       "      <td>Australia</td>\n",
       "      <td>16.0</td>\n",
       "      <td>0.0</td>\n",
       "      <td>21524.0</td>\n",
       "      <td>25499881.0</td>\n",
       "      <td>3.202</td>\n",
       "    </tr>\n",
       "    <tr>\n",
       "      <td>2020-05-03</td>\n",
       "      <td>Zambia</td>\n",
       "      <td>10.0</td>\n",
       "      <td>0.0</td>\n",
       "      <td>NaN</td>\n",
       "      <td>18383956.0</td>\n",
       "      <td>22.995</td>\n",
       "    </tr>\n",
       "    <tr>\n",
       "      <td>2020-05-03</td>\n",
       "      <td>Djibouti</td>\n",
       "      <td>15.0</td>\n",
       "      <td>0.0</td>\n",
       "      <td>NaN</td>\n",
       "      <td>988002.0</td>\n",
       "      <td>41.285</td>\n",
       "    </tr>\n",
       "    <tr>\n",
       "      <td>2020-05-03</td>\n",
       "      <td>Barbados</td>\n",
       "      <td>0.0</td>\n",
       "      <td>0.0</td>\n",
       "      <td>NaN</td>\n",
       "      <td>287371.0</td>\n",
       "      <td>664.463</td>\n",
       "    </tr>\n",
       "  </tbody>\n",
       "</table>\n",
       "<p>626 rows × 6 columns</p>\n",
       "</div>"
      ],
      "text/plain": [
       "                          location  new_cases  new_deaths  new_tests  \\\n",
       "date                                                                   \n",
       "2020-05-01  Bosnia and Herzegovina      101.0         2.0        NaN   \n",
       "2020-05-01                 Ecuador      259.0        17.0        NaN   \n",
       "2020-05-01               Argentina      143.0         4.0     2845.0   \n",
       "2020-05-01                Colombia      296.0        15.0     4293.0   \n",
       "2020-05-01                   Haiti        5.0         2.0        NaN   \n",
       "...                            ...        ...         ...        ...   \n",
       "2020-05-03                 Ecuador     1128.0       308.0        NaN   \n",
       "2020-05-03               Australia       16.0         0.0    21524.0   \n",
       "2020-05-03                  Zambia       10.0         0.0        NaN   \n",
       "2020-05-03                Djibouti       15.0         0.0        NaN   \n",
       "2020-05-03                Barbados        0.0         0.0        NaN   \n",
       "\n",
       "            population  population_density  \n",
       "date                                        \n",
       "2020-05-01   3280815.0              68.496  \n",
       "2020-05-01  17643060.0              66.939  \n",
       "2020-05-01  45195777.0              16.177  \n",
       "2020-05-01  50882884.0              44.223  \n",
       "2020-05-01  11402533.0             398.448  \n",
       "...                ...                 ...  \n",
       "2020-05-03  17643060.0              66.939  \n",
       "2020-05-03  25499881.0               3.202  \n",
       "2020-05-03  18383956.0              22.995  \n",
       "2020-05-03    988002.0              41.285  \n",
       "2020-05-03    287371.0             664.463  \n",
       "\n",
       "[626 rows x 6 columns]"
      ]
     },
     "execution_count": 26,
     "metadata": {},
     "output_type": "execute_result"
    }
   ],
   "source": [
    "df = dforigin.copy().set_index('date').sort_index()\n",
    "df.index = pd.to_datetime(df.index)\n",
    "print(df.index.weekday_name)\n",
    "print()\n",
    "df['2020-05-01':'2020-05-03']"
   ]
  },
  {
   "cell_type": "markdown",
   "metadata": {},
   "source": [
    "## Statistics <a class=\"anchor\" id=\"statistics\"></a>"
   ]
  },
  {
   "cell_type": "code",
   "execution_count": 27,
   "metadata": {},
   "outputs": [
    {
     "name": "stdout",
     "output_type": "stream",
     "text": [
      "binomial:  [1 1 0 1 1 1 0 1 1 0]\n",
      "uniform :  [3.34 0.72 3.07 0.87 4.96 4.37 4.66 4.32 2.73 2.46]\n",
      "normal  :  [-1.41  1.53 -1.04  0.19  1.46 -0.87  0.5  -0.18  0.96  0.2 ]\n"
     ]
    }
   ],
   "source": [
    "print('binomial: ', np.random.binomial(1, 0.9, 10))\n",
    "print('uniform : ', np.random.uniform(0, 5, 10))\n",
    "print('normal  : ', np.random.normal(0, 1, 10))"
   ]
  },
  {
   "cell_type": "markdown",
   "metadata": {},
   "source": [
    "**stats.ttest_ind?**\n",
    "\n",
    "Calculate the T-test for the means of *two independent* samples of scores.\n",
    "\n",
    "This is a two-sided test for the null hypothesis that 2 independent samples\n",
    "have identical average (expected) values. This test assumes that the\n",
    "populations have identical variances by default."
   ]
  },
  {
   "cell_type": "markdown",
   "metadata": {},
   "source": [
    "**Hypothesis: Italy and Spain have reported different cumulative death-rate?**"
   ]
  },
  {
   "cell_type": "code",
   "execution_count": 28,
   "metadata": {
    "scrolled": true
   },
   "outputs": [
    {
     "name": "stdout",
     "output_type": "stream",
     "text": [
      "                        new_cases  new_deaths\n",
      "location    date                             \n",
      "Afghanistan 2019-12-31        0.0         0.0\n",
      "            2020-01-01        0.0         0.0\n",
      "            2020-01-02        0.0         0.0\n",
      "\n",
      "country1df:             cases  deaths\n",
      "date                     \n",
      "2019-12-31    0.0     0.0\n",
      "2020-01-01    0.0     0.0\n",
      "2020-01-02    0.0     0.0\n",
      "\n",
      "country2df:             cases  deaths\n",
      "date                     \n",
      "2019-12-31    0.0     0.0\n",
      "2020-01-01    0.0     0.0\n",
      "2020-01-02    0.0     0.0\n",
      "\n",
      "pvalue 5.834289798761605e-07\n",
      "At 0.01 level of significance, Italy and Spain have different death-rates\n"
     ]
    }
   ],
   "source": [
    "# calculating the average increase rate in new_deaths for each country\n",
    "alpha = 0.01\n",
    "country1, country2 = 'Italy', 'Spain'\n",
    "df = (dfalldata[['location', 'date', 'new_cases', 'new_deaths']]\n",
    "      .copy())\n",
    "df['date'] = pd.to_datetime(df['date'])\n",
    "df = df.set_index(['location', 'date']).sort_index()\n",
    "print(df.head(3))\n",
    "print()\n",
    "c1df = df.loc[country1]\n",
    "c1df[['new_cases', 'new_deaths']] = (c1df[['new_cases', 'new_deaths']]\n",
    "                                 .cumsum())\n",
    "c1df.rename(columns={'new_cases':'cases', 'new_deaths':'deaths'}, inplace=True)\n",
    "print('country1df:', c1df.head(3))\n",
    "print()\n",
    "c2df = df.loc[country2]\n",
    "c2df[['new_cases', 'new_deaths']] = (c2df[['new_cases', 'new_deaths']]\n",
    "                                 .cumsum())\n",
    "c2df.rename(columns={'new_cases':'cases', 'new_deaths':'deaths'}, inplace=True)\n",
    "print('country2df:', c2df.head(3))\n",
    "print()\n",
    "# Use the data after first death reported\n",
    "c1initdate = c1df.loc[c1df['deaths'] > 0, 'deaths'].idxmin()\n",
    "c1df = c1df.loc[c1initdate:]\n",
    "c2initdate = c2df.loc[c2df['deaths'] > 0, 'deaths'].idxmin()\n",
    "c2df = c2df.loc[c2initdate:]\n",
    "c1df['death_rate'] = (c1df['deaths'] / c1df['cases']).fillna(0)\n",
    "c2df['death_rate'] = (c2df['deaths'] / c2df['cases']).fillna(0)\n",
    "res = stats.ttest_ind(c1df['death_rate'], c2df['death_rate'], equal_var=False)\n",
    "if res.pvalue < alpha:\n",
    "    # reject null hypothesis\n",
    "    print('pvalue', res.pvalue)\n",
    "    print(f'At {alpha} level of significance, {country1} and {country2} have different death-rates')\n",
    "else:\n",
    "    print('pvalue', res.pvalue)\n",
    "    print(f'At {alpha} level of significance, {country1} and {country2} might have the same death-rates')"
   ]
  },
  {
   "cell_type": "markdown",
   "metadata": {},
   "source": [
    "## Plotting <a class=\"anchor\" id=\"plotting\"></a>"
   ]
  },
  {
   "cell_type": "code",
   "execution_count": 29,
   "metadata": {},
   "outputs": [],
   "source": [
    "%matplotlib inline"
   ]
  },
  {
   "cell_type": "code",
   "execution_count": 30,
   "metadata": {},
   "outputs": [
    {
     "data": {
      "text/plain": [
       "'module://ipykernel.pylab.backend_inline'"
      ]
     },
     "execution_count": 30,
     "metadata": {},
     "output_type": "execute_result"
    }
   ],
   "source": [
    "import matplotlib as mpl\n",
    "import matplotlib.pyplot as plt\n",
    "mpl.get_backend()"
   ]
  },
  {
   "cell_type": "code",
   "execution_count": 31,
   "metadata": {
    "scrolled": false
   },
   "outputs": [
    {
     "name": "stderr",
     "output_type": "stream",
     "text": [
      "C:\\Users\\Abtin\\Miniconda2\\envs\\py36\\lib\\site-packages\\pandas\\plotting\\_matplotlib\\converter.py:103: FutureWarning: Using an implicitly registered datetime converter for a matplotlib plotting method. The converter was registered by pandas on import. Future versions of pandas will require you to explicitly register matplotlib converters.\n",
      "\n",
      "To register the converters:\n",
      "\t>>> from pandas.plotting import register_matplotlib_converters\n",
      "\t>>> register_matplotlib_converters()\n",
      "  warnings.warn(msg, FutureWarning)\n"
     ]
    },
    {
     "data": {
      "image/png": "[encoded data removed]",
      "text/plain": [
       "<Figure size 432x288 with 1 Axes>"
      ]
     },
     "metadata": {
      "needs_background": "light"
     },
     "output_type": "display_data"
    }
   ],
   "source": [
    "plt.figure()\n",
    "plt.plot(c1df['death_rate'], '-o', label=country1)\n",
    "plt.plot(c2df['death_rate'], '-o', label=country2)\n",
    "plt.xlabel('day')\n",
    "plt.ylabel('death-rate')\n",
    "plt.title('Death-rate time series')\n",
    "# add the legend to loc=4 (the lower right hand corner), also gets rid of the frame and adds a title\n",
    "plt.legend(loc='upper left', frameon=False, title='Countries')\n",
    "\n",
    "# get the current axes\n",
    "ax = plt.gca()\n",
    "# Set axis properties [xmin, xmax, ymin, ymax]\n",
    "ax.axis([pd.to_datetime('2020-03-01'), pd.to_datetime('2020-05-01'),0.0,0.2])\n",
    "plt.xticks(rotation=15);"
   ]
  },
  {
   "cell_type": "code",
   "execution_count": 32,
   "metadata": {},
   "outputs": [
    {
     "data": {
      "image/png": "[encoded data removed]",
      "text/plain": [
       "<Figure size 432x288 with 2 Axes>"
      ]
     },
     "metadata": {
      "needs_background": "light"
     },
     "output_type": "display_data"
    }
   ],
   "source": [
    "plt.figure()\n",
    "plt.subplot(1,2,1)\n",
    "plt.plot(c1df['death_rate'], '-', label=country1)\n",
    "plt.xlabel('day')\n",
    "plt.ylabel('death-rate')\n",
    "plt.xticks(rotation=30);\n",
    "\n",
    "plt.subplot(1,2,2)\n",
    "plt.plot(c2df['death_rate'], '-', label=country2)\n",
    "plt.xlabel('day')\n",
    "plt.xticks(rotation=30);"
   ]
  },
  {
   "cell_type": "markdown",
   "metadata": {},
   "source": [
    "### Histograms "
   ]
  },
  {
   "cell_type": "code",
   "execution_count": 33,
   "metadata": {},
   "outputs": [
    {
     "data": {
      "image/png": "[encoded data removed]",
      "text/plain": [
       "<Figure size 432x288 with 6 Axes>"
      ]
     },
     "metadata": {
      "needs_background": "light"
     },
     "output_type": "display_data"
    }
   ],
   "source": [
    "# create 2x2 grid of axis subplots\n",
    "fig, ((ax1, ax2, ax3), (ax4, ax5, ax6)) = plt.subplots(2, 3, sharex=True)\n",
    "axs = [ax1, ax2, ax3, ax4, ax5, ax6]\n",
    "\n",
    "# draw n = 10, 100, 1000, and 10000 samples from the normal distribution and plot corresponding histograms\n",
    "for n in range(0,len(axs)):\n",
    "    sample_size = 10**(n+1)\n",
    "    sample = np.random.normal(loc=0.0, scale=1.0, size=sample_size)\n",
    "    axs[n].hist(sample)\n",
    "    axs[n].set_title('n={}'.format(sample_size))"
   ]
  },
  {
   "cell_type": "markdown",
   "metadata": {},
   "source": [
    "### Box and Whisker Plots"
   ]
  },
  {
   "cell_type": "code",
   "execution_count": 34,
   "metadata": {},
   "outputs": [],
   "source": [
    "import pandas as pd\n",
    "normal_sample = np.random.normal(loc=0.0, scale=1.0, size=10000)\n",
    "random_sample = np.random.random(size=10000)\n",
    "gamma_sample = np.random.gamma(2, size=10000)\n",
    "\n",
    "df = pd.DataFrame({'normal': normal_sample, \n",
    "                   'random': random_sample, \n",
    "                   'gamma': gamma_sample})"
   ]
  },
  {
   "cell_type": "code",
   "execution_count": 35,
   "metadata": {},
   "outputs": [
    {
     "data": {
      "text/html": [
       "<div>\n",
       "<style scoped>\n",
       "    .dataframe tbody tr th:only-of-type {\n",
       "        vertical-align: middle;\n",
       "    }\n",
       "\n",
       "    .dataframe tbody tr th {\n",
       "        vertical-align: top;\n",
       "    }\n",
       "\n",
       "    .dataframe thead th {\n",
       "        text-align: right;\n",
       "    }\n",
       "</style>\n",
       "<table border=\"1\" class=\"dataframe\">\n",
       "  <thead>\n",
       "    <tr style=\"text-align: right;\">\n",
       "      <th></th>\n",
       "      <th>normal</th>\n",
       "      <th>random</th>\n",
       "      <th>gamma</th>\n",
       "    </tr>\n",
       "  </thead>\n",
       "  <tbody>\n",
       "    <tr>\n",
       "      <td>count</td>\n",
       "      <td>10000.000000</td>\n",
       "      <td>10000.000000</td>\n",
       "      <td>10000.000000</td>\n",
       "    </tr>\n",
       "    <tr>\n",
       "      <td>mean</td>\n",
       "      <td>0.010872</td>\n",
       "      <td>0.500558</td>\n",
       "      <td>2.030739</td>\n",
       "    </tr>\n",
       "    <tr>\n",
       "      <td>std</td>\n",
       "      <td>0.999814</td>\n",
       "      <td>0.286454</td>\n",
       "      <td>1.427460</td>\n",
       "    </tr>\n",
       "    <tr>\n",
       "      <td>min</td>\n",
       "      <td>-3.620293</td>\n",
       "      <td>0.000015</td>\n",
       "      <td>0.008230</td>\n",
       "    </tr>\n",
       "    <tr>\n",
       "      <td>25%</td>\n",
       "      <td>-0.658375</td>\n",
       "      <td>0.252495</td>\n",
       "      <td>0.985872</td>\n",
       "    </tr>\n",
       "    <tr>\n",
       "      <td>50%</td>\n",
       "      <td>0.007117</td>\n",
       "      <td>0.500201</td>\n",
       "      <td>1.711114</td>\n",
       "    </tr>\n",
       "    <tr>\n",
       "      <td>75%</td>\n",
       "      <td>0.686617</td>\n",
       "      <td>0.746222</td>\n",
       "      <td>2.724918</td>\n",
       "    </tr>\n",
       "    <tr>\n",
       "      <td>max</td>\n",
       "      <td>4.260238</td>\n",
       "      <td>0.999847</td>\n",
       "      <td>12.283583</td>\n",
       "    </tr>\n",
       "  </tbody>\n",
       "</table>\n",
       "</div>"
      ],
      "text/plain": [
       "             normal        random         gamma\n",
       "count  10000.000000  10000.000000  10000.000000\n",
       "mean       0.010872      0.500558      2.030739\n",
       "std        0.999814      0.286454      1.427460\n",
       "min       -3.620293      0.000015      0.008230\n",
       "25%       -0.658375      0.252495      0.985872\n",
       "50%        0.007117      0.500201      1.711114\n",
       "75%        0.686617      0.746222      2.724918\n",
       "max        4.260238      0.999847     12.283583"
      ]
     },
     "execution_count": 35,
     "metadata": {},
     "output_type": "execute_result"
    }
   ],
   "source": [
    "df.describe()"
   ]
  },
  {
   "cell_type": "code",
   "execution_count": 36,
   "metadata": {},
   "outputs": [
    {
     "data": {
      "image/png": "[encoded data removed]",
      "text/plain": [
       "<Figure size 432x288 with 2 Axes>"
      ]
     },
     "metadata": {
      "needs_background": "light"
     },
     "output_type": "display_data"
    }
   ],
   "source": [
    "plt.figure()\n",
    "plt.subplot(1,2,1)\n",
    "# plot boxplots for all three of df's columns\n",
    "_ = plt.boxplot([ df['normal'], df['random'], df['gamma'] ], whis='range')\n",
    "\n",
    "plt.subplot(1,2,2)\n",
    "# if `whis` argument isn't passed, boxplot defaults to showing 1.5*interquartile (IQR) whiskers with outliers\n",
    "_ = plt.boxplot([ df['normal'], df['random'], df['gamma'] ])"
   ]
  },
  {
   "cell_type": "markdown",
   "metadata": {},
   "source": [
    "### Heatmaps"
   ]
  },
  {
   "cell_type": "code",
   "execution_count": 37,
   "metadata": {
    "scrolled": false
   },
   "outputs": [
    {
     "data": {
      "text/plain": [
       "<matplotlib.colorbar.Colorbar at 0xb07c930>"
      ]
     },
     "execution_count": 37,
     "metadata": {},
     "output_type": "execute_result"
    },
    {
     "data": {
      "image/png": "[encoded data removed]",
      "text/plain": [
       "<Figure size 432x288 with 2 Axes>"
      ]
     },
     "metadata": {
      "needs_background": "light"
     },
     "output_type": "display_data"
    }
   ],
   "source": [
    "plt.figure()\n",
    "\n",
    "Y = np.random.normal(loc=0.0, scale=1.0, size=10000)\n",
    "X = np.random.random(size=10000)\n",
    "_ = plt.hist2d(X, Y, bins=25)\n",
    "\n",
    "# add a colorbar legend\n",
    "plt.colorbar()"
   ]
  },
  {
   "cell_type": "markdown",
   "metadata": {},
   "source": [
    "### Pandas Visualization"
   ]
  },
  {
   "cell_type": "code",
   "execution_count": 38,
   "metadata": {},
   "outputs": [],
   "source": [
    "%matplotlib inline\n",
    "plt.style.use('seaborn-colorblind')"
   ]
  },
  {
   "cell_type": "code",
   "execution_count": 39,
   "metadata": {
    "scrolled": false
   },
   "outputs": [
    {
     "data": {
      "text/plain": [
       "<matplotlib.axes._subplots.AxesSubplot at 0xb3aa150>"
      ]
     },
     "execution_count": 39,
     "metadata": {},
     "output_type": "execute_result"
    },
    {
     "data": {
      "image/png": "[encoded data removed]",
      "text/plain": [
       "<Figure size 1080x576 with 4 Axes>"
      ]
     },
     "metadata": {
      "needs_background": "light"
     },
     "output_type": "display_data"
    }
   ],
   "source": [
    "df = dforigin.copy()\n",
    "df['date'] = pd.to_datetime(df['date'])\n",
    "df['death-per-100k'] = df['new_deaths'] / df['population'] * 100000\n",
    "dfpiv = (df.pivot_table(values= 'death-per-100k', index='date', columns= 'location')\n",
    "      .sort_index()\n",
    "      .fillna(0))\n",
    "\n",
    "\n",
    "fig, axes = plt.subplots(nrows=2, ncols=2)\n",
    "fig.set_figwidth(15); fig.set_figheight(8)\n",
    "countries = ['United States', 'United Kingdom', 'Germany', 'France', 'Italy']\n",
    "dfpiv.loc['2020-03-01': '2020-06-01', countries].plot(ax=axes[0,0])\n",
    "countries = ['Iran', 'Turkey', 'Saudi Arabia', 'Russia', 'Pakistan']\n",
    "dfpiv.loc['2020-03-01': '2020-06-01', countries].plot(ax=axes[0, 1])\n",
    "countries = ['China', 'India', 'Indonesia', 'Brazil', 'Nigeria']\n",
    "dfpiv.loc['2020-03-01': '2020-06-01', countries].plot(ax=axes[1, 0])\n",
    "countries = np.random.choice(dfpiv.columns, 5, replace=False)\n",
    "dfpiv.loc['2020-03-01': '2020-06-01', countries].plot(ax=axes[1, 1])"
   ]
  },
  {
   "cell_type": "code",
   "execution_count": 40,
   "metadata": {},
   "outputs": [
    {
     "data": {
      "text/plain": [
       "<matplotlib.axes._subplots.AxesSubplot at 0xb4ce430>"
      ]
     },
     "execution_count": 40,
     "metadata": {},
     "output_type": "execute_result"
    },
    {
     "data": {
      "text/plain": [
       "<Figure size 432x288 with 0 Axes>"
      ]
     },
     "metadata": {},
     "output_type": "display_data"
    },
    {
     "data": {
      "image/png": "[encoded data removed]",
      "text/plain": [
       "<Figure size 576x288 with 1 Axes>"
      ]
     },
     "metadata": {
      "needs_background": "light"
     },
     "output_type": "display_data"
    }
   ],
   "source": [
    "plt.figure()\n",
    "countries = ['United States', 'United Kingdom', 'Germany', 'France', 'Italy']\n",
    "dfpiv.loc['2020-03-01': '2020-06-01', countries].plot.kde(figsize=(8,4))"
   ]
  },
  {
   "cell_type": "markdown",
   "metadata": {},
   "source": [
    "[Kernel density estimation plots](https://en.wikipedia.org/wiki/Kernel_density_estimation) are useful for deriving a smooth continuous function from a given sample."
   ]
  },
  {
   "cell_type": "code",
   "execution_count": 41,
   "metadata": {},
   "outputs": [
    {
     "data": {
      "text/plain": [
       "<matplotlib.axes._subplots.AxesSubplot at 0xb55fa50>"
      ]
     },
     "execution_count": 41,
     "metadata": {},
     "output_type": "execute_result"
    },
    {
     "data": {
      "image/png": "[encoded data removed]",
      "text/plain": [
       "<Figure size 432x288 with 1 Axes>"
      ]
     },
     "metadata": {
      "needs_background": "light"
     },
     "output_type": "display_data"
    }
   ],
   "source": [
    "df = dforigin.copy().set_index('location')\n",
    "df['date'] = pd.to_datetime(df['date'])\n",
    "df = df.loc['Italy'].sort_values('date')\n",
    "df.plot('new_cases', 'new_deaths', kind='scatter')"
   ]
  },
  {
   "cell_type": "code",
   "execution_count": 42,
   "metadata": {
    "scrolled": false
   },
   "outputs": [
    {
     "data": {
      "image/png": "[encoded data removed]",
      "text/plain": [
       "<Figure size 720x432 with 2 Axes>"
      ]
     },
     "metadata": {
      "needs_background": "light"
     },
     "output_type": "display_data"
    }
   ],
   "source": [
    "df = dforigin.copy().set_index('location')\n",
    "df = df.loc['Germany'].sort_values('date', ascending=True)\n",
    "df = df[df['new_cases']> 0]\n",
    "# create a scatter plot of columns 'new_deaths' and 'new_cases', with changing color (c) and size (s) based on day and ratio\n",
    "day = np.arange(len(df))\n",
    "ratio = df['new_cases']/df['new_deaths']\n",
    "df.plot.scatter('new_deaths', 'new_cases', c=day, s=ratio, colormap='viridis', figsize=(10, 6))\n",
    "ax.set_aspect('equal')"
   ]
  },
  {
   "cell_type": "markdown",
   "metadata": {},
   "source": [
    "### Seaborn"
   ]
  },
  {
   "cell_type": "code",
   "execution_count": 43,
   "metadata": {},
   "outputs": [],
   "source": [
    "import numpy as np\n",
    "import pandas as pd\n",
    "import matplotlib.pyplot as plt\n",
    "import seaborn as sns\n",
    "\n",
    "%matplotlib inline"
   ]
  },
  {
   "cell_type": "code",
   "execution_count": 44,
   "metadata": {},
   "outputs": [],
   "source": [
    "df = dforigin[['date', 'location', 'new_cases', 'new_deaths', 'population']].copy().set_index('date').sort_index()\n",
    "df.index = pd.to_datetime(df.index)\n",
    "begin = df.index.max() - pd.Timedelta('15 days')\n",
    "df = df.loc[begin:]\n",
    "df['death-per-100k'] = df['new_deaths'] / df['population'] * 100000"
   ]
  },
  {
   "cell_type": "code",
   "execution_count": 45,
   "metadata": {},
   "outputs": [
    {
     "data": {
      "image/png": "[encoded data removed]",
      "text/plain": [
       "<Figure size 576x576 with 2 Axes>"
      ]
     },
     "metadata": {
      "needs_background": "light"
     },
     "output_type": "display_data"
    }
   ],
   "source": [
    "df = df[df['location'].isin(['United States', 'Italy', 'Germany', 'Canada'])]\n",
    "\n",
    "plt.figure(figsize= (8, 8))\n",
    "plt.subplot(211)\n",
    "sns.swarmplot('location', 'death-per-100k', data=df);\n",
    "plt.xticks(rotation=20);\n",
    "plt.subplot(212)\n",
    "sns.violinplot('location', 'death-per-100k', data=df);\n",
    "plt.xticks(rotation=20);"
   ]
  },
  {
   "cell_type": "code",
   "execution_count": 46,
   "metadata": {},
   "outputs": [],
   "source": [
    "df = (dforigin.loc[dforigin['location'].isin(['United States', 'Germany']), ['location', 'date', 'new_deaths']]\n",
    "      .copy().set_index('location'))\n",
    "df['date'] = pd.to_datetime(df['date'])\n",
    "df = df.sort_values('date')\n",
    "v1 = df.loc['United States', 'new_deaths']\n",
    "v2 = df.loc['Germany', 'new_deaths']"
   ]
  },
  {
   "cell_type": "code",
   "execution_count": 47,
   "metadata": {},
   "outputs": [
    {
     "data": {
      "text/plain": [
       "<Figure size 432x288 with 0 Axes>"
      ]
     },
     "metadata": {},
     "output_type": "display_data"
    },
    {
     "data": {
      "image/png": "[encoded data removed]",
      "text/plain": [
       "<Figure size 432x432 with 3 Axes>"
      ]
     },
     "metadata": {
      "needs_background": "light"
     },
     "output_type": "display_data"
    }
   ],
   "source": [
    "plt.clf()\n",
    "sns.jointplot(v1, v2, alpha=0.4);"
   ]
  },
  {
   "cell_type": "code",
   "execution_count": 48,
   "metadata": {},
   "outputs": [
    {
     "data": {
      "image/png": "[encoded data removed]",
      "text/plain": [
       "<Figure size 432x432 with 3 Axes>"
      ]
     },
     "metadata": {
      "needs_background": "light"
     },
     "output_type": "display_data"
    }
   ],
   "source": [
    "sns.jointplot(v1, v2, kind='hex');"
   ]
  },
  {
   "cell_type": "code",
   "execution_count": 49,
   "metadata": {},
   "outputs": [
    {
     "data": {
      "image/png": "[encoded data removed]",
      "text/plain": [
       "<Figure size 432x432 with 3 Axes>"
      ]
     },
     "metadata": {},
     "output_type": "display_data"
    }
   ],
   "source": [
    "# set the seaborn style for all the following plots\n",
    "sns.set_style('white')\n",
    "\n",
    "sns.jointplot(v1, v2, kind='kde', space=0);"
   ]
  }
 ],
 "metadata": {
  "kernelspec": {
   "display_name": "Python 3",
   "language": "python",
   "name": "python3"
  },
  "language_info": {
   "codemirror_mode": {
    "name": "ipython",
    "version": 3
   },
   "file_extension": ".py",
   "mimetype": "text/x-python",
   "name": "python",
   "nbconvert_exporter": "python",
   "pygments_lexer": "ipython3",
   "version": "3.6.9"
  },
  "toc": {
   "base_numbering": 1,
   "nav_menu": {},
   "number_sections": true,
   "sideBar": true,
   "skip_h1_title": false,
   "title_cell": "Table of Contents",
   "title_sidebar": "Contents",
   "toc_cell": false,
   "toc_position": {},
   "toc_section_display": true,
   "toc_window_display": true
  }
 },
 "nbformat": 4,
 "nbformat_minor": 2
}
