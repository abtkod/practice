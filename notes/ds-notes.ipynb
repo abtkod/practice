{
 "cells": [
  {
   "cell_type": "code",
   "execution_count": 1,
   "metadata": {},
   "outputs": [],
   "source": [
    "import numpy as np\n",
    "import pandas as pd\n",
    "\n",
    "%precision 2\n",
    "\n",
    "csvpath = 'https://raw.githubusercontent.com/nytimes/covid-19-data/master/us-states.csv'"
   ]
  },
  {
   "cell_type": "markdown",
   "metadata": {},
   "source": [
    "## Numpy"
   ]
  },
  {
   "cell_type": "code",
   "execution_count": 2,
   "metadata": {
    "scrolled": true
   },
   "outputs": [
    {
     "name": "stdout",
     "output_type": "stream",
     "text": [
      "np.arange(1, 11, 2): [1 3 5 7 9]\n",
      "np.array(list(range(1, 11, 2))): [1 3 5 7 9]\n",
      "ar1 == ar2: [ True  True  True  True  True]\n",
      "np.array_equal(ar1, ar2): True\n",
      "\n",
      "np.arange(1, 11).reshape(2,5):\n",
      " [[ 1  2  3  4  5]\n",
      " [ 6  7  8  9 10]]\n",
      "\n",
      "multi-dimentional:\n",
      "[[[1 2]\n",
      "  [3 4]]\n",
      "\n",
      " [[5 6]\n",
      "  [7 8]]]\n",
      "\n",
      "np.linspace:\n",
      "[0.  0.1 0.2 0.3 0.4 0.5 0.6 0.7 0.8 0.9 1. ]\n",
      "\n",
      "np.diag\n",
      "[[1 0 0]\n",
      " [0 2 0]\n",
      " [0 0 3]]\n",
      "\n",
      "np.repeat\n",
      "[1 2 3 1 2 3 1 2 3]\n",
      "[1 1 1 2 2 2 3 3 3]\n",
      "\n",
      "np.vstack([ar1, ar1**2]):\n",
      " [[ 1  3  5  7  9]\n",
      " [ 1  9 25 49 81]]\n",
      "\n",
      "np.hstack([ar1, ar1**2]):\n",
      " [ 1  3  5  7  9  1  9 25 49 81]\n"
     ]
    }
   ],
   "source": [
    "ar1 = np.arange(1, 11, 2)\n",
    "ar2 = np.array(list(range(1, 11, 2)))\n",
    "print('np.arange(1, 11, 2):', ar1)\n",
    "print('np.array(list(range(1, 11, 2))):', ar2)\n",
    "print('ar1 == ar2:', ar1 == ar2)\n",
    "print('np.array_equal(ar1, ar2):', np.array_equal(ar1, ar2))\n",
    "print()\n",
    "ar3 = np.arange(1, 11).reshape(2,5)\n",
    "print('np.arange(1, 11).reshape(2,5):\\n', ar3)\n",
    "print()\n",
    "print('multi-dimentional:')\n",
    "ar4 = np.arange(1,9).reshape(2,2,2)\n",
    "print(ar4)\n",
    "print()\n",
    "print('np.linspace:')\n",
    "ar5 = np.linspace(0, 1, 11)\n",
    "print(ar5)\n",
    "print('\\nnp.diag')\n",
    "ar6 = np.diag([1,2,3])\n",
    "print(ar6)\n",
    "print('\\nnp.repeat')\n",
    "print(np.array([1,2,3]*3))\n",
    "print(np.repeat([1,2,3], 3))\n",
    "print()\n",
    "print('np.vstack([ar1, ar1**2]):\\n', np.vstack([ar1, ar1**2]))\n",
    "print()\n",
    "print('np.hstack([ar1, ar1**2]):\\n', np.hstack([ar1, ar1**2]))"
   ]
  },
  {
   "cell_type": "code",
   "execution_count": 3,
   "metadata": {},
   "outputs": [
    {
     "name": "stdout",
     "output_type": "stream",
     "text": [
      "[[0 1 2 3 4]\n",
      " [5 6 7 8 9]]\n",
      "\n",
      "[0 1 2 3 4 5 6 7 8 9]\n",
      "\n",
      "None\n",
      "\n",
      "[[0 1 2 3 4]\n",
      " [5 6 7 8 9]]\n"
     ]
    }
   ],
   "source": [
    "ar = np.arange(10)\n",
    "print(ar.reshape(2,5))\n",
    "print()\n",
    "print(ar)\n",
    "print()\n",
    "print(ar.resize(2,5))\n",
    "print()\n",
    "print(ar)"
   ]
  },
  {
   "cell_type": "code",
   "execution_count": 4,
   "metadata": {},
   "outputs": [
    {
     "name": "stdout",
     "output_type": "stream",
     "text": [
      "a: [1 2 3]\n",
      "np.dot(a,a): 14\n",
      "a.dot(a): 14\n",
      "a.dot(a.T): 14\n",
      "**********\n",
      "ar:\n",
      " [[1 2 3]\n",
      " [4 5 6]]\n",
      "ar.dot(ar.T):\n",
      " [[14 32]\n",
      " [32 77]]\n",
      "np.dot(ar,ar.T):\n",
      " [[14 32]\n",
      " [32 77]]\n",
      "np.inner(ar, ar):\n",
      " [[14 32]\n",
      " [32 77]]\n",
      "np.outer(ar, ar):\n",
      " [[ 1  2  3  4  5  6]\n",
      " [ 2  4  6  8 10 12]\n",
      " [ 3  6  9 12 15 18]\n",
      " [ 4  8 12 16 20 24]\n",
      " [ 5 10 15 20 25 30]\n",
      " [ 6 12 18 24 30 36]]\n"
     ]
    }
   ],
   "source": [
    "a = np.arange(1, 4)\n",
    "print('a:', a)\n",
    "print('np.dot(a,a):', np.dot(a, a))\n",
    "print('a.dot(a):', a.dot(a))\n",
    "print('a.dot(a.T):', a.dot(a.T))\n",
    "print('*'*10)\n",
    "ar = np.arange(1, 7).reshape(2,3)\n",
    "print('ar:\\n', ar)\n",
    "print('ar.dot(ar.T):\\n', ar.dot(ar.T))\n",
    "print('np.dot(ar,ar.T):\\n', np.dot(ar,ar.T))\n",
    "print('np.inner(ar, ar):\\n', np.inner(ar, ar))\n",
    "print('np.outer(ar, ar):\\n', np.outer(ar, ar))"
   ]
  },
  {
   "cell_type": "code",
   "execution_count": 5,
   "metadata": {},
   "outputs": [
    {
     "name": "stdout",
     "output_type": "stream",
     "text": [
      "[[[ 1  2  3]\n",
      "  [ 4  5  6]\n",
      "  [ 7  8  9]]\n",
      "\n",
      " [[10 11 12]\n",
      "  [13  0  0]\n",
      "  [16  0  0]]\n",
      "\n",
      " [[19 20 21]\n",
      "  [22  0  0]\n",
      "  [25  0  0]]]\n",
      "\n",
      "\n",
      "\n",
      "[[[ 1  2  3]\n",
      "  [ 4  5  6]\n",
      "  [ 7  8  9]]\n",
      "\n",
      " [[10 11 12]\n",
      "  [13 14 15]\n",
      "  [16 17 18]]\n",
      "\n",
      " [[19 20 21]\n",
      "  [22 23 24]\n",
      "  [25 26 27]]]\n"
     ]
    }
   ],
   "source": [
    "ar = np.arange(1, 28)\n",
    "ar.resize(3,3,3)\n",
    "arorigin = ar.copy()\n",
    "ar[-2:, -2:, -2:] = 0\n",
    "print(ar)\n",
    "print(), print(), print()\n",
    "print(arorigin)"
   ]
  },
  {
   "cell_type": "code",
   "execution_count": 6,
   "metadata": {},
   "outputs": [
    {
     "name": "stdout",
     "output_type": "stream",
     "text": [
      "13275\n",
      "0\n"
     ]
    },
    {
     "data": {
      "text/plain": [
       "array([[5, 7, 9, ..., 6, 5, 4],\n",
       "       [2, 8, 7, ..., 2, 5, 9],\n",
       "       [6, 6, 2, ..., 5, 3, 2],\n",
       "       ...,\n",
       "       [5, 9, 7, ..., 4, 4, 9],\n",
       "       [6, 8, 9, ..., 3, 4, 7],\n",
       "       [5, 3, 7, ..., 7, 1, 5]])"
      ]
     },
     "execution_count": 6,
     "metadata": {},
     "output_type": "execute_result"
    }
   ],
   "source": [
    "randar = np.random.randint(1, 10, (300,400)) #not inclusive\n",
    "print(np.sum(randar==1))\n",
    "print(np.sum(randar==10))\n",
    "randar"
   ]
  },
  {
   "cell_type": "code",
   "execution_count": 7,
   "metadata": {},
   "outputs": [
    {
     "name": "stdout",
     "output_type": "stream",
     "text": [
      "[0 1]\n",
      "[0 1]\n",
      "\n",
      "[2 3]\n",
      "[2 3]\n",
      "\n",
      "[[0 1]\n",
      " [2 3]]\n",
      "[[0 1]\n",
      " [2 3]]\n",
      "\n",
      "[[4 5]\n",
      " [6 7]]\n",
      "[[4 5]\n",
      " [6 7]]\n",
      "\n"
     ]
    }
   ],
   "source": [
    "ar = np.arange(4).reshape(2,2)\n",
    "for i,j in zip(ar, ar):\n",
    "    print(i)\n",
    "    print(j)\n",
    "    print()\n",
    "    \n",
    "ar = np.arange(8).reshape((2,2,2))\n",
    "for i,j in zip(ar, ar):\n",
    "    print(i)\n",
    "    print(j)\n",
    "    print()"
   ]
  },
  {
   "cell_type": "markdown",
   "metadata": {},
   "source": [
    "## Pandas"
   ]
  },
  {
   "cell_type": "markdown",
   "metadata": {},
   "source": [
    "### Series"
   ]
  },
  {
   "cell_type": "code",
   "execution_count": 54,
   "metadata": {},
   "outputs": [
    {
     "name": "stdout",
     "output_type": "stream",
     "text": [
      "A    10\n",
      "B    20\n",
      "C    30\n",
      "Name: Serie 1, dtype: int64\n",
      "\n",
      "A    10\n",
      "B    20\n",
      "C    30\n",
      "Name: Serie 2, dtype: int64\n",
      "\n",
      "A    True\n",
      "B    True\n",
      "C    True\n",
      "dtype: bool\n",
      "\n",
      "True\n"
     ]
    }
   ],
   "source": [
    "ser1 = pd.Series([10,20,30], index= ['A', 'B', 'C'], name='Serie 1')\n",
    "print(ser1)\n",
    "print()\n",
    "ser2 = pd.Series({'A':10, 'B':20, 'C':30}, name='Serie 2')\n",
    "print(ser2)\n",
    "print()\n",
    "print(ser1 == ser2)\n",
    "print()\n",
    "print(pd.Series.equals(ser1, ser2))"
   ]
  },
  {
   "cell_type": "code",
   "execution_count": 80,
   "metadata": {},
   "outputs": [
    {
     "name": "stdout",
     "output_type": "stream",
     "text": [
      "A    10.0\n",
      "B    20.0\n",
      "C     NaN\n",
      "dtype: float64\n",
      "\n",
      "index:  Index(['A', 'B', 'C'], dtype='object')\n",
      "\n",
      "values:  [10. 20. nan]\n",
      "\n",
      "float64\n",
      "3 (3,)\n",
      "\n",
      "10.0 20.0 nan\n",
      "10.0 20.0 nan\n",
      "10.0 20.0 nan\n",
      "\n",
      "count     2.000000\n",
      "mean     15.000000\n",
      "std       7.071068\n",
      "min      10.000000\n",
      "25%      12.500000\n",
      "50%      15.000000\n",
      "75%      17.500000\n",
      "max      20.000000\n",
      "dtype: float64\n"
     ]
    }
   ],
   "source": [
    "ser1 = pd.Series(data= {'A':10, 'B':20, 'C':None})\n",
    "print(ser1)\n",
    "print()\n",
    "print('index: ', ser1.index)\n",
    "print()\n",
    "print('values: ', ser1.values)\n",
    "print()\n",
    "print(ser1.dtype)\n",
    "print(len(ser1), ser1.shape)\n",
    "print()\n",
    "print(ser1[0], ser1['B'], ser1['C'])\n",
    "print(ser1.iloc[0], ser1.iloc[1], ser1.iloc[2])\n",
    "print(ser1.loc['A'], ser1.loc['B'], ser1.loc['C'])\n",
    "print()\n",
    "print(ser1.describe())"
   ]
  },
  {
   "cell_type": "code",
   "execution_count": 132,
   "metadata": {
    "scrolled": true
   },
   "outputs": [
    {
     "name": "stdout",
     "output_type": "stream",
     "text": [
      "s3:\n",
      "0    10.000\n",
      "1    20.000\n",
      "2    30.001\n",
      "3       NaN\n",
      "0    10.000\n",
      "1    20.000\n",
      "2    30.001\n",
      "3       NaN\n",
      "dtype: float64\n",
      "\n",
      "s3.iloc[0]:  10.0\n",
      "s3.loc[0]:\n",
      "0    10.0\n",
      "0    10.0\n",
      "dtype: float64\n",
      "\n",
      "s3[0]\n",
      "0    10.0\n",
      "0    10.0\n",
      "dtype: float64\n",
      "\n",
      "mathematical operations:\n",
      "s1 * s2\n",
      "0    100.000000\n",
      "1    400.000000\n",
      "2    900.060001\n",
      "3           NaN\n",
      "dtype: float64\n",
      "\n",
      "s1 / s2\n",
      "0    1.0\n",
      "1    1.0\n",
      "2    1.0\n",
      "3    NaN\n",
      "dtype: float64\n",
      "\n",
      "s1 + s2\n",
      "0    20.000\n",
      "1    40.000\n",
      "2    60.002\n",
      "3       NaN\n",
      "dtype: float64\n"
     ]
    }
   ],
   "source": [
    "s = pd.Series([10, 20, 30.001, None])\n",
    "s1 = s.copy()\n",
    "s2 = s.copy()\n",
    "s3 = s1.append(s2)\n",
    "print('s3:')\n",
    "print(s3)\n",
    "print()\n",
    "print('s3.iloc[0]: ', s3.iloc[0])\n",
    "print('s3.loc[0]:')\n",
    "print(s3.loc[0])\n",
    "print()\n",
    "print('s3[0]')\n",
    "print(s3[0])\n",
    "print()\n",
    "print('mathematical operations:')\n",
    "print('s1 * s2')\n",
    "print(s1 * s2)\n",
    "print()\n",
    "print('s1 / s2')\n",
    "print(s1 / s2)\n",
    "print()\n",
    "print('s1 + s2')\n",
    "print(s1 + s2)"
   ]
  },
  {
   "cell_type": "code",
   "execution_count": 188,
   "metadata": {},
   "outputs": [
    {
     "name": "stdout",
     "output_type": "stream",
     "text": [
      "0    11\n",
      "1    12\n",
      "2    13\n",
      "dtype: int64\n",
      "\n",
      "0      11\n",
      "1      12\n",
      "2      13\n",
      "3    None\n",
      "dtype: object\n",
      "\n",
      "s[3] == None:  True\n",
      "\n",
      "s[3] == np.nan:  False\n",
      "s[3] is np.nan:  False\n",
      "np.nan == np.nan:  False\n",
      "np.isnan(np.nan):  True\n",
      "pd.isna(s[3]): True\n",
      "pd.isna(s):\n",
      " 0    False\n",
      "1    False\n",
      "2    False\n",
      "3     True\n",
      "dtype: bool\n"
     ]
    }
   ],
   "source": [
    "s = pd.Series(range(10, 13))\n",
    "s += 1\n",
    "print(s)\n",
    "print()\n",
    "s[3] = None\n",
    "print(s)\n",
    "print()\n",
    "print('s[3] == None: ', s[3] == None)\n",
    "print()\n",
    "print('s[3] == np.nan: ', s[3] == np.nan)\n",
    "print('s[3] is np.nan: ', s[3] is np.nan)\n",
    "print('np.nan == np.nan: ', np.nan == np.nan)\n",
    "print('np.isnan(np.nan): ', np.isnan(np.nan))\n",
    "print('pd.isna(s[3]):', pd.isna(s[3]))\n",
    "print('pd.isna(s):\\n', pd.isna(s))"
   ]
  },
  {
   "cell_type": "markdown",
   "metadata": {},
   "source": [
    "### DataFrames"
   ]
  },
  {
   "cell_type": "code",
   "execution_count": 8,
   "metadata": {},
   "outputs": [
    {
     "name": "stdout",
     "output_type": "stream",
     "text": [
      "         date       state  fips  cases  deaths\n",
      "0  2020-01-21  Washington    53      1       0\n",
      "1  2020-01-22  Washington    53      1       0\n",
      "2  2020-01-23  Washington    53      1       0\n",
      "3  2020-01-24    Illinois    17      1       0\n",
      "4  2020-01-24  Washington    53      1       0\n",
      "\n",
      "            date          state  fips  cases  deaths\n",
      "4629  2020-05-25       Virginia    51  37727    1208\n",
      "4630  2020-05-25     Washington    53  21005    1076\n",
      "4631  2020-05-25  West Virginia    54   1782      73\n",
      "4632  2020-05-25      Wisconsin    55  15646     514\n",
      "4633  2020-05-25        Wyoming    56    843      12\n"
     ]
    }
   ],
   "source": [
    "dforigin = pd.read_csv(csvpath)\n",
    "print(dforigin.head())\n",
    "print()\n",
    "print(dforigin.tail())"
   ]
  },
  {
   "cell_type": "code",
   "execution_count": 28,
   "metadata": {},
   "outputs": [
    {
     "name": "stdout",
     "output_type": "stream",
     "text": [
      "4634 (4634, 5)\n",
      "RangeIndex(start=0, stop=4634, step=1)\n",
      "Index(['date', 'state', 'fips', 'cases', 'deaths'], dtype='object')\n",
      "\n",
      "              fips          cases        deaths\n",
      "count  4634.000000    4634.000000   4634.000000\n",
      "mean     31.557833   12015.623651    667.282909\n",
      "std      18.448211   35142.199772   2558.967206\n",
      "min       1.000000       1.000000      0.000000\n",
      "25%      17.000000     108.000000      2.000000\n",
      "50%      31.000000    1580.000000     43.000000\n",
      "75%      46.000000    8689.500000    312.000000\n",
      "max      78.000000  367625.000000  29138.000000\n"
     ]
    }
   ],
   "source": [
    "df = dforigin.copy()\n",
    "print(len(df), df.shape)\n",
    "print(df.index)\n",
    "print(df.columns)\n",
    "print()\n",
    "print(df.describe())"
   ]
  }
 ],
 "metadata": {
  "kernelspec": {
   "display_name": "Python 3",
   "language": "python",
   "name": "python3"
  },
  "language_info": {
   "codemirror_mode": {
    "name": "ipython",
    "version": 3
   },
   "file_extension": ".py",
   "mimetype": "text/x-python",
   "name": "python",
   "nbconvert_exporter": "python",
   "pygments_lexer": "ipython3",
   "version": "3.6.9"
  },
  "toc": {
   "base_numbering": 1,
   "nav_menu": {},
   "number_sections": true,
   "sideBar": true,
   "skip_h1_title": false,
   "title_cell": "Table of Contents",
   "title_sidebar": "Contents",
   "toc_cell": false,
   "toc_position": {},
   "toc_section_display": true,
   "toc_window_display": true
  }
 },
 "nbformat": 4,
 "nbformat_minor": 2
}
