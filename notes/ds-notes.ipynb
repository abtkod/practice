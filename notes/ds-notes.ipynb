{
 "cells": [
  {
   "cell_type": "markdown",
   "metadata": {},
   "source": [
    "## Outline:\n",
    "* [Numpy](#numpy)\n",
    "* [Pandas](#pandas)\n",
    "* [Statistics](#statistics)\n",
    "* [Plotting](#plotting)"
   ]
  },
  {
   "cell_type": "code",
   "execution_count": 1,
   "metadata": {},
   "outputs": [],
   "source": [
    "import numpy as np\n",
    "import pandas as pd\n",
    "from scipy import stats\n",
    "\n",
    "%precision 2\n",
    "\n",
    "csvpath = 'https://covid.ourworldindata.org/data/owid-covid-data.csv'"
   ]
  },
  {
   "cell_type": "markdown",
   "metadata": {},
   "source": [
    "## Numpy <a class=\"anchor\" id=\"numpy\"></a>"
   ]
  },
  {
   "cell_type": "code",
   "execution_count": 2,
   "metadata": {
    "scrolled": true
   },
   "outputs": [
    {
     "name": "stdout",
     "output_type": "stream",
     "text": [
      "np.arange(1, 11, 2): [1 3 5 7 9]\n",
      "np.array(list(range(1, 11, 2))): [1 3 5 7 9]\n",
      "ar1 == ar2: [ True  True  True  True  True]\n",
      "np.array_equal(ar1, ar2): True\n",
      "\n",
      "np.arange(1, 11).reshape(2,5):\n",
      " [[ 1  2  3  4  5]\n",
      " [ 6  7  8  9 10]]\n",
      "\n",
      "multi-dimentional:\n",
      "[[[1 2]\n",
      "  [3 4]]\n",
      "\n",
      " [[5 6]\n",
      "  [7 8]]]\n",
      "\n",
      "np.linspace:\n",
      "[0.  0.1 0.2 0.3 0.4 0.5 0.6 0.7 0.8 0.9 1. ]\n",
      "\n",
      "np.diag\n",
      "[[1 0 0]\n",
      " [0 2 0]\n",
      " [0 0 3]]\n",
      "\n",
      "np.repeat\n",
      "[1 2 3 1 2 3 1 2 3]\n",
      "[1 1 1 2 2 2 3 3 3]\n",
      "\n",
      "np.vstack([ar1, ar1**2]):\n",
      " [[ 1  3  5  7  9]\n",
      " [ 1  9 25 49 81]]\n",
      "\n",
      "np.hstack([ar1, ar1**2]):\n",
      " [ 1  3  5  7  9  1  9 25 49 81]\n"
     ]
    }
   ],
   "source": [
    "ar1 = np.arange(1, 11, 2)\n",
    "ar2 = np.array(list(range(1, 11, 2)))\n",
    "print('np.arange(1, 11, 2):', ar1)\n",
    "print('np.array(list(range(1, 11, 2))):', ar2)\n",
    "print('ar1 == ar2:', ar1 == ar2)\n",
    "print('np.array_equal(ar1, ar2):', np.array_equal(ar1, ar2))\n",
    "print()\n",
    "ar3 = np.arange(1, 11).reshape(2,5)\n",
    "print('np.arange(1, 11).reshape(2,5):\\n', ar3)\n",
    "print()\n",
    "print('multi-dimentional:')\n",
    "ar4 = np.arange(1,9).reshape(2,2,2)\n",
    "print(ar4)\n",
    "print()\n",
    "print('np.linspace:')\n",
    "ar5 = np.linspace(0, 1, 11)\n",
    "print(ar5)\n",
    "print('\\nnp.diag')\n",
    "ar6 = np.diag([1,2,3])\n",
    "print(ar6)\n",
    "print('\\nnp.repeat')\n",
    "print(np.array([1,2,3]*3))\n",
    "print(np.repeat([1,2,3], 3))\n",
    "print()\n",
    "print('np.vstack([ar1, ar1**2]):\\n', np.vstack([ar1, ar1**2]))\n",
    "print()\n",
    "print('np.hstack([ar1, ar1**2]):\\n', np.hstack([ar1, ar1**2]))"
   ]
  },
  {
   "cell_type": "code",
   "execution_count": 3,
   "metadata": {},
   "outputs": [
    {
     "name": "stdout",
     "output_type": "stream",
     "text": [
      "[[0 1 2 3 4]\n",
      " [5 6 7 8 9]]\n",
      "\n",
      "[0 1 2 3 4 5 6 7 8 9]\n",
      "\n",
      "None\n",
      "\n",
      "[[0 1 2 3 4]\n",
      " [5 6 7 8 9]]\n"
     ]
    }
   ],
   "source": [
    "ar = np.arange(10)\n",
    "print(ar.reshape(2,5))\n",
    "print()\n",
    "print(ar)\n",
    "print()\n",
    "print(ar.resize(2,5))\n",
    "print()\n",
    "print(ar)"
   ]
  },
  {
   "cell_type": "code",
   "execution_count": 4,
   "metadata": {},
   "outputs": [
    {
     "name": "stdout",
     "output_type": "stream",
     "text": [
      "a: [1 2 3]\n",
      "np.dot(a,a): 14\n",
      "a.dot(a): 14\n",
      "a.dot(a.T): 14\n",
      "**********\n",
      "ar:\n",
      " [[1 2 3]\n",
      " [4 5 6]]\n",
      "ar.dot(ar.T):\n",
      " [[14 32]\n",
      " [32 77]]\n",
      "np.dot(ar,ar.T):\n",
      " [[14 32]\n",
      " [32 77]]\n",
      "np.inner(ar, ar):\n",
      " [[14 32]\n",
      " [32 77]]\n",
      "np.outer(ar, ar):\n",
      " [[ 1  2  3  4  5  6]\n",
      " [ 2  4  6  8 10 12]\n",
      " [ 3  6  9 12 15 18]\n",
      " [ 4  8 12 16 20 24]\n",
      " [ 5 10 15 20 25 30]\n",
      " [ 6 12 18 24 30 36]]\n"
     ]
    }
   ],
   "source": [
    "a = np.arange(1, 4)\n",
    "print('a:', a)\n",
    "print('np.dot(a,a):', np.dot(a, a))\n",
    "print('a.dot(a):', a.dot(a))\n",
    "print('a.dot(a.T):', a.dot(a.T))\n",
    "print('*'*10)\n",
    "ar = np.arange(1, 7).reshape(2,3)\n",
    "print('ar:\\n', ar)\n",
    "print('ar.dot(ar.T):\\n', ar.dot(ar.T))\n",
    "print('np.dot(ar,ar.T):\\n', np.dot(ar,ar.T))\n",
    "print('np.inner(ar, ar):\\n', np.inner(ar, ar))\n",
    "print('np.outer(ar, ar):\\n', np.outer(ar, ar))"
   ]
  },
  {
   "cell_type": "code",
   "execution_count": 5,
   "metadata": {},
   "outputs": [
    {
     "name": "stdout",
     "output_type": "stream",
     "text": [
      "[[[ 1  2  3]\n",
      "  [ 4  5  6]\n",
      "  [ 7  8  9]]\n",
      "\n",
      " [[10 11 12]\n",
      "  [13  0  0]\n",
      "  [16  0  0]]\n",
      "\n",
      " [[19 20 21]\n",
      "  [22  0  0]\n",
      "  [25  0  0]]]\n",
      "\n",
      "\n",
      "\n",
      "[[[ 1  2  3]\n",
      "  [ 4  5  6]\n",
      "  [ 7  8  9]]\n",
      "\n",
      " [[10 11 12]\n",
      "  [13 14 15]\n",
      "  [16 17 18]]\n",
      "\n",
      " [[19 20 21]\n",
      "  [22 23 24]\n",
      "  [25 26 27]]]\n"
     ]
    }
   ],
   "source": [
    "ar = np.arange(1, 28)\n",
    "ar.resize(3,3,3)\n",
    "arorigin = ar.copy()\n",
    "ar[-2:, -2:, -2:] = 0\n",
    "print(ar)\n",
    "print(), print(), print()\n",
    "print(arorigin)"
   ]
  },
  {
   "cell_type": "code",
   "execution_count": 6,
   "metadata": {},
   "outputs": [
    {
     "name": "stdout",
     "output_type": "stream",
     "text": [
      "13295\n",
      "0\n"
     ]
    },
    {
     "data": {
      "text/plain": [
       "array([[1, 2, 7, ..., 9, 4, 3],\n",
       "       [6, 5, 1, ..., 2, 1, 4],\n",
       "       [2, 2, 4, ..., 3, 8, 2],\n",
       "       ...,\n",
       "       [9, 8, 3, ..., 1, 6, 6],\n",
       "       [9, 1, 1, ..., 4, 6, 4],\n",
       "       [5, 3, 8, ..., 7, 8, 5]])"
      ]
     },
     "execution_count": 6,
     "metadata": {},
     "output_type": "execute_result"
    }
   ],
   "source": [
    "randar = np.random.randint(1, 10, (300,400)) #not inclusive\n",
    "print(np.sum(randar==1))\n",
    "print(np.sum(randar==10))\n",
    "randar"
   ]
  },
  {
   "cell_type": "code",
   "execution_count": 7,
   "metadata": {},
   "outputs": [
    {
     "name": "stdout",
     "output_type": "stream",
     "text": [
      "[0 1]\n",
      "[0 1]\n",
      "\n",
      "[2 3]\n",
      "[2 3]\n",
      "\n",
      "[[0 1]\n",
      " [2 3]]\n",
      "[[0 1]\n",
      " [2 3]]\n",
      "\n",
      "[[4 5]\n",
      " [6 7]]\n",
      "[[4 5]\n",
      " [6 7]]\n",
      "\n"
     ]
    }
   ],
   "source": [
    "ar = np.arange(4).reshape(2,2)\n",
    "for i,j in zip(ar, ar):\n",
    "    print(i)\n",
    "    print(j)\n",
    "    print()\n",
    "    \n",
    "ar = np.arange(8).reshape((2,2,2))\n",
    "for i,j in zip(ar, ar):\n",
    "    print(i)\n",
    "    print(j)\n",
    "    print()"
   ]
  },
  {
   "cell_type": "markdown",
   "metadata": {},
   "source": [
    "## Pandas <a class=\"anchor\" id=\"pandas\"></a>"
   ]
  },
  {
   "cell_type": "markdown",
   "metadata": {},
   "source": [
    "### Series"
   ]
  },
  {
   "cell_type": "code",
   "execution_count": 8,
   "metadata": {},
   "outputs": [
    {
     "name": "stdout",
     "output_type": "stream",
     "text": [
      "A    10\n",
      "B    20\n",
      "C    30\n",
      "Name: Serie 1, dtype: int64\n",
      "\n",
      "A    10\n",
      "B    20\n",
      "C    30\n",
      "Name: Serie 2, dtype: int64\n",
      "\n",
      "A    True\n",
      "B    True\n",
      "C    True\n",
      "dtype: bool\n",
      "\n",
      "True\n"
     ]
    }
   ],
   "source": [
    "ser1 = pd.Series([10,20,30], index= ['A', 'B', 'C'], name='Serie 1')\n",
    "print(ser1)\n",
    "print()\n",
    "ser2 = pd.Series({'A':10, 'B':20, 'C':30}, name='Serie 2')\n",
    "print(ser2)\n",
    "print()\n",
    "print(ser1 == ser2)\n",
    "print()\n",
    "print(pd.Series.equals(ser1, ser2))"
   ]
  },
  {
   "cell_type": "code",
   "execution_count": 9,
   "metadata": {},
   "outputs": [
    {
     "name": "stdout",
     "output_type": "stream",
     "text": [
      "A    10.0\n",
      "B    20.0\n",
      "C     NaN\n",
      "dtype: float64\n",
      "\n",
      "index:  Index(['A', 'B', 'C'], dtype='object')\n",
      "\n",
      "values:  [10. 20. nan]\n",
      "\n",
      "float64\n",
      "3 (3,)\n",
      "\n",
      "10.0 20.0 nan\n",
      "10.0 20.0 nan\n",
      "10.0 20.0 nan\n",
      "\n",
      "count     2.000000\n",
      "mean     15.000000\n",
      "std       7.071068\n",
      "min      10.000000\n",
      "25%      12.500000\n",
      "50%      15.000000\n",
      "75%      17.500000\n",
      "max      20.000000\n",
      "dtype: float64\n"
     ]
    }
   ],
   "source": [
    "ser1 = pd.Series(data= {'A':10, 'B':20, 'C':None})\n",
    "print(ser1)\n",
    "print()\n",
    "print('index: ', ser1.index)\n",
    "print()\n",
    "print('values: ', ser1.values)\n",
    "print()\n",
    "print(ser1.dtype)\n",
    "print(len(ser1), ser1.shape)\n",
    "print()\n",
    "print(ser1[0], ser1['B'], ser1['C'])\n",
    "print(ser1.iloc[0], ser1.iloc[1], ser1.iloc[2])\n",
    "print(ser1.loc['A'], ser1.loc['B'], ser1.loc['C'])\n",
    "print()\n",
    "print(ser1.describe())"
   ]
  },
  {
   "cell_type": "code",
   "execution_count": 10,
   "metadata": {
    "scrolled": true
   },
   "outputs": [
    {
     "name": "stdout",
     "output_type": "stream",
     "text": [
      "s3:\n",
      "0    10.000\n",
      "1    20.000\n",
      "2    30.001\n",
      "3       NaN\n",
      "0    10.000\n",
      "1    20.000\n",
      "2    30.001\n",
      "3       NaN\n",
      "dtype: float64\n",
      "\n",
      "s3.iloc[0]:  10.0\n",
      "s3.loc[0]:\n",
      "0    10.0\n",
      "0    10.0\n",
      "dtype: float64\n",
      "\n",
      "s3[0]\n",
      "0    10.0\n",
      "0    10.0\n",
      "dtype: float64\n",
      "\n",
      "mathematical operations:\n",
      "s1 * s2\n",
      "0    100.000000\n",
      "1    400.000000\n",
      "2    900.060001\n",
      "3           NaN\n",
      "dtype: float64\n",
      "\n",
      "s1 / s2\n",
      "0    1.0\n",
      "1    1.0\n",
      "2    1.0\n",
      "3    NaN\n",
      "dtype: float64\n",
      "\n",
      "s1 + s2\n",
      "0    20.000\n",
      "1    40.000\n",
      "2    60.002\n",
      "3       NaN\n",
      "dtype: float64\n"
     ]
    }
   ],
   "source": [
    "s = pd.Series([10, 20, 30.001, None])\n",
    "s1 = s.copy()\n",
    "s2 = s.copy()\n",
    "s3 = s1.append(s2)\n",
    "print('s3:')\n",
    "print(s3)\n",
    "print()\n",
    "print('s3.iloc[0]: ', s3.iloc[0])\n",
    "print('s3.loc[0]:')\n",
    "print(s3.loc[0])\n",
    "print()\n",
    "print('s3[0]')\n",
    "print(s3[0])\n",
    "print()\n",
    "print('mathematical operations:')\n",
    "print('s1 * s2')\n",
    "print(s1 * s2)\n",
    "print()\n",
    "print('s1 / s2')\n",
    "print(s1 / s2)\n",
    "print()\n",
    "print('s1 + s2')\n",
    "print(s1 + s2)"
   ]
  },
  {
   "cell_type": "code",
   "execution_count": 11,
   "metadata": {},
   "outputs": [
    {
     "name": "stdout",
     "output_type": "stream",
     "text": [
      "0    11\n",
      "1    12\n",
      "2    13\n",
      "dtype: int64\n",
      "\n",
      "0      11\n",
      "1      12\n",
      "2      13\n",
      "3    None\n",
      "dtype: object\n",
      "\n",
      "s[3] == None:  True\n",
      "\n",
      "s[3] == np.nan:  False\n",
      "s[3] is np.nan:  False\n",
      "np.nan == np.nan:  False\n",
      "np.isnan(np.nan):  True\n",
      "pd.isna(s[3]): True\n",
      "pd.isna(s):\n",
      " 0    False\n",
      "1    False\n",
      "2    False\n",
      "3     True\n",
      "dtype: bool\n"
     ]
    }
   ],
   "source": [
    "s = pd.Series(range(10, 13))\n",
    "s += 1\n",
    "print(s)\n",
    "print()\n",
    "s[3] = None\n",
    "print(s)\n",
    "print()\n",
    "print('s[3] == None: ', s[3] == None)\n",
    "print()\n",
    "print('s[3] == np.nan: ', s[3] == np.nan)\n",
    "print('s[3] is np.nan: ', s[3] is np.nan)\n",
    "print('np.nan == np.nan: ', np.nan == np.nan)\n",
    "print('np.isnan(np.nan): ', np.isnan(np.nan))\n",
    "print('pd.isna(s[3]):', pd.isna(s[3]))\n",
    "print('pd.isna(s):\\n', pd.isna(s))"
   ]
  },
  {
   "cell_type": "markdown",
   "metadata": {},
   "source": [
    "### DataFrames"
   ]
  },
  {
   "cell_type": "code",
   "execution_count": 12,
   "metadata": {},
   "outputs": [
    {
     "data": {
      "text/html": [
       "<div>\n",
       "<style scoped>\n",
       "    .dataframe tbody tr th:only-of-type {\n",
       "        vertical-align: middle;\n",
       "    }\n",
       "\n",
       "    .dataframe tbody tr th {\n",
       "        vertical-align: top;\n",
       "    }\n",
       "\n",
       "    .dataframe thead th {\n",
       "        text-align: right;\n",
       "    }\n",
       "</style>\n",
       "<table border=\"1\" class=\"dataframe\">\n",
       "  <thead>\n",
       "    <tr style=\"text-align: right;\">\n",
       "      <th></th>\n",
       "      <th>A</th>\n",
       "      <th>B</th>\n",
       "      <th>C</th>\n",
       "      <th>D</th>\n",
       "      <th>E</th>\n",
       "    </tr>\n",
       "  </thead>\n",
       "  <tbody>\n",
       "    <tr>\n",
       "      <td>Serie 1</td>\n",
       "      <td>1.0</td>\n",
       "      <td>2.0</td>\n",
       "      <td>3.0</td>\n",
       "      <td>NaN</td>\n",
       "      <td>NaN</td>\n",
       "    </tr>\n",
       "    <tr>\n",
       "      <td>Serie 2</td>\n",
       "      <td>4.0</td>\n",
       "      <td>5.0</td>\n",
       "      <td>6.0</td>\n",
       "      <td>NaN</td>\n",
       "      <td>NaN</td>\n",
       "    </tr>\n",
       "    <tr>\n",
       "      <td>Serie 3</td>\n",
       "      <td>7.0</td>\n",
       "      <td>8.0</td>\n",
       "      <td>9.0</td>\n",
       "      <td>NaN</td>\n",
       "      <td>10.0</td>\n",
       "    </tr>\n",
       "  </tbody>\n",
       "</table>\n",
       "</div>"
      ],
      "text/plain": [
       "           A    B    C   D     E\n",
       "Serie 1  1.0  2.0  3.0 NaN   NaN\n",
       "Serie 2  4.0  5.0  6.0 NaN   NaN\n",
       "Serie 3  7.0  8.0  9.0 NaN  10.0"
      ]
     },
     "execution_count": 12,
     "metadata": {},
     "output_type": "execute_result"
    }
   ],
   "source": [
    "ser1 = pd.Series({'A':1, 'B':2, 'C':3})\n",
    "ser2 = pd.Series({'A':4, 'B':5, 'C':6, 'D':None})\n",
    "ser3 = pd.Series({'A':7, 'B':8, 'C':9, 'E': 10.0})\n",
    "pd.DataFrame([ser1, ser2, ser3], index=['Serie 1', 'Serie 2', 'Serie 3'])"
   ]
  },
  {
   "cell_type": "code",
   "execution_count": 13,
   "metadata": {
    "scrolled": true
   },
   "outputs": [
    {
     "name": "stdout",
     "output_type": "stream",
     "text": [
      "  location        date  new_cases  new_deaths  new_tests  population  \\\n",
      "0    Aruba  2020-03-13          2           0        NaN    106766.0   \n",
      "1    Aruba  2020-03-20          2           0        NaN    106766.0   \n",
      "\n",
      "   population_density  hospital_beds_per_100k  \n",
      "0               584.8                     NaN  \n",
      "1               584.8                     NaN  \n",
      "\n",
      "            location        date  new_cases  new_deaths  new_tests  \\\n",
      "21814  International  2020-03-02          0           0        NaN   \n",
      "21815  International  2020-03-10         -9           1        NaN   \n",
      "\n",
      "       population  population_density  hospital_beds_per_100k  \n",
      "21814         NaN                 NaN                     NaN  \n",
      "21815         NaN                 NaN                     NaN  \n",
      "\n",
      "           new_cases    new_deaths     new_tests    population  \\\n",
      "count   21816.000000  21816.000000  5.128000e+03  2.175200e+04   \n",
      "mean      593.660066     35.436744  9.430434e+03  1.054458e+08   \n",
      "std      5264.744351    332.437767  4.009790e+04  6.779952e+08   \n",
      "min     -2461.000000  -1918.000000  1.000000e+00  8.090000e+02   \n",
      "25%         0.000000      0.000000  6.140000e+02  2.083380e+06   \n",
      "50%         2.000000      0.000000  2.027000e+03  9.449321e+06   \n",
      "75%        50.250000      1.000000  6.648000e+03  3.481387e+07   \n",
      "max    127796.000000  10520.000000  1.318362e+06  7.794799e+09   \n",
      "\n",
      "       population_density  hospital_beds_per_100k  \n",
      "count        20834.000000            18154.000000  \n",
      "mean           420.170411                3.215260  \n",
      "std           1823.980114                2.600891  \n",
      "min              0.137000                0.100000  \n",
      "25%             41.285000                1.400000  \n",
      "50%             93.105000                2.600000  \n",
      "75%            227.322000                4.280000  \n",
      "max          19347.500000               13.800000  \n"
     ]
    }
   ],
   "source": [
    "dfalldata = pd.read_csv(csvpath)\n",
    "dforigin = pd.read_csv(csvpath, usecols=['location', 'date', 'new_cases', 'new_deaths', 'new_tests', \n",
    "                                         'population', 'population_density', 'hospital_beds_per_100k'])\n",
    "print(dforigin.head(2))\n",
    "print()\n",
    "print(dforigin.tail(2))\n",
    "print()\n",
    "print(dforigin.describe())"
   ]
  },
  {
   "cell_type": "code",
   "execution_count": 14,
   "metadata": {},
   "outputs": [
    {
     "name": "stdout",
     "output_type": "stream",
     "text": [
      "21816 (21816, 8)\n",
      "df index:  RangeIndex(start=0, stop=21816, step=1)\n",
      "df columns:  Index(['location', 'date', 'new_cases', 'new_deaths', 'new_tests',\n",
      "       'population', 'population_density', 'hospital_beds_per_100k'],\n",
      "      dtype='object')\n",
      "\n",
      "df index:  Index(['2019-12-31', '2019-12-31', '2019-12-31', '2019-12-31', '2019-12-31',\n",
      "       '2019-12-31', '2019-12-31', '2019-12-31', '2019-12-31', '2019-12-31',\n",
      "       ...\n",
      "       '2020-06-04', '2020-06-04', '2020-06-04', '2020-06-04', '2020-06-04',\n",
      "       '2020-06-04', '2020-06-04', '2020-06-04', '2020-06-04', '2020-06-04'],\n",
      "      dtype='object', name='date', length=21816)\n",
      "\n",
      "             location  new_cases  new_deaths  new_tests  population  \\\n",
      "date                                                                  \n",
      "2019-12-31    Denmark          0           0        NaN   5792203.0   \n",
      "2019-12-31  Sri Lanka          0           0        NaN  21413250.0   \n",
      "\n",
      "            population_density  hospital_beds_per_100k  \n",
      "date                                                    \n",
      "2019-12-31             136.520                     2.5  \n",
      "2019-12-31             341.955                     3.6  \n"
     ]
    }
   ],
   "source": [
    "df = dforigin.copy()\n",
    "print(len(df), df.shape)\n",
    "print('df index: ', df.index)\n",
    "print('df columns: ', df.columns)\n",
    "print()\n",
    "df.set_index('date', inplace=True)\n",
    "df.sort_index(inplace=True)\n",
    "print('df index: ', df.index)\n",
    "print()\n",
    "print(df.head(2))"
   ]
  },
  {
   "cell_type": "code",
   "execution_count": 15,
   "metadata": {},
   "outputs": [
    {
     "name": "stdout",
     "output_type": "stream",
     "text": [
      "                        new_cases  new_deaths  new_tests\n",
      "location    date                                        \n",
      "Afghanistan 2019-12-31          0           0        NaN\n",
      "            2020-01-01          0           0        NaN\n",
      "            2020-01-02          0           0        NaN\n",
      "\n",
      "df.index.nlevels: 2\n",
      "df.index.names: ['location', 'date']\n",
      "MultiIndex([('Afghanistan', '2019-12-31'),\n",
      "            ('Afghanistan', '2020-01-01')],\n",
      "           names=['location', 'date'])\n",
      "Index(['2019-12-31', '2020-01-01'], dtype='object', name='date')\n",
      "\n",
      "                     new_cases  new_deaths\n",
      "location date                             \n",
      "Austria  2020-01-01          0           0\n",
      "         2020-01-02          0           0\n",
      "         2020-01-03          0           0\n",
      "\n",
      "\n",
      "                        new_cases  new_deaths\n",
      "location    date                             \n",
      "Afghanistan 2020-01-01          0           0\n",
      "            2020-01-02          0           0\n",
      "            2020-01-03          0           0\n",
      "            2020-01-04          0           0\n",
      "            2020-01-05          0           0\n",
      "...                           ...         ...\n",
      "Argentina   2020-06-02        564          17\n",
      "            2020-06-03        904          13\n",
      "            2020-06-04        949          14\n",
      "Armenia     2019-12-31          0           0\n",
      "            2020-01-01          0           0\n",
      "\n",
      "[783 rows x 2 columns]\n",
      "\n",
      "                                 new_cases  new_deaths\n",
      "location             date                             \n",
      "Afghanistan          2020-01-01          0           0\n",
      "Algeria              2020-01-01          0           0\n",
      "Armenia              2020-01-01          0           0\n",
      "Australia            2020-01-01          0           0\n",
      "Austria              2020-01-01          0           0\n",
      "...                                    ...         ...\n",
      "United Arab Emirates 2020-01-01          0           0\n",
      "United Kingdom       2020-01-01          0           0\n",
      "United States        2020-01-01          0           0\n",
      "Vietnam              2020-01-01          0           0\n",
      "World                2020-01-01          0           0\n",
      "\n",
      "[68 rows x 2 columns]\n"
     ]
    }
   ],
   "source": [
    "# Multi-level index\n",
    "df = (dforigin[['location', 'date', 'new_cases', 'new_deaths', 'new_tests']]\n",
    "      .copy()\n",
    "      .set_index(['location', 'date'])\n",
    "      .sort_index())\n",
    "print(df.head(3))\n",
    "print()\n",
    "\n",
    "# df['location'] and df[['location', 'date']] --> KeyError\n",
    "print('df.index.nlevels:', df.index.nlevels)\n",
    "print('df.index.names:', df.index.names)\n",
    "print(df.index[:2])\n",
    "print(df.index.levels[1][:2])\n",
    "print()\n",
    "print(df.loc[('Austria', '2020-01-01'):('Austria', '2020-01-03'), ['new_cases', 'new_deaths']])\n",
    "print(), print()\n",
    "print(df.loc[('Afghanistan', '2020-01-01'):('Armenia', '2020-01-01'), ['new_cases', 'new_deaths']])\n",
    "print()\n",
    "idx = pd.IndexSlice\n",
    "print(df.loc[idx[:, '2020-01-01'], ['new_cases', 'new_deaths']])"
   ]
  },
  {
   "cell_type": "code",
   "execution_count": 16,
   "metadata": {
    "scrolled": true
   },
   "outputs": [
    {
     "name": "stdout",
     "output_type": "stream",
     "text": [
      "df.loc[100000] = None\n",
      "              location        date  new_cases  new_deaths  new_tests  \\\n",
      "21814   International  2020-03-02        0.0         0.0        NaN   \n",
      "21815   International  2020-03-10       -9.0         1.0        NaN   \n",
      "100000            NaN         NaN        NaN         NaN        NaN   \n",
      "\n",
      "        population  population_density  hospital_beds_per_100k  \n",
      "21814          NaN                 NaN                     NaN  \n",
      "21815          NaN                 NaN                     NaN  \n",
      "100000         NaN                 NaN                     NaN  \n",
      "\n",
      "df.isna().sum().sum():  21404\n",
      "\n",
      "df[100000] = None !new column is added with title 100000! \n",
      "              location        date new_cases new_deaths new_tests population  \\\n",
      "21814   International  2020-03-02         0          0       $$$        $$$   \n",
      "21815   International  2020-03-10        -9          1       $$$        $$$   \n",
      "100000            $$$         $$$       $$$        $$$       $$$        $$$   \n",
      "\n",
      "       population_density hospital_beds_per_100k 100000  \n",
      "21814                 $$$                    $$$   None  \n",
      "21815                 $$$                    $$$   None  \n",
      "100000                $$$                    $$$   None  \n",
      "\n",
      "df.isna().sum().sum():  21817\n"
     ]
    }
   ],
   "source": [
    "df = dforigin.copy()\n",
    "df.loc[100000] = None\n",
    "print('df.loc[100000] = None\\n', df.tail(3))\n",
    "print()\n",
    "print('df.isna().sum().sum(): ', df.isna().sum().sum())\n",
    "print()\n",
    "df.fillna('$$$', inplace=True)\n",
    "df[100000] = None\n",
    "print('df[100000] = None !new column is added with title 100000! \\n', df.tail(3))\n",
    "print()\n",
    "print('df.isna().sum().sum(): ', df.isna().sum().sum())"
   ]
  },
  {
   "cell_type": "markdown",
   "metadata": {},
   "source": [
    "#### Group by"
   ]
  },
  {
   "cell_type": "code",
   "execution_count": 17,
   "metadata": {},
   "outputs": [
    {
     "name": "stdout",
     "output_type": "stream",
     "text": [
      "Afghanistan\n",
      "type(frame):  <class 'pandas.core.frame.DataFrame'>\n",
      "               location  new_cases  new_deaths  new_tests  population  \\\n",
      "date                                                                    \n",
      "2019-12-31  Afghanistan          0           0        NaN  38928341.0   \n",
      "2020-01-01  Afghanistan          0           0        NaN  38928341.0   \n",
      "\n",
      "            population_density  hospital_beds_per_100k  \n",
      "date                                                    \n",
      "2019-12-31              54.422                     0.5  \n",
      "2020-01-01              54.422                     0.5  \n"
     ]
    }
   ],
   "source": [
    "df = dforigin.copy().set_index('date').sort_index()\n",
    "group, frame = next(iter(df.groupby('location')))\n",
    "print(group)\n",
    "print('type(frame): ', type(frame))\n",
    "print(frame.head(2))"
   ]
  },
  {
   "cell_type": "code",
   "execution_count": 18,
   "metadata": {},
   "outputs": [
    {
     "name": "stdout",
     "output_type": "stream",
     "text": [
      "            new_cases       new_deaths new_tests\n",
      "                  sum  amax    average       sum\n",
      "location                                        \n",
      "Afghanistan     17267  1063   2.000000       0.0\n",
      "Albania          1184    34   0.375000       0.0\n",
      "Algeria          9626   199   4.388158       0.0\n"
     ]
    }
   ],
   "source": [
    "df = dforigin.copy()\n",
    "print(df.groupby('location').agg({'new_cases': [np.sum, np.max], 'new_deaths': np.average, 'new_tests': np.sum}).head(3))"
   ]
  },
  {
   "cell_type": "code",
   "execution_count": 19,
   "metadata": {
    "scrolled": true
   },
   "outputs": [
    {
     "name": "stdout",
     "output_type": "stream",
     "text": [
      "            new_cases       new_deaths      new_tests     \n",
      "                  sum  amax        sum amax       sum amax\n",
      "location                                                  \n",
      "Afghanistan     17267  1063        294   32       0.0  NaN\n",
      "Albania          1184    34         33    3       0.0  NaN\n",
      "\n",
      "                 sum                            max                     \n",
      "           new_cases new_deaths new_tests new_cases new_deaths new_tests\n",
      "date                                                                    \n",
      "2020-06-03    207312       8752  606256.0    103656       4376  274423.0\n",
      "2020-06-04    252700      11482       0.0    126350       5741       NaN\n"
     ]
    },
    {
     "name": "stderr",
     "output_type": "stream",
     "text": [
      "C:\\Users\\Abtin\\Miniconda2\\envs\\py36\\lib\\site-packages\\pandas\\core\\groupby\\generic.py:1455: FutureWarning: using a dict with renaming is deprecated and will be removed\n",
      "in a future version.\n",
      "\n",
      "For column-specific groupby renaming, use named aggregation\n",
      "\n",
      "    >>> df.groupby(...).agg(name=('column', aggfunc))\n",
      "\n",
      "  return super().aggregate(arg, *args, **kwargs)\n"
     ]
    }
   ],
   "source": [
    "df = dforigin.copy().set_index(['location', 'date']).sort_index()\n",
    "print(df.groupby(level=0)['new_cases', 'new_deaths', 'new_tests'].agg([np.sum,np.max]).head(2))\n",
    "print()\n",
    "print(df.groupby(level=1)['new_cases', 'new_deaths', 'new_tests'].agg({'sum': np.sum, 'max': np.max}).tail(2))"
   ]
  },
  {
   "cell_type": "markdown",
   "metadata": {},
   "source": [
    "#### Pivot tables"
   ]
  },
  {
   "cell_type": "code",
   "execution_count": 20,
   "metadata": {},
   "outputs": [
    {
     "data": {
      "text/html": [
       "<div>\n",
       "<style scoped>\n",
       "    .dataframe tbody tr th:only-of-type {\n",
       "        vertical-align: middle;\n",
       "    }\n",
       "\n",
       "    .dataframe tbody tr th {\n",
       "        vertical-align: top;\n",
       "    }\n",
       "\n",
       "    .dataframe thead th {\n",
       "        text-align: right;\n",
       "    }\n",
       "</style>\n",
       "<table border=\"1\" class=\"dataframe\">\n",
       "  <thead>\n",
       "    <tr style=\"text-align: right;\">\n",
       "      <th>location</th>\n",
       "      <th>Afghanistan</th>\n",
       "      <th>Albania</th>\n",
       "      <th>Algeria</th>\n",
       "      <th>Andorra</th>\n",
       "      <th>Angola</th>\n",
       "      <th>Anguilla</th>\n",
       "      <th>Antigua and Barbuda</th>\n",
       "      <th>Argentina</th>\n",
       "      <th>Armenia</th>\n",
       "      <th>Aruba</th>\n",
       "      <th>...</th>\n",
       "      <th>Uruguay</th>\n",
       "      <th>Uzbekistan</th>\n",
       "      <th>Vatican</th>\n",
       "      <th>Venezuela</th>\n",
       "      <th>Vietnam</th>\n",
       "      <th>Western Sahara</th>\n",
       "      <th>World</th>\n",
       "      <th>Yemen</th>\n",
       "      <th>Zambia</th>\n",
       "      <th>Zimbabwe</th>\n",
       "    </tr>\n",
       "    <tr>\n",
       "      <th>date</th>\n",
       "      <th></th>\n",
       "      <th></th>\n",
       "      <th></th>\n",
       "      <th></th>\n",
       "      <th></th>\n",
       "      <th></th>\n",
       "      <th></th>\n",
       "      <th></th>\n",
       "      <th></th>\n",
       "      <th></th>\n",
       "      <th></th>\n",
       "      <th></th>\n",
       "      <th></th>\n",
       "      <th></th>\n",
       "      <th></th>\n",
       "      <th></th>\n",
       "      <th></th>\n",
       "      <th></th>\n",
       "      <th></th>\n",
       "      <th></th>\n",
       "      <th></th>\n",
       "    </tr>\n",
       "  </thead>\n",
       "  <tbody>\n",
       "    <tr>\n",
       "      <td>2019-12-31</td>\n",
       "      <td>0.0</td>\n",
       "      <td>NaN</td>\n",
       "      <td>0.0</td>\n",
       "      <td>NaN</td>\n",
       "      <td>NaN</td>\n",
       "      <td>NaN</td>\n",
       "      <td>NaN</td>\n",
       "      <td>NaN</td>\n",
       "      <td>0.0</td>\n",
       "      <td>NaN</td>\n",
       "      <td>...</td>\n",
       "      <td>NaN</td>\n",
       "      <td>NaN</td>\n",
       "      <td>NaN</td>\n",
       "      <td>NaN</td>\n",
       "      <td>0.0</td>\n",
       "      <td>NaN</td>\n",
       "      <td>27.0</td>\n",
       "      <td>NaN</td>\n",
       "      <td>NaN</td>\n",
       "      <td>NaN</td>\n",
       "    </tr>\n",
       "    <tr>\n",
       "      <td>2020-01-01</td>\n",
       "      <td>0.0</td>\n",
       "      <td>NaN</td>\n",
       "      <td>0.0</td>\n",
       "      <td>NaN</td>\n",
       "      <td>NaN</td>\n",
       "      <td>NaN</td>\n",
       "      <td>NaN</td>\n",
       "      <td>NaN</td>\n",
       "      <td>0.0</td>\n",
       "      <td>NaN</td>\n",
       "      <td>...</td>\n",
       "      <td>NaN</td>\n",
       "      <td>NaN</td>\n",
       "      <td>NaN</td>\n",
       "      <td>NaN</td>\n",
       "      <td>0.0</td>\n",
       "      <td>NaN</td>\n",
       "      <td>0.0</td>\n",
       "      <td>NaN</td>\n",
       "      <td>NaN</td>\n",
       "      <td>NaN</td>\n",
       "    </tr>\n",
       "    <tr>\n",
       "      <td>2020-01-02</td>\n",
       "      <td>0.0</td>\n",
       "      <td>NaN</td>\n",
       "      <td>0.0</td>\n",
       "      <td>NaN</td>\n",
       "      <td>NaN</td>\n",
       "      <td>NaN</td>\n",
       "      <td>NaN</td>\n",
       "      <td>NaN</td>\n",
       "      <td>0.0</td>\n",
       "      <td>NaN</td>\n",
       "      <td>...</td>\n",
       "      <td>NaN</td>\n",
       "      <td>NaN</td>\n",
       "      <td>NaN</td>\n",
       "      <td>NaN</td>\n",
       "      <td>0.0</td>\n",
       "      <td>NaN</td>\n",
       "      <td>0.0</td>\n",
       "      <td>NaN</td>\n",
       "      <td>NaN</td>\n",
       "      <td>NaN</td>\n",
       "    </tr>\n",
       "    <tr>\n",
       "      <td>2020-01-03</td>\n",
       "      <td>0.0</td>\n",
       "      <td>NaN</td>\n",
       "      <td>0.0</td>\n",
       "      <td>NaN</td>\n",
       "      <td>NaN</td>\n",
       "      <td>NaN</td>\n",
       "      <td>NaN</td>\n",
       "      <td>NaN</td>\n",
       "      <td>0.0</td>\n",
       "      <td>NaN</td>\n",
       "      <td>...</td>\n",
       "      <td>NaN</td>\n",
       "      <td>NaN</td>\n",
       "      <td>NaN</td>\n",
       "      <td>NaN</td>\n",
       "      <td>0.0</td>\n",
       "      <td>NaN</td>\n",
       "      <td>17.0</td>\n",
       "      <td>NaN</td>\n",
       "      <td>NaN</td>\n",
       "      <td>NaN</td>\n",
       "    </tr>\n",
       "    <tr>\n",
       "      <td>2020-01-04</td>\n",
       "      <td>0.0</td>\n",
       "      <td>NaN</td>\n",
       "      <td>0.0</td>\n",
       "      <td>NaN</td>\n",
       "      <td>NaN</td>\n",
       "      <td>NaN</td>\n",
       "      <td>NaN</td>\n",
       "      <td>NaN</td>\n",
       "      <td>0.0</td>\n",
       "      <td>NaN</td>\n",
       "      <td>...</td>\n",
       "      <td>NaN</td>\n",
       "      <td>NaN</td>\n",
       "      <td>NaN</td>\n",
       "      <td>NaN</td>\n",
       "      <td>0.0</td>\n",
       "      <td>NaN</td>\n",
       "      <td>0.0</td>\n",
       "      <td>NaN</td>\n",
       "      <td>NaN</td>\n",
       "      <td>NaN</td>\n",
       "    </tr>\n",
       "    <tr>\n",
       "      <td>...</td>\n",
       "      <td>...</td>\n",
       "      <td>...</td>\n",
       "      <td>...</td>\n",
       "      <td>...</td>\n",
       "      <td>...</td>\n",
       "      <td>...</td>\n",
       "      <td>...</td>\n",
       "      <td>...</td>\n",
       "      <td>...</td>\n",
       "      <td>...</td>\n",
       "      <td>...</td>\n",
       "      <td>...</td>\n",
       "      <td>...</td>\n",
       "      <td>...</td>\n",
       "      <td>...</td>\n",
       "      <td>...</td>\n",
       "      <td>...</td>\n",
       "      <td>...</td>\n",
       "      <td>...</td>\n",
       "      <td>...</td>\n",
       "      <td>...</td>\n",
       "    </tr>\n",
       "    <tr>\n",
       "      <td>2020-05-31</td>\n",
       "      <td>866.0</td>\n",
       "      <td>23.0</td>\n",
       "      <td>133.0</td>\n",
       "      <td>0.0</td>\n",
       "      <td>7.0</td>\n",
       "      <td>0.0</td>\n",
       "      <td>0.0</td>\n",
       "      <td>795.0</td>\n",
       "      <td>251.0</td>\n",
       "      <td>0.0</td>\n",
       "      <td>...</td>\n",
       "      <td>5.0</td>\n",
       "      <td>41.0</td>\n",
       "      <td>0.0</td>\n",
       "      <td>90.0</td>\n",
       "      <td>0.0</td>\n",
       "      <td>0.0</td>\n",
       "      <td>127796.0</td>\n",
       "      <td>23.0</td>\n",
       "      <td>0.0</td>\n",
       "      <td>14.0</td>\n",
       "    </tr>\n",
       "    <tr>\n",
       "      <td>2020-06-01</td>\n",
       "      <td>680.0</td>\n",
       "      <td>15.0</td>\n",
       "      <td>127.0</td>\n",
       "      <td>0.0</td>\n",
       "      <td>2.0</td>\n",
       "      <td>0.0</td>\n",
       "      <td>0.0</td>\n",
       "      <td>637.0</td>\n",
       "      <td>355.0</td>\n",
       "      <td>0.0</td>\n",
       "      <td>...</td>\n",
       "      <td>2.0</td>\n",
       "      <td>108.0</td>\n",
       "      <td>0.0</td>\n",
       "      <td>51.0</td>\n",
       "      <td>1.0</td>\n",
       "      <td>0.0</td>\n",
       "      <td>107968.0</td>\n",
       "      <td>13.0</td>\n",
       "      <td>0.0</td>\n",
       "      <td>4.0</td>\n",
       "    </tr>\n",
       "    <tr>\n",
       "      <td>2020-06-02</td>\n",
       "      <td>545.0</td>\n",
       "      <td>6.0</td>\n",
       "      <td>119.0</td>\n",
       "      <td>1.0</td>\n",
       "      <td>0.0</td>\n",
       "      <td>0.0</td>\n",
       "      <td>0.0</td>\n",
       "      <td>564.0</td>\n",
       "      <td>210.0</td>\n",
       "      <td>0.0</td>\n",
       "      <td>...</td>\n",
       "      <td>2.0</td>\n",
       "      <td>56.0</td>\n",
       "      <td>0.0</td>\n",
       "      <td>152.0</td>\n",
       "      <td>0.0</td>\n",
       "      <td>0.0</td>\n",
       "      <td>109344.0</td>\n",
       "      <td>31.0</td>\n",
       "      <td>32.0</td>\n",
       "      <td>25.0</td>\n",
       "    </tr>\n",
       "    <tr>\n",
       "      <td>2020-06-03</td>\n",
       "      <td>759.0</td>\n",
       "      <td>21.0</td>\n",
       "      <td>113.0</td>\n",
       "      <td>79.0</td>\n",
       "      <td>0.0</td>\n",
       "      <td>0.0</td>\n",
       "      <td>0.0</td>\n",
       "      <td>904.0</td>\n",
       "      <td>517.0</td>\n",
       "      <td>0.0</td>\n",
       "      <td>...</td>\n",
       "      <td>1.0</td>\n",
       "      <td>51.0</td>\n",
       "      <td>0.0</td>\n",
       "      <td>157.0</td>\n",
       "      <td>0.0</td>\n",
       "      <td>0.0</td>\n",
       "      <td>103656.0</td>\n",
       "      <td>45.0</td>\n",
       "      <td>0.0</td>\n",
       "      <td>3.0</td>\n",
       "    </tr>\n",
       "    <tr>\n",
       "      <td>2020-06-04</td>\n",
       "      <td>758.0</td>\n",
       "      <td>20.0</td>\n",
       "      <td>0.0</td>\n",
       "      <td>7.0</td>\n",
       "      <td>0.0</td>\n",
       "      <td>0.0</td>\n",
       "      <td>1.0</td>\n",
       "      <td>949.0</td>\n",
       "      <td>515.0</td>\n",
       "      <td>0.0</td>\n",
       "      <td>...</td>\n",
       "      <td>2.0</td>\n",
       "      <td>105.0</td>\n",
       "      <td>0.0</td>\n",
       "      <td>133.0</td>\n",
       "      <td>0.0</td>\n",
       "      <td>0.0</td>\n",
       "      <td>126350.0</td>\n",
       "      <td>4.0</td>\n",
       "      <td>0.0</td>\n",
       "      <td>16.0</td>\n",
       "    </tr>\n",
       "  </tbody>\n",
       "</table>\n",
       "<p>157 rows × 212 columns</p>\n",
       "</div>"
      ],
      "text/plain": [
       "location    Afghanistan  Albania  Algeria  Andorra  Angola  Anguilla  \\\n",
       "date                                                                   \n",
       "2019-12-31          0.0      NaN      0.0      NaN     NaN       NaN   \n",
       "2020-01-01          0.0      NaN      0.0      NaN     NaN       NaN   \n",
       "2020-01-02          0.0      NaN      0.0      NaN     NaN       NaN   \n",
       "2020-01-03          0.0      NaN      0.0      NaN     NaN       NaN   \n",
       "2020-01-04          0.0      NaN      0.0      NaN     NaN       NaN   \n",
       "...                 ...      ...      ...      ...     ...       ...   \n",
       "2020-05-31        866.0     23.0    133.0      0.0     7.0       0.0   \n",
       "2020-06-01        680.0     15.0    127.0      0.0     2.0       0.0   \n",
       "2020-06-02        545.0      6.0    119.0      1.0     0.0       0.0   \n",
       "2020-06-03        759.0     21.0    113.0     79.0     0.0       0.0   \n",
       "2020-06-04        758.0     20.0      0.0      7.0     0.0       0.0   \n",
       "\n",
       "location    Antigua and Barbuda  Argentina  Armenia  Aruba  ...  Uruguay  \\\n",
       "date                                                        ...            \n",
       "2019-12-31                  NaN        NaN      0.0    NaN  ...      NaN   \n",
       "2020-01-01                  NaN        NaN      0.0    NaN  ...      NaN   \n",
       "2020-01-02                  NaN        NaN      0.0    NaN  ...      NaN   \n",
       "2020-01-03                  NaN        NaN      0.0    NaN  ...      NaN   \n",
       "2020-01-04                  NaN        NaN      0.0    NaN  ...      NaN   \n",
       "...                         ...        ...      ...    ...  ...      ...   \n",
       "2020-05-31                  0.0      795.0    251.0    0.0  ...      5.0   \n",
       "2020-06-01                  0.0      637.0    355.0    0.0  ...      2.0   \n",
       "2020-06-02                  0.0      564.0    210.0    0.0  ...      2.0   \n",
       "2020-06-03                  0.0      904.0    517.0    0.0  ...      1.0   \n",
       "2020-06-04                  1.0      949.0    515.0    0.0  ...      2.0   \n",
       "\n",
       "location    Uzbekistan  Vatican  Venezuela  Vietnam  Western Sahara     World  \\\n",
       "date                                                                            \n",
       "2019-12-31         NaN      NaN        NaN      0.0             NaN      27.0   \n",
       "2020-01-01         NaN      NaN        NaN      0.0             NaN       0.0   \n",
       "2020-01-02         NaN      NaN        NaN      0.0             NaN       0.0   \n",
       "2020-01-03         NaN      NaN        NaN      0.0             NaN      17.0   \n",
       "2020-01-04         NaN      NaN        NaN      0.0             NaN       0.0   \n",
       "...                ...      ...        ...      ...             ...       ...   \n",
       "2020-05-31        41.0      0.0       90.0      0.0             0.0  127796.0   \n",
       "2020-06-01       108.0      0.0       51.0      1.0             0.0  107968.0   \n",
       "2020-06-02        56.0      0.0      152.0      0.0             0.0  109344.0   \n",
       "2020-06-03        51.0      0.0      157.0      0.0             0.0  103656.0   \n",
       "2020-06-04       105.0      0.0      133.0      0.0             0.0  126350.0   \n",
       "\n",
       "location    Yemen  Zambia  Zimbabwe  \n",
       "date                                 \n",
       "2019-12-31    NaN     NaN       NaN  \n",
       "2020-01-01    NaN     NaN       NaN  \n",
       "2020-01-02    NaN     NaN       NaN  \n",
       "2020-01-03    NaN     NaN       NaN  \n",
       "2020-01-04    NaN     NaN       NaN  \n",
       "...           ...     ...       ...  \n",
       "2020-05-31   23.0     0.0      14.0  \n",
       "2020-06-01   13.0     0.0       4.0  \n",
       "2020-06-02   31.0    32.0      25.0  \n",
       "2020-06-03   45.0     0.0       3.0  \n",
       "2020-06-04    4.0     0.0      16.0  \n",
       "\n",
       "[157 rows x 212 columns]"
      ]
     },
     "execution_count": 20,
     "metadata": {},
     "output_type": "execute_result"
    }
   ],
   "source": [
    "df = dforigin.copy()\n",
    "df.pivot_table(values= 'new_cases', index='date', columns= 'location', aggfunc=np.sum).sort_index()"
   ]
  },
  {
   "cell_type": "markdown",
   "metadata": {},
   "source": [
    "#### Date and time"
   ]
  },
  {
   "cell_type": "code",
   "execution_count": 21,
   "metadata": {},
   "outputs": [
    {
     "name": "stdout",
     "output_type": "stream",
     "text": [
      "2016-09-01 10:05:00\n",
      "2016-01\n",
      "2012-07-04 00:00:00\n",
      "2 days 00:00:00\n",
      "2016-09-14 11:10:00\n"
     ]
    }
   ],
   "source": [
    "print(pd.Timestamp('9/1/2016 10:05AM'))\n",
    "print(pd.Period('1/2016'))\n",
    "print(pd.to_datetime('4.7.12', dayfirst=True))\n",
    "print(pd.Timestamp('9/3/2016')-pd.Timestamp('9/1/2016'))\n",
    "print(pd.Timestamp('9/2/2016 8:10AM') + pd.Timedelta('12D 3H'))"
   ]
  },
  {
   "cell_type": "code",
   "execution_count": 22,
   "metadata": {},
   "outputs": [
    {
     "name": "stdout",
     "output_type": "stream",
     "text": [
      "Index(['Tuesday', 'Tuesday', 'Tuesday', 'Tuesday', 'Tuesday', 'Tuesday',\n",
      "       'Tuesday', 'Tuesday', 'Tuesday', 'Tuesday',\n",
      "       ...\n",
      "       'Thursday', 'Thursday', 'Thursday', 'Thursday', 'Thursday', 'Thursday',\n",
      "       'Thursday', 'Thursday', 'Thursday', 'Thursday'],\n",
      "      dtype='object', name='date', length=21816)\n",
      "\n"
     ]
    },
    {
     "data": {
      "text/html": [
       "<div>\n",
       "<style scoped>\n",
       "    .dataframe tbody tr th:only-of-type {\n",
       "        vertical-align: middle;\n",
       "    }\n",
       "\n",
       "    .dataframe tbody tr th {\n",
       "        vertical-align: top;\n",
       "    }\n",
       "\n",
       "    .dataframe thead th {\n",
       "        text-align: right;\n",
       "    }\n",
       "</style>\n",
       "<table border=\"1\" class=\"dataframe\">\n",
       "  <thead>\n",
       "    <tr style=\"text-align: right;\">\n",
       "      <th></th>\n",
       "      <th>location</th>\n",
       "      <th>new_cases</th>\n",
       "      <th>new_deaths</th>\n",
       "      <th>new_tests</th>\n",
       "      <th>population</th>\n",
       "      <th>population_density</th>\n",
       "      <th>hospital_beds_per_100k</th>\n",
       "    </tr>\n",
       "    <tr>\n",
       "      <th>date</th>\n",
       "      <th></th>\n",
       "      <th></th>\n",
       "      <th></th>\n",
       "      <th></th>\n",
       "      <th></th>\n",
       "      <th></th>\n",
       "      <th></th>\n",
       "    </tr>\n",
       "  </thead>\n",
       "  <tbody>\n",
       "    <tr>\n",
       "      <td>2020-05-01</td>\n",
       "      <td>Uzbekistan</td>\n",
       "      <td>44</td>\n",
       "      <td>0</td>\n",
       "      <td>NaN</td>\n",
       "      <td>33469199.0</td>\n",
       "      <td>76.134</td>\n",
       "      <td>4.000</td>\n",
       "    </tr>\n",
       "    <tr>\n",
       "      <td>2020-05-01</td>\n",
       "      <td>Singapore</td>\n",
       "      <td>528</td>\n",
       "      <td>1</td>\n",
       "      <td>NaN</td>\n",
       "      <td>5850343.0</td>\n",
       "      <td>7915.731</td>\n",
       "      <td>2.400</td>\n",
       "    </tr>\n",
       "    <tr>\n",
       "      <td>2020-05-01</td>\n",
       "      <td>Bulgaria</td>\n",
       "      <td>59</td>\n",
       "      <td>2</td>\n",
       "      <td>NaN</td>\n",
       "      <td>6948445.0</td>\n",
       "      <td>65.180</td>\n",
       "      <td>7.454</td>\n",
       "    </tr>\n",
       "    <tr>\n",
       "      <td>2020-05-01</td>\n",
       "      <td>Cote d'Ivoire</td>\n",
       "      <td>37</td>\n",
       "      <td>0</td>\n",
       "      <td>NaN</td>\n",
       "      <td>26378275.0</td>\n",
       "      <td>76.399</td>\n",
       "      <td>NaN</td>\n",
       "    </tr>\n",
       "    <tr>\n",
       "      <td>2020-05-01</td>\n",
       "      <td>Namibia</td>\n",
       "      <td>0</td>\n",
       "      <td>0</td>\n",
       "      <td>NaN</td>\n",
       "      <td>2540916.0</td>\n",
       "      <td>3.078</td>\n",
       "      <td>NaN</td>\n",
       "    </tr>\n",
       "    <tr>\n",
       "      <td>...</td>\n",
       "      <td>...</td>\n",
       "      <td>...</td>\n",
       "      <td>...</td>\n",
       "      <td>...</td>\n",
       "      <td>...</td>\n",
       "      <td>...</td>\n",
       "      <td>...</td>\n",
       "    </tr>\n",
       "    <tr>\n",
       "      <td>2020-05-03</td>\n",
       "      <td>Finland</td>\n",
       "      <td>128</td>\n",
       "      <td>2</td>\n",
       "      <td>1608.0</td>\n",
       "      <td>5540718.0</td>\n",
       "      <td>18.136</td>\n",
       "      <td>3.280</td>\n",
       "    </tr>\n",
       "    <tr>\n",
       "      <td>2020-05-03</td>\n",
       "      <td>Rwanda</td>\n",
       "      <td>6</td>\n",
       "      <td>0</td>\n",
       "      <td>1047.0</td>\n",
       "      <td>12952209.0</td>\n",
       "      <td>494.869</td>\n",
       "      <td>NaN</td>\n",
       "    </tr>\n",
       "    <tr>\n",
       "      <td>2020-05-03</td>\n",
       "      <td>Grenada</td>\n",
       "      <td>1</td>\n",
       "      <td>0</td>\n",
       "      <td>NaN</td>\n",
       "      <td>112519.0</td>\n",
       "      <td>317.132</td>\n",
       "      <td>3.700</td>\n",
       "    </tr>\n",
       "    <tr>\n",
       "      <td>2020-05-03</td>\n",
       "      <td>Kosovo</td>\n",
       "      <td>10</td>\n",
       "      <td>0</td>\n",
       "      <td>NaN</td>\n",
       "      <td>1932774.0</td>\n",
       "      <td>NaN</td>\n",
       "      <td>NaN</td>\n",
       "    </tr>\n",
       "    <tr>\n",
       "      <td>2020-05-03</td>\n",
       "      <td>Japan</td>\n",
       "      <td>295</td>\n",
       "      <td>34</td>\n",
       "      <td>NaN</td>\n",
       "      <td>126476458.0</td>\n",
       "      <td>347.778</td>\n",
       "      <td>13.050</td>\n",
       "    </tr>\n",
       "  </tbody>\n",
       "</table>\n",
       "<p>629 rows × 7 columns</p>\n",
       "</div>"
      ],
      "text/plain": [
       "                 location  new_cases  new_deaths  new_tests   population  \\\n",
       "date                                                                       \n",
       "2020-05-01     Uzbekistan         44           0        NaN   33469199.0   \n",
       "2020-05-01      Singapore        528           1        NaN    5850343.0   \n",
       "2020-05-01       Bulgaria         59           2        NaN    6948445.0   \n",
       "2020-05-01  Cote d'Ivoire         37           0        NaN   26378275.0   \n",
       "2020-05-01        Namibia          0           0        NaN    2540916.0   \n",
       "...                   ...        ...         ...        ...          ...   \n",
       "2020-05-03        Finland        128           2     1608.0    5540718.0   \n",
       "2020-05-03         Rwanda          6           0     1047.0   12952209.0   \n",
       "2020-05-03        Grenada          1           0        NaN     112519.0   \n",
       "2020-05-03         Kosovo         10           0        NaN    1932774.0   \n",
       "2020-05-03          Japan        295          34        NaN  126476458.0   \n",
       "\n",
       "            population_density  hospital_beds_per_100k  \n",
       "date                                                    \n",
       "2020-05-01              76.134                   4.000  \n",
       "2020-05-01            7915.731                   2.400  \n",
       "2020-05-01              65.180                   7.454  \n",
       "2020-05-01              76.399                     NaN  \n",
       "2020-05-01               3.078                     NaN  \n",
       "...                        ...                     ...  \n",
       "2020-05-03              18.136                   3.280  \n",
       "2020-05-03             494.869                     NaN  \n",
       "2020-05-03             317.132                   3.700  \n",
       "2020-05-03                 NaN                     NaN  \n",
       "2020-05-03             347.778                  13.050  \n",
       "\n",
       "[629 rows x 7 columns]"
      ]
     },
     "execution_count": 22,
     "metadata": {},
     "output_type": "execute_result"
    }
   ],
   "source": [
    "df = dforigin.copy().set_index('date').sort_index()\n",
    "df.index = pd.to_datetime(df.index)\n",
    "print(df.index.weekday_name)\n",
    "print()\n",
    "df['2020-05-01':'2020-05-03']"
   ]
  },
  {
   "cell_type": "markdown",
   "metadata": {},
   "source": [
    "## Statistics <a class=\"anchor\" id=\"statistics\"></a>"
   ]
  },
  {
   "cell_type": "code",
   "execution_count": 23,
   "metadata": {},
   "outputs": [
    {
     "name": "stdout",
     "output_type": "stream",
     "text": [
      "binomial:  [1 0 1 1 1 1 1 0 0 1]\n",
      "uniform :  [4.48 3.56 0.24 0.07 0.05 0.3  2.88 1.03 1.42 2.56]\n",
      "normal  :  [-0.93  0.63  0.   -0.62  0.93  1.77  1.18 -0.86  0.11 -0.11]\n"
     ]
    }
   ],
   "source": [
    "print('binomial: ', np.random.binomial(1, 0.9, 10))\n",
    "print('uniform : ', np.random.uniform(0, 5, 10))\n",
    "print('normal  : ', np.random.normal(0, 1, 10))"
   ]
  },
  {
   "cell_type": "markdown",
   "metadata": {},
   "source": [
    "**stats.ttest_ind?**\n",
    "\n",
    "Calculate the T-test for the means of *two independent* samples of scores.\n",
    "\n",
    "This is a two-sided test for the null hypothesis that 2 independent samples\n",
    "have identical average (expected) values. This test assumes that the\n",
    "populations have identical variances by default."
   ]
  },
  {
   "cell_type": "markdown",
   "metadata": {},
   "source": [
    "**Hypothesis: Italy and Spain have reported different cumulative death-rate?**"
   ]
  },
  {
   "cell_type": "code",
   "execution_count": 24,
   "metadata": {
    "scrolled": true
   },
   "outputs": [
    {
     "name": "stdout",
     "output_type": "stream",
     "text": [
      "                        new_cases  new_deaths\n",
      "location    date                             \n",
      "Afghanistan 2019-12-31          0           0\n",
      "            2020-01-01          0           0\n",
      "            2020-01-02          0           0\n",
      "\n",
      "country1df:             cases  deaths\n",
      "date                     \n",
      "2019-12-31      0       0\n",
      "2020-01-01      0       0\n",
      "2020-01-02      0       0\n",
      "\n",
      "country2df:             cases  deaths\n",
      "date                     \n",
      "2019-12-31      0       0\n",
      "2020-01-01      0       0\n",
      "2020-01-02      0       0\n",
      "\n",
      "pvalue 6.079359790531881e-05\n",
      "At 0.01 level of significance, Italy and Spain have different death-rates\n"
     ]
    }
   ],
   "source": [
    "# calculating the average increase rate in new_deaths for each country\n",
    "alpha = 0.01\n",
    "country1, country2 = 'Italy', 'Spain'\n",
    "df = (dfalldata[['location', 'date', 'new_cases', 'new_deaths']]\n",
    "      .copy())\n",
    "df['date'] = pd.to_datetime(df['date'])\n",
    "df = df.set_index(['location', 'date']).sort_index()\n",
    "print(df.head(3))\n",
    "print()\n",
    "c1df = df.loc[country1]\n",
    "c1df[['new_cases', 'new_deaths']] = (c1df[['new_cases', 'new_deaths']]\n",
    "                                 .cumsum())\n",
    "c1df.rename(columns={'new_cases':'cases', 'new_deaths':'deaths'}, inplace=True)\n",
    "print('country1df:', c1df.head(3))\n",
    "print()\n",
    "c2df = df.loc[country2]\n",
    "c2df[['new_cases', 'new_deaths']] = (c2df[['new_cases', 'new_deaths']]\n",
    "                                 .cumsum())\n",
    "c2df.rename(columns={'new_cases':'cases', 'new_deaths':'deaths'}, inplace=True)\n",
    "print('country2df:', c2df.head(3))\n",
    "print()\n",
    "# Use the data after first death reported\n",
    "c1initdate = c1df.loc[c1df['deaths'] > 0, 'deaths'].idxmin()\n",
    "c1df = c1df.loc[c1initdate:]\n",
    "c2initdate = c2df.loc[c2df['deaths'] > 0, 'deaths'].idxmin()\n",
    "c2df = c2df.loc[c2initdate:]\n",
    "c1df['death_rate'] = (c1df['deaths'] / c1df['cases']).fillna(0)\n",
    "c2df['death_rate'] = (c2df['deaths'] / c2df['cases']).fillna(0)\n",
    "res = stats.ttest_ind(c1df['death_rate'], c2df['death_rate'], equal_var=False)\n",
    "if res.pvalue < alpha:\n",
    "    # reject null hypothesis\n",
    "    print('pvalue', res.pvalue)\n",
    "    print(f'At {alpha} level of significance, {country1} and {country2} have different death-rates')\n",
    "else:\n",
    "    print('pvalue', res.pvalue)\n",
    "    print(f'At {alpha} level of significance, {country1} and {country2} might have the same death-rates')"
   ]
  },
  {
   "cell_type": "markdown",
   "metadata": {},
   "source": [
    "## Plotting <a class=\"anchor\" id=\"plotting\"></a>"
   ]
  },
  {
   "cell_type": "code",
   "execution_count": 25,
   "metadata": {},
   "outputs": [],
   "source": [
    "%matplotlib inline"
   ]
  },
  {
   "cell_type": "code",
   "execution_count": 26,
   "metadata": {},
   "outputs": [
    {
     "data": {
      "text/plain": [
       "'module://ipykernel.pylab.backend_inline'"
      ]
     },
     "execution_count": 26,
     "metadata": {},
     "output_type": "execute_result"
    }
   ],
   "source": [
    "import matplotlib as mpl\n",
    "import matplotlib.pyplot as plt\n",
    "mpl.get_backend()"
   ]
  },
  {
   "cell_type": "code",
   "execution_count": 27,
   "metadata": {
    "scrolled": false
   },
   "outputs": [
    {
     "name": "stderr",
     "output_type": "stream",
     "text": [
      "C:\\Users\\Abtin\\Miniconda2\\envs\\py36\\lib\\site-packages\\pandas\\plotting\\_matplotlib\\converter.py:103: FutureWarning: Using an implicitly registered datetime converter for a matplotlib plotting method. The converter was registered by pandas on import. Future versions of pandas will require you to explicitly register matplotlib converters.\n",
      "\n",
      "To register the converters:\n",
      "\t>>> from pandas.plotting import register_matplotlib_converters\n",
      "\t>>> register_matplotlib_converters()\n",
      "  warnings.warn(msg, FutureWarning)\n"
     ]
    },
    {
     "data": {
      "image/png": "[encoded data removed]",
      "text/plain": [
       "<Figure size 432x288 with 1 Axes>"
      ]
     },
     "metadata": {
      "needs_background": "light"
     },
     "output_type": "display_data"
    }
   ],
   "source": [
    "plt.figure()\n",
    "plt.plot(c1df['death_rate'], '-o', label=country1)\n",
    "plt.plot(c2df['death_rate'], '-o', label=country2)\n",
    "plt.xlabel('day')\n",
    "plt.ylabel('death-rate')\n",
    "plt.title('Death-rate time series')\n",
    "# add the legend to loc=4 (the lower right hand corner), also gets rid of the frame and adds a title\n",
    "plt.legend(loc='upper left', frameon=False, title='Countries')\n",
    "\n",
    "# get the current axes\n",
    "ax = plt.gca()\n",
    "# Set axis properties [xmin, xmax, ymin, ymax]\n",
    "ax.axis([pd.to_datetime('2020-03-01'), pd.to_datetime('2020-05-01'),0.0,0.2])\n",
    "plt.xticks(rotation=15);"
   ]
  },
  {
   "cell_type": "code",
   "execution_count": 28,
   "metadata": {},
   "outputs": [
    {
     "data": {
      "image/png": "[encoded data removed]",
      "text/plain": [
       "<Figure size 432x288 with 2 Axes>"
      ]
     },
     "metadata": {
      "needs_background": "light"
     },
     "output_type": "display_data"
    }
   ],
   "source": [
    "plt.figure()\n",
    "plt.subplot(1,2,1)\n",
    "plt.plot(c1df['death_rate'], '-', label=country1)\n",
    "plt.xlabel('day')\n",
    "plt.ylabel('death-rate')\n",
    "plt.xticks(rotation=30);\n",
    "\n",
    "plt.subplot(1,2,2)\n",
    "plt.plot(c2df['death_rate'], '-', label=country2)\n",
    "plt.xlabel('day')\n",
    "plt.xticks(rotation=30);"
   ]
  },
  {
   "cell_type": "markdown",
   "metadata": {},
   "source": [
    "### Histograms "
   ]
  },
  {
   "cell_type": "code",
   "execution_count": 29,
   "metadata": {},
   "outputs": [
    {
     "data": {
      "image/png": "[encoded data removed]",
      "text/plain": [
       "<Figure size 432x288 with 6 Axes>"
      ]
     },
     "metadata": {
      "needs_background": "light"
     },
     "output_type": "display_data"
    }
   ],
   "source": [
    "# create 2x2 grid of axis subplots\n",
    "fig, ((ax1, ax2, ax3), (ax4, ax5, ax6)) = plt.subplots(2, 3, sharex=True)\n",
    "axs = [ax1, ax2, ax3, ax4, ax5, ax6]\n",
    "\n",
    "# draw n = 10, 100, 1000, and 10000 samples from the normal distribution and plot corresponding histograms\n",
    "for n in range(0,len(axs)):\n",
    "    sample_size = 10**(n+1)\n",
    "    sample = np.random.normal(loc=0.0, scale=1.0, size=sample_size)\n",
    "    axs[n].hist(sample)\n",
    "    axs[n].set_title('n={}'.format(sample_size))"
   ]
  },
  {
   "cell_type": "markdown",
   "metadata": {},
   "source": [
    "### Box and Whisker Plots"
   ]
  },
  {
   "cell_type": "code",
   "execution_count": 30,
   "metadata": {},
   "outputs": [],
   "source": [
    "import pandas as pd\n",
    "normal_sample = np.random.normal(loc=0.0, scale=1.0, size=10000)\n",
    "random_sample = np.random.random(size=10000)\n",
    "gamma_sample = np.random.gamma(2, size=10000)\n",
    "\n",
    "df = pd.DataFrame({'normal': normal_sample, \n",
    "                   'random': random_sample, \n",
    "                   'gamma': gamma_sample})"
   ]
  },
  {
   "cell_type": "code",
   "execution_count": 31,
   "metadata": {},
   "outputs": [
    {
     "data": {
      "text/html": [
       "<div>\n",
       "<style scoped>\n",
       "    .dataframe tbody tr th:only-of-type {\n",
       "        vertical-align: middle;\n",
       "    }\n",
       "\n",
       "    .dataframe tbody tr th {\n",
       "        vertical-align: top;\n",
       "    }\n",
       "\n",
       "    .dataframe thead th {\n",
       "        text-align: right;\n",
       "    }\n",
       "</style>\n",
       "<table border=\"1\" class=\"dataframe\">\n",
       "  <thead>\n",
       "    <tr style=\"text-align: right;\">\n",
       "      <th></th>\n",
       "      <th>normal</th>\n",
       "      <th>random</th>\n",
       "      <th>gamma</th>\n",
       "    </tr>\n",
       "  </thead>\n",
       "  <tbody>\n",
       "    <tr>\n",
       "      <td>count</td>\n",
       "      <td>10000.000000</td>\n",
       "      <td>10000.000000</td>\n",
       "      <td>10000.000000</td>\n",
       "    </tr>\n",
       "    <tr>\n",
       "      <td>mean</td>\n",
       "      <td>0.011416</td>\n",
       "      <td>0.499686</td>\n",
       "      <td>1.996561</td>\n",
       "    </tr>\n",
       "    <tr>\n",
       "      <td>std</td>\n",
       "      <td>1.014186</td>\n",
       "      <td>0.288195</td>\n",
       "      <td>1.379578</td>\n",
       "    </tr>\n",
       "    <tr>\n",
       "      <td>min</td>\n",
       "      <td>-3.797793</td>\n",
       "      <td>0.000138</td>\n",
       "      <td>0.010189</td>\n",
       "    </tr>\n",
       "    <tr>\n",
       "      <td>25%</td>\n",
       "      <td>-0.689532</td>\n",
       "      <td>0.250982</td>\n",
       "      <td>0.974182</td>\n",
       "    </tr>\n",
       "    <tr>\n",
       "      <td>50%</td>\n",
       "      <td>0.016076</td>\n",
       "      <td>0.492136</td>\n",
       "      <td>1.691209</td>\n",
       "    </tr>\n",
       "    <tr>\n",
       "      <td>75%</td>\n",
       "      <td>0.700028</td>\n",
       "      <td>0.754029</td>\n",
       "      <td>2.713007</td>\n",
       "    </tr>\n",
       "    <tr>\n",
       "      <td>max</td>\n",
       "      <td>3.822832</td>\n",
       "      <td>0.999994</td>\n",
       "      <td>12.178100</td>\n",
       "    </tr>\n",
       "  </tbody>\n",
       "</table>\n",
       "</div>"
      ],
      "text/plain": [
       "             normal        random         gamma\n",
       "count  10000.000000  10000.000000  10000.000000\n",
       "mean       0.011416      0.499686      1.996561\n",
       "std        1.014186      0.288195      1.379578\n",
       "min       -3.797793      0.000138      0.010189\n",
       "25%       -0.689532      0.250982      0.974182\n",
       "50%        0.016076      0.492136      1.691209\n",
       "75%        0.700028      0.754029      2.713007\n",
       "max        3.822832      0.999994     12.178100"
      ]
     },
     "execution_count": 31,
     "metadata": {},
     "output_type": "execute_result"
    }
   ],
   "source": [
    "df.describe()"
   ]
  },
  {
   "cell_type": "code",
   "execution_count": 32,
   "metadata": {},
   "outputs": [
    {
     "data": {
      "image/png": "[encoded data removed]",
      "text/plain": [
       "<Figure size 432x288 with 2 Axes>"
      ]
     },
     "metadata": {
      "needs_background": "light"
     },
     "output_type": "display_data"
    }
   ],
   "source": [
    "plt.figure()\n",
    "plt.subplot(1,2,1)\n",
    "# plot boxplots for all three of df's columns\n",
    "_ = plt.boxplot([ df['normal'], df['random'], df['gamma'] ], whis='range')\n",
    "\n",
    "plt.subplot(1,2,2)\n",
    "# if `whis` argument isn't passed, boxplot defaults to showing 1.5*interquartile (IQR) whiskers with outliers\n",
    "_ = plt.boxplot([ df['normal'], df['random'], df['gamma'] ])"
   ]
  },
  {
   "cell_type": "markdown",
   "metadata": {},
   "source": [
    "### Heatmaps"
   ]
  },
  {
   "cell_type": "code",
   "execution_count": 33,
   "metadata": {
    "scrolled": false
   },
   "outputs": [
    {
     "data": {
      "text/plain": [
       "<matplotlib.colorbar.Colorbar at 0x9e6fb10>"
      ]
     },
     "execution_count": 33,
     "metadata": {},
     "output_type": "execute_result"
    },
    {
     "data": {
      "image/png": "[encoded data removed]",
      "text/plain": [
       "<Figure size 432x288 with 2 Axes>"
      ]
     },
     "metadata": {
      "needs_background": "light"
     },
     "output_type": "display_data"
    }
   ],
   "source": [
    "plt.figure()\n",
    "\n",
    "Y = np.random.normal(loc=0.0, scale=1.0, size=10000)\n",
    "X = np.random.random(size=10000)\n",
    "_ = plt.hist2d(X, Y, bins=25)\n",
    "\n",
    "# add a colorbar legend\n",
    "plt.colorbar()"
   ]
  },
  {
   "cell_type": "markdown",
   "metadata": {},
   "source": [
    "### Pandas Visualization"
   ]
  },
  {
   "cell_type": "code",
   "execution_count": 34,
   "metadata": {},
   "outputs": [],
   "source": [
    "%matplotlib inline\n",
    "plt.style.use('seaborn-colorblind')"
   ]
  },
  {
   "cell_type": "code",
   "execution_count": 35,
   "metadata": {
    "scrolled": false
   },
   "outputs": [
    {
     "data": {
      "text/plain": [
       "<matplotlib.axes._subplots.AxesSubplot at 0xa2262d0>"
      ]
     },
     "execution_count": 35,
     "metadata": {},
     "output_type": "execute_result"
    },
    {
     "data": {
      "image/png": "[encoded data removed]",
      "text/plain": [
       "<Figure size 1080x576 with 4 Axes>"
      ]
     },
     "metadata": {
      "needs_background": "light"
     },
     "output_type": "display_data"
    }
   ],
   "source": [
    "df = dforigin.copy()\n",
    "df['date'] = pd.to_datetime(df['date'])\n",
    "df['death-per-100k'] = df['new_deaths'] / df['population'] * 100000\n",
    "dfpiv = (df.pivot_table(values= 'death-per-100k', index='date', columns= 'location')\n",
    "      .sort_index()\n",
    "      .fillna(0))\n",
    "\n",
    "\n",
    "fig, axes = plt.subplots(nrows=2, ncols=2)\n",
    "fig.set_figwidth(15); fig.set_figheight(8)\n",
    "countries = ['United States', 'United Kingdom', 'Germany', 'France', 'Italy']\n",
    "dfpiv.loc['2020-03-01': '2020-06-01', countries].plot(ax=axes[0,0])\n",
    "countries = ['Iran', 'Turkey', 'Saudi Arabia', 'Russia', 'Pakistan']\n",
    "dfpiv.loc['2020-03-01': '2020-06-01', countries].plot(ax=axes[0, 1])\n",
    "countries = ['China', 'India', 'Indonesia', 'Brazil', 'Nigeria']\n",
    "dfpiv.loc['2020-03-01': '2020-06-01', countries].plot(ax=axes[1, 0])\n",
    "countries = np.random.choice(dfpiv.columns, 5, replace=False)\n",
    "dfpiv.loc['2020-03-01': '2020-06-01', countries].plot(ax=axes[1, 1])"
   ]
  },
  {
   "cell_type": "code",
   "execution_count": 36,
   "metadata": {},
   "outputs": [
    {
     "data": {
      "text/plain": [
       "<matplotlib.axes._subplots.AxesSubplot at 0xa48c170>"
      ]
     },
     "execution_count": 36,
     "metadata": {},
     "output_type": "execute_result"
    },
    {
     "data": {
      "text/plain": [
       "<Figure size 432x288 with 0 Axes>"
      ]
     },
     "metadata": {},
     "output_type": "display_data"
    },
    {
     "data": {
      "image/png": "[encoded data removed]",
      "text/plain": [
       "<Figure size 576x288 with 1 Axes>"
      ]
     },
     "metadata": {
      "needs_background": "light"
     },
     "output_type": "display_data"
    }
   ],
   "source": [
    "plt.figure()\n",
    "countries = ['United States', 'United Kingdom', 'Germany', 'France', 'Italy']\n",
    "dfpiv.loc['2020-03-01': '2020-06-01', countries].plot.kde(figsize=(8,4))"
   ]
  },
  {
   "cell_type": "markdown",
   "metadata": {},
   "source": [
    "[Kernel density estimation plots](https://en.wikipedia.org/wiki/Kernel_density_estimation) are useful for deriving a smooth continuous function from a given sample."
   ]
  },
  {
   "cell_type": "code",
   "execution_count": 37,
   "metadata": {},
   "outputs": [
    {
     "data": {
      "text/plain": [
       "<matplotlib.axes._subplots.AxesSubplot at 0xa9d4e90>"
      ]
     },
     "execution_count": 37,
     "metadata": {},
     "output_type": "execute_result"
    },
    {
     "data": {
      "image/png": "[encoded data removed]",
      "text/plain": [
       "<Figure size 432x288 with 1 Axes>"
      ]
     },
     "metadata": {
      "needs_background": "light"
     },
     "output_type": "display_data"
    }
   ],
   "source": [
    "df = dforigin.copy().set_index('location')\n",
    "df['date'] = pd.to_datetime(df['date'])\n",
    "df = df.loc['Italy'].sort_values('date')\n",
    "df.plot('new_cases', 'new_deaths', kind='scatter')"
   ]
  },
  {
   "cell_type": "code",
   "execution_count": 38,
   "metadata": {
    "scrolled": false
   },
   "outputs": [
    {
     "data": {
      "image/png": "[encoded data removed]",
      "text/plain": [
       "<Figure size 720x432 with 2 Axes>"
      ]
     },
     "metadata": {
      "needs_background": "light"
     },
     "output_type": "display_data"
    }
   ],
   "source": [
    "df = dforigin.copy().set_index('location')\n",
    "df = df.loc['Germany'].sort_values('date', ascending=True)\n",
    "df = df[df['new_cases']> 0]\n",
    "# create a scatter plot of columns 'new_deaths' and 'new_cases', with changing color (c) and size (s) based on day and ratio\n",
    "day = np.arange(len(df))\n",
    "ratio = df['new_cases']/df['new_deaths']\n",
    "df.plot.scatter('new_deaths', 'new_cases', c=day, s=ratio, colormap='viridis', figsize=(10, 6))\n",
    "ax.set_aspect('equal')"
   ]
  },
  {
   "cell_type": "markdown",
   "metadata": {},
   "source": [
    "### Seaborn"
   ]
  },
  {
   "cell_type": "code",
   "execution_count": 39,
   "metadata": {},
   "outputs": [],
   "source": [
    "import numpy as np\n",
    "import pandas as pd\n",
    "import matplotlib.pyplot as plt\n",
    "import seaborn as sns\n",
    "\n",
    "%matplotlib inline"
   ]
  },
  {
   "cell_type": "code",
   "execution_count": 40,
   "metadata": {},
   "outputs": [],
   "source": [
    "df = dforigin[['date', 'location', 'new_cases', 'new_deaths', 'population']].copy().set_index('date').sort_index()\n",
    "df.index = pd.to_datetime(df.index)\n",
    "begin = df.index.max() - pd.Timedelta('15 days')\n",
    "df = df.loc[begin:]\n",
    "df['death-per-100k'] = df['new_deaths'] / df['population'] * 100000"
   ]
  },
  {
   "cell_type": "code",
   "execution_count": 41,
   "metadata": {},
   "outputs": [
    {
     "data": {
      "image/png": "[encoded data removed]",
      "text/plain": [
       "<Figure size 576x576 with 2 Axes>"
      ]
     },
     "metadata": {
      "needs_background": "light"
     },
     "output_type": "display_data"
    }
   ],
   "source": [
    "df = df[df['location'].isin(['United States', 'Italy', 'Germany', 'Canada'])]\n",
    "\n",
    "plt.figure(figsize= (8, 8))\n",
    "plt.subplot(211)\n",
    "sns.swarmplot('location', 'death-per-100k', data=df);\n",
    "plt.xticks(rotation=20);\n",
    "plt.subplot(212)\n",
    "sns.violinplot('location', 'death-per-100k', data=df);\n",
    "plt.xticks(rotation=20);"
   ]
  },
  {
   "cell_type": "code",
   "execution_count": 42,
   "metadata": {},
   "outputs": [],
   "source": [
    "df = (dforigin.loc[dforigin['location'].isin(['United States', 'Germany']), ['location', 'date', 'new_deaths']]\n",
    "      .copy().set_index('location'))\n",
    "df['date'] = pd.to_datetime(df['date'])\n",
    "df = df.sort_values('date')\n",
    "v1 = df.loc['United States', 'new_deaths']\n",
    "v2 = df.loc['Germany', 'new_deaths']"
   ]
  },
  {
   "cell_type": "code",
   "execution_count": 43,
   "metadata": {},
   "outputs": [
    {
     "data": {
      "text/plain": [
       "<Figure size 432x288 with 0 Axes>"
      ]
     },
     "metadata": {},
     "output_type": "display_data"
    },
    {
     "data": {
      "image/png": "[encoded data removed]",
      "text/plain": [
       "<Figure size 432x432 with 3 Axes>"
      ]
     },
     "metadata": {
      "needs_background": "light"
     },
     "output_type": "display_data"
    }
   ],
   "source": [
    "plt.clf()\n",
    "sns.jointplot(v1, v2, alpha=0.4);"
   ]
  },
  {
   "cell_type": "code",
   "execution_count": 44,
   "metadata": {},
   "outputs": [
    {
     "data": {
      "image/png": "[encoded data removed]",
      "text/plain": [
       "<Figure size 432x432 with 3 Axes>"
      ]
     },
     "metadata": {
      "needs_background": "light"
     },
     "output_type": "display_data"
    }
   ],
   "source": [
    "sns.jointplot(v1, v2, kind='hex');"
   ]
  },
  {
   "cell_type": "code",
   "execution_count": 45,
   "metadata": {},
   "outputs": [
    {
     "data": {
      "image/png": "[encoded data removed]",
      "text/plain": [
       "<Figure size 432x432 with 3 Axes>"
      ]
     },
     "metadata": {},
     "output_type": "display_data"
    }
   ],
   "source": [
    "# set the seaborn style for all the following plots\n",
    "sns.set_style('white')\n",
    "\n",
    "sns.jointplot(v1, v2, kind='kde', space=0);"
   ]
  }
 ],
 "metadata": {
  "kernelspec": {
   "display_name": "Python 3",
   "language": "python",
   "name": "python3"
  },
  "language_info": {
   "codemirror_mode": {
    "name": "ipython",
    "version": 3
   },
   "file_extension": ".py",
   "mimetype": "text/x-python",
   "name": "python",
   "nbconvert_exporter": "python",
   "pygments_lexer": "ipython3",
   "version": "3.6.9"
  },
  "toc": {
   "base_numbering": 1,
   "nav_menu": {},
   "number_sections": true,
   "sideBar": true,
   "skip_h1_title": false,
   "title_cell": "Table of Contents",
   "title_sidebar": "Contents",
   "toc_cell": false,
   "toc_position": {},
   "toc_section_display": true,
   "toc_window_display": true
  }
 },
 "nbformat": 4,
 "nbformat_minor": 2
}
