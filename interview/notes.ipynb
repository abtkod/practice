{
 "cells": [
  {
   "cell_type": "markdown",
   "metadata": {},
   "source": [
    "# Basic concepts"
   ]
  },
  {
   "cell_type": "code",
   "execution_count": 1,
   "metadata": {},
   "outputs": [
    {
     "name": "stdout",
     "output_type": "stream",
     "text": [
      "True True\n",
      "True True\n",
      "False False\n",
      "False True\n",
      "False True\n"
     ]
    }
   ],
   "source": [
    "# is vs. ==\n",
    "print(1 is 1, 1 == 1)\n",
    "print(None is None, None == None)\n",
    "print(False is None, False == None)\n",
    "print(False is 0, False == 0)\n",
    "l1, l2 = [1, 2, 3], [1, 2, 3]\n",
    "print(l1 is l2, l1 == l2)"
   ]
  },
  {
   "cell_type": "code",
   "execution_count": 2,
   "metadata": {},
   "outputs": [
    {
     "name": "stdout",
     "output_type": "stream",
     "text": [
      "A.str B.repr C.str\n"
     ]
    },
    {
     "data": {
      "text/plain": [
       "(A.repr, 'A.str')"
      ]
     },
     "execution_count": 2,
     "metadata": {},
     "output_type": "execute_result"
    }
   ],
   "source": [
    "# str vs. repr\n",
    "class A:\n",
    "    def __repr__(self):\n",
    "        return 'A.repr'\n",
    "    def __str__(self):\n",
    "        return 'A.str'\n",
    "class B:\n",
    "    def __repr__(self):\n",
    "        return 'B.repr'\n",
    "class C:\n",
    "    def __str__(self):\n",
    "        return 'C.str'\n",
    "print(A(), B(), C())\n",
    "A(), f'{A()}'"
   ]
  },
  {
   "cell_type": "code",
   "execution_count": 3,
   "metadata": {},
   "outputs": [
    {
     "data": {
      "text/plain": [
       "'0, 1, 2, 3, 4, 5, 6, 7, 8, 9'"
      ]
     },
     "execution_count": 3,
     "metadata": {},
     "output_type": "execute_result"
    }
   ],
   "source": [
    "l = list(range(10))\n",
    "', '.join(str(x) for x in l)"
   ]
  },
  {
   "cell_type": "markdown",
   "metadata": {},
   "source": [
    "## enumerator vs. iterator"
   ]
  },
  {
   "cell_type": "code",
   "execution_count": 4,
   "metadata": {},
   "outputs": [
    {
     "name": "stdout",
     "output_type": "stream",
     "text": [
      "10\n",
      "(0, 10)\n"
     ]
    }
   ],
   "source": [
    "d = {x: f'n{x}' for x in range(10,0,-1)}\n",
    "it = iter(d)\n",
    "en = enumerate(d)\n",
    "print(next(it))\n",
    "print(next(en))"
   ]
  },
  {
   "cell_type": "markdown",
   "metadata": {},
   "source": [
    "# Enumerate instead of range"
   ]
  },
  {
   "cell_type": "code",
   "execution_count": 5,
   "metadata": {},
   "outputs": [
    {
     "name": "stdout",
     "output_type": "stream",
     "text": [
      "0 10\n",
      "1 9\n",
      "2 8\n",
      "3 7\n",
      "4 6\n",
      "5 5\n",
      "6 4\n",
      "7 3\n",
      "8 2\n",
      "9 1\n"
     ]
    }
   ],
   "source": [
    "l = list(range(10,0, -1))\n",
    "for i, v in enumerate(l):\n",
    "    print(i, v)"
   ]
  },
  {
   "cell_type": "markdown",
   "metadata": {},
   "source": [
    "# Classes"
   ]
  },
  {
   "cell_type": "markdown",
   "metadata": {},
   "source": [
    "## Inner Class"
   ]
  },
  {
   "cell_type": "code",
   "execution_count": 6,
   "metadata": {
    "scrolled": true
   },
   "outputs": [
    {
     "name": "stdout",
     "output_type": "stream",
     "text": [
      "Type: <class '__main__.Outer.Inner'>\n",
      "Type: <class '__main__.Outer'>\n",
      "Type: <class '__main__.Outer.Inner'>\n"
     ]
    }
   ],
   "source": [
    "class Outer:    \n",
    "    def __init__(self):        \n",
    "        self.inner = self.Inner() # must use self.Inner to refer to Inner class\n",
    "        print(f'Type: {type(self)}')    \n",
    "    \n",
    "    class Inner:\n",
    "        def __init__(self):            \n",
    "            print(f'Type: {type(self)}')        \n",
    "            \n",
    "outer = Outer()\n",
    "inner = Outer.Inner()"
   ]
  },
  {
   "cell_type": "markdown",
   "metadata": {},
   "source": [
    "## Operator overloading"
   ]
  },
  {
   "cell_type": "code",
   "execution_count": 7,
   "metadata": {},
   "outputs": [
    {
     "name": "stdout",
     "output_type": "stream",
     "text": [
      "str: 3\n"
     ]
    },
    {
     "data": {
      "text/plain": [
       "repr: 3"
      ]
     },
     "execution_count": 7,
     "metadata": {},
     "output_type": "execute_result"
    }
   ],
   "source": [
    "class A:\n",
    "    def __init__(self, data):\n",
    "        self.data = data\n",
    "    def __add__(self, other):\n",
    "        assert (type(other) is A), 'invalid operand'\n",
    "        return A(self.data + other.data)\n",
    "    def __repr__(self):\n",
    "        return 'repr: ' + str(self.data)\n",
    "    def __str__(self):\n",
    "        return 'str: ' + str(self.data)\n",
    "    \n",
    "a1, a2 = A(1), A(2)\n",
    "print(a1 + a2)\n",
    "a1 + a2"
   ]
  },
  {
   "cell_type": "markdown",
   "metadata": {},
   "source": [
    "### del() operator in Linkedlist"
   ]
  },
  {
   "cell_type": "code",
   "execution_count": 8,
   "metadata": {},
   "outputs": [
    {
     "name": "stdout",
     "output_type": "stream",
     "text": [
      "[0, 1, 2, 3, 4, 5, 6, 7, 8, 9]\n",
      "[0, 1, 2, 3, 5, 6, 7, 8, 9]\n"
     ]
    }
   ],
   "source": [
    "class Linkedlist:\n",
    "    class Node:\n",
    "        def __init__(self, val):\n",
    "            self.data = val\n",
    "            self.next = None\n",
    "        def __repr__(self):\n",
    "            return str(self.data)\n",
    "        \n",
    "    def __init__(self):\n",
    "        self.head = None\n",
    "        self.tail = None\n",
    "        \n",
    "    def insert(self, val):\n",
    "        if self.head is None:\n",
    "            self.head = self.tail = Linkedlist.Node(val)\n",
    "        else:\n",
    "            self.tail.next = Linkedlist.Node(val)            \n",
    "            self.tail = self.tail.next\n",
    "            \n",
    "    def __delitem__(self, val):        \n",
    "        current = self.head\n",
    "        if val == current.data:\n",
    "            self.head = current.next\n",
    "            if current == self.tail:\n",
    "                self.tail = self.head            \n",
    "            return True\n",
    "        else:\n",
    "            while current.next:\n",
    "                if current.next.data == val:\n",
    "                    current.next = current.next.next\n",
    "                    if self.tail == current.next:\n",
    "                        self.tail = current                    \n",
    "                    return True\n",
    "                current = current.next\n",
    "        return False\n",
    "    \n",
    "    def __repr__(self):\n",
    "        rp = []\n",
    "        current = self.head\n",
    "        while current:\n",
    "            rp.append(current.data)\n",
    "            current = current.next\n",
    "        return str(rp)\n",
    "            \n",
    "ll = Linkedlist()\n",
    "for i in range(10):\n",
    "    ll.insert(i)\n",
    "print(ll)\n",
    "del(ll[4])\n",
    "print(ll)"
   ]
  },
  {
   "cell_type": "markdown",
   "metadata": {},
   "source": [
    "## Adjacency Matrix Example for __getitem__ and __setitem__"
   ]
  },
  {
   "cell_type": "code",
   "execution_count": 9,
   "metadata": {},
   "outputs": [
    {
     "name": "stdout",
     "output_type": "stream",
     "text": [
      "[n0, n1, n2]\n",
      "6 [[1, 2, 3], [2, 4, 6], [3, 6, 9]]\n"
     ]
    }
   ],
   "source": [
    "class AdjacencyMatrix:\n",
    "    def __init__(self, nodes):\n",
    "        self.__matrix = [[None]*len(nodes) for _ in range(len(nodes))]\n",
    "        self.__reverse_mapping = {node:index for index, node in enumerate(nodes)}        \n",
    "    def __getitem__(self, tup):\n",
    "        n1, n2 = tup\n",
    "        return self.__matrix[self.__reverse_mapping[n1]][self.__reverse_mapping[n2]]\n",
    "    def __setitem__(self, tup, val):\n",
    "        n1, n2 = tup\n",
    "        self.__matrix[self.__reverse_mapping[n1]][self.__reverse_mapping[n2]] = val\n",
    "    def __repr__(self):\n",
    "        return str(self.__matrix)\n",
    "\n",
    "class Node:\n",
    "    def __init__(self, val):\n",
    "        self.val = val\n",
    "    def __repr__(self):\n",
    "        return 'n'+str(self.val)\n",
    "\n",
    "nodes = [Node(i) for i in range(3)]\n",
    "print(nodes)\n",
    "ajm = AdjacencyMatrix(nodes)\n",
    "for i in range(3):\n",
    "    for j in range(3):\n",
    "        ajm[nodes[i], nodes[j]] = (i+1) * (j+1)\n",
    "print(ajm[nodes[1], nodes[2]], ajm)"
   ]
  },
  {
   "cell_type": "markdown",
   "metadata": {},
   "source": [
    "# Lists"
   ]
  },
  {
   "cell_type": "markdown",
   "metadata": {},
   "source": [
    "## Use list comprehensions instead of *map* and *filter*"
   ]
  },
  {
   "cell_type": "code",
   "execution_count": 10,
   "metadata": {},
   "outputs": [
    {
     "name": "stdout",
     "output_type": "stream",
     "text": [
      "[1, 4, 9, 16, 25]\n",
      "[1, 4, 9, 16, 25]\n",
      "[2, 4]\n",
      "[2, 4]\n"
     ]
    }
   ],
   "source": [
    "numbers = list(range(1,6))\n",
    "def square(x):\n",
    "    return x*x\n",
    "print(list(map(square, numbers))) # not good\n",
    "print([square(v) for v in numbers]) # good\n",
    "print(list(filter(lambda x: x%2==0, numbers))) # not good\n",
    "print([v for v in numbers if v%2==0]) # good"
   ]
  },
  {
   "cell_type": "markdown",
   "metadata": {},
   "source": [
    "## Modifying lists"
   ]
  },
  {
   "cell_type": "code",
   "execution_count": 11,
   "metadata": {},
   "outputs": [
    {
     "name": "stdout",
     "output_type": "stream",
     "text": [
      "True\n",
      "True\n"
     ]
    }
   ],
   "source": [
    "l1 = list('abcdefghi')\n",
    "l2 = list('abcdefghi')\n",
    "l1.reverse()\n",
    "print(l1 == l2[::-1])\n",
    "print(l1 == list(reversed(l2)))"
   ]
  },
  {
   "cell_type": "markdown",
   "metadata": {},
   "source": [
    "# Copy objects"
   ]
  },
  {
   "cell_type": "code",
   "execution_count": 12,
   "metadata": {},
   "outputs": [
    {
     "name": "stdout",
     "output_type": "stream",
     "text": [
      "Lists -----------\n",
      "[[0, 100, 2], [0, 1, 2]] ** [[0, 100, 2], [0, 1, 2]] *SC* [[0, 100, 2], [0, 1, 2]] *DC* [[0, 1, 2], [0, 1, 2]]\n",
      "True False\n",
      "Dictionaries -----------\n",
      "{0: [0, 0], 1: [100, 0], 2: [0, 0]} *SC* {0: [0, 0], 1: [100, 0], 2: [0, 0]} *DC* {0: [0, 0], 1: [0, 0], 2: [0, 0]}\n",
      "True False\n",
      "Tuples -----------\n",
      "True\n",
      "Classes -----------\n",
      "[0, 100, 2] [0, 1, 2]\n"
     ]
    }
   ],
   "source": [
    "import copy\n",
    "print('Lists -----------')\n",
    "l = [[j for j in range(3)] for i in range(2)]\n",
    "lcs1, lcs2, lcd = l[:], l.copy(), copy.deepcopy(l)\n",
    "l[0][1]  = 100\n",
    "print(l, '**', lcs1,'*SC*', lcs2,'*DC*', lcd)\n",
    "print(lcs1 == lcs2, lcs1 == lcd)\n",
    "\n",
    "print('Dictionaries -----------')\n",
    "d = {x:[0]*2 for x in range(3)}\n",
    "dsc1 , dsc2, ddc = {**d}, d.copy(), copy.deepcopy(d)\n",
    "d[1][0] = 100\n",
    "print(d, '*SC*', dsc1, '*DC*', ddc)\n",
    "print(dsc1 == dsc2, dsc1 == ddc)\n",
    "\n",
    "print('Tuples -----------')\n",
    "t = ((0,)* 2,)* 3 # or t = tuple(((0,)*2 for _ in range(3)))\n",
    "# tuple does not have a copy method\n",
    "tsc, tdc = t[:], copy.deepcopy(t)\n",
    "print(tsc == tdc)\n",
    "\n",
    "print('Classes -----------')\n",
    "class C:\n",
    "    me = 'Class'\n",
    "    def __init__(self, data):\n",
    "        self.data = data\n",
    "    def __repr__(self):\n",
    "        return str(self.data)\n",
    "c = C([0,1,2])\n",
    "cc = copy.deepcopy(c)\n",
    "c.data[1] = 100\n",
    "print(c, cc)"
   ]
  },
  {
   "cell_type": "markdown",
   "metadata": {},
   "source": [
    "# Debug with *breakpoint* instead of *print*"
   ]
  },
  {
   "cell_type": "code",
   "execution_count": 13,
   "metadata": {},
   "outputs": [],
   "source": [
    "# import pdb; pdb.set_trace()\n",
    "# x, y = list(range(1,10,2)), 6\n",
    "# while(x<y):\n",
    "#     print(x)\n",
    "#     breakpoint()"
   ]
  },
  {
   "cell_type": "markdown",
   "metadata": {},
   "source": [
    "# Format with f string"
   ]
  },
  {
   "cell_type": "code",
   "execution_count": 14,
   "metadata": {},
   "outputs": [
    {
     "name": "stdout",
     "output_type": "stream",
     "text": [
      "2 divided by 4 = 0.50000\n"
     ]
    }
   ],
   "source": [
    "print(f'2 divided by 4 = {2/4:.5f}')"
   ]
  },
  {
   "cell_type": "markdown",
   "metadata": {},
   "source": [
    "# Monkey patching"
   ]
  },
  {
   "cell_type": "code",
   "execution_count": 15,
   "metadata": {},
   "outputs": [
    {
     "name": "stdout",
     "output_type": "stream",
     "text": [
      "C C\n",
      "C obj\n"
     ]
    }
   ],
   "source": [
    "class C:\n",
    "    pass\n",
    "\n",
    "C.name = 'C'\n",
    "obj = C()\n",
    "print(C.name, obj.name)\n",
    "obj.name = 'obj'\n",
    "print(C.name, obj.name)"
   ]
  },
  {
   "cell_type": "code",
   "execution_count": 16,
   "metadata": {},
   "outputs": [
    {
     "name": "stdout",
     "output_type": "stream",
     "text": [
      "<class '__main__.C'> C C\n",
      "<class '__main__.C'> class class\n",
      "<class '__main__.C'> class obj\n"
     ]
    }
   ],
   "source": [
    "# at the beginning object.attribute will be automatically set to class.attribute until the object.attribute is changed\n",
    "class C:\n",
    "    name = 'C'\n",
    "    def __repr__(self):\n",
    "        return str(self.name)\n",
    "\n",
    "obj1, obj2 = C(), C()\n",
    "print(C, obj1, obj2)\n",
    "C.name = 'class'\n",
    "print(C, obj1, obj2)\n",
    "obj2.name = 'obj'\n",
    "print(C, obj1, obj2)"
   ]
  },
  {
   "cell_type": "markdown",
   "metadata": {},
   "source": [
    "# Sort complex lists with *sorted*"
   ]
  },
  {
   "cell_type": "code",
   "execution_count": 17,
   "metadata": {},
   "outputs": [
    {
     "name": "stdout",
     "output_type": "stream",
     "text": [
      "[(1, 5, 'z'), (2, 4, 'y'), (3, 3, 'x')]\n",
      "[(3, 3, 'x'), (2, 4, 'y'), (1, 5, 'z')]\n",
      "[(1, 5, 'z'), (2, 4, 'y'), (3, 3, 'x')]\n"
     ]
    }
   ],
   "source": [
    "def char_range(x,y, incr):\n",
    "    for c in range(ord(x), ord(y)+1, incr):\n",
    "        yield chr(c)\n",
    "myList = list(zip(range(1,5), range(5,2,-1), char_range('z', 'g', -1)))\n",
    "print(myList)\n",
    "print(sorted(myList, reverse=True))\n",
    "print(sorted(myList, reverse=True, key=lambda v: v[2]))"
   ]
  },
  {
   "cell_type": "markdown",
   "metadata": {},
   "source": [
    "# Store unique values with *set*"
   ]
  },
  {
   "cell_type": "code",
   "execution_count": 18,
   "metadata": {},
   "outputs": [
    {
     "name": "stdout",
     "output_type": "stream",
     "text": [
      "{'any', 'in', 'Buffalo', 'there', 'buffalo', 'is'}\n"
     ]
    }
   ],
   "source": [
    "string = \"is there any buffalo in Buffalo buffalo\"\n",
    "mySet = set()\n",
    "for _,s in enumerate(string.split()):\n",
    "    mySet.add(s)\n",
    "print(mySet)"
   ]
  },
  {
   "cell_type": "markdown",
   "metadata": {},
   "source": [
    "# Save memory with *generators*"
   ]
  },
  {
   "cell_type": "code",
   "execution_count": 19,
   "metadata": {},
   "outputs": [
    {
     "name": "stdout",
     "output_type": "stream",
     "text": [
      "bad approach:[0, 1, 2, 3, 4, 5, 6, 7, 8, 9]\n",
      "good approach:<generator object <genexpr> at 0x0637A660>\n"
     ]
    }
   ],
   "source": [
    "print(f'bad approach:{ [x for x in range(10)] }')\n",
    "print(f'good approach:{ (x for x in range(10)) }')"
   ]
  },
  {
   "cell_type": "markdown",
   "metadata": {},
   "source": [
    "# Default values in *Dictionary* with *setdefault()* and *get()*"
   ]
  },
  {
   "cell_type": "code",
   "execution_count": 20,
   "metadata": {},
   "outputs": [
    {
     "name": "stdout",
     "output_type": "stream",
     "text": [
      "None\n",
      "d['name'] results in key error\n",
      "{'name': 'name', 'age': 0}\n",
      "10\n",
      "11\n"
     ]
    }
   ],
   "source": [
    "d = {}\n",
    "print(d.get('name'))\n",
    "print(f'd[\\'name\\'] results in key error')\n",
    "d['name'] = 'name'\n",
    "d.setdefault('name', None)\n",
    "d.setdefault('age', 0)\n",
    "print(d)\n",
    "d['age'] += 10\n",
    "print(d['age'])\n",
    "d.setdefault('age', 0)\n",
    "d['age'] += 1\n",
    "print(d['age'])"
   ]
  },
  {
   "cell_type": "markdown",
   "metadata": {},
   "source": [
    "# Working with Hash"
   ]
  },
  {
   "cell_type": "code",
   "execution_count": 21,
   "metadata": {},
   "outputs": [],
   "source": [
    "from collections import defaultdict, Counter"
   ]
  },
  {
   "cell_type": "code",
   "execution_count": 22,
   "metadata": {},
   "outputs": [
    {
     "name": "stdout",
     "output_type": "stream",
     "text": [
      "['these', 'are', 'some', 'repeating', 'words:', 'python', 'python', 'python', 'interview', 'interview']\n",
      "Counter({'python': 3, 'interview': 2, 'these': 1, 'are': 1, 'some': 1, 'repeating': 1, 'words:': 1})\n",
      "[('python', 3), ('interview', 2)]\n"
     ]
    }
   ],
   "source": [
    "w = ['python']*3 + ['interview']*2\n",
    "words = f'these are some repeating words: {\" \".join(w)}'\n",
    "words = words.split()\n",
    "print(words)\n",
    "print(Counter(words))\n",
    "print(Counter(words).most_common(2))"
   ]
  },
  {
   "cell_type": "markdown",
   "metadata": {},
   "source": [
    "# Permutations and Combinations"
   ]
  },
  {
   "cell_type": "code",
   "execution_count": 23,
   "metadata": {},
   "outputs": [],
   "source": [
    "from itertools import permutations, combinations"
   ]
  },
  {
   "cell_type": "code",
   "execution_count": 24,
   "metadata": {},
   "outputs": [
    {
     "name": "stdout",
     "output_type": "stream",
     "text": [
      "[(1, 2), (1, 3), (2, 1), (2, 3), (3, 1), (3, 2)]\n",
      "[(1, 2), (1, 3), (2, 3)]\n"
     ]
    }
   ],
   "source": [
    "numbers = list(range(1,4))\n",
    "print(list(permutations(numbers, 2)))\n",
    "print(list(combinations(numbers, 2)))"
   ]
  },
  {
   "cell_type": "markdown",
   "metadata": {},
   "source": [
    "# Access string groups"
   ]
  },
  {
   "cell_type": "code",
   "execution_count": 25,
   "metadata": {},
   "outputs": [
    {
     "name": "stdout",
     "output_type": "stream",
     "text": [
      "ABCDEFGHIJKLMNOPQRSTUVWXYZ\n",
      "abcdefghijklmnopqrstuvwxyzABCDEFGHIJKLMNOPQRSTUVWXYZ\n",
      "0123456789\n",
      "!\"#$%&'()*+,-./:;<=>?@[\\]^_`{|}~\n",
      "0123456789abcdefghijklmnopqrstuvwxyzABCDEFGHIJKLMNOPQRSTUVWXYZ!\"#$%&'()*+,-./:;<=>?@[\\]^_`{|}~ \t\n",
      "\u000b",
      "\f",
      "\n"
     ]
    }
   ],
   "source": [
    "import string\n",
    "print(string.ascii_uppercase)\n",
    "print(string.ascii_letters)\n",
    "print(string.digits)\n",
    "print(string.punctuation)\n",
    "print(string.printable)"
   ]
  },
  {
   "cell_type": "markdown",
   "metadata": {},
   "source": [
    "# Merge two dicts"
   ]
  },
  {
   "cell_type": "code",
   "execution_count": 26,
   "metadata": {},
   "outputs": [
    {
     "data": {
      "text/plain": [
       "{'a': 1, 'b': 2, 'c': 3, 'd': 4}"
      ]
     },
     "execution_count": 26,
     "metadata": {},
     "output_type": "execute_result"
    }
   ],
   "source": [
    "x = {'a': 1, 'b': 2}\n",
    "y = {'c': 3, 'd': 4}\n",
    "z = {**x, **y}\n",
    "z"
   ]
  },
  {
   "cell_type": "markdown",
   "metadata": {},
   "source": [
    "# Multi-dimension list initialization"
   ]
  },
  {
   "cell_type": "code",
   "execution_count": 27,
   "metadata": {},
   "outputs": [
    {
     "name": "stdout",
     "output_type": "stream",
     "text": [
      "True\n",
      "[True, False, False]\n",
      "[True, False, False]\n",
      "****************************************************************************************************\n",
      "True\n",
      "False\n",
      "[[True, False], [False, False], [False, False]]\n",
      "[[True, False], [True, False], [True, False]]\n"
     ]
    }
   ],
   "source": [
    "a = [False for _ in range(3)] \n",
    "b = [False]*3\n",
    "a[0], b[0] = True, True\n",
    "print(a == b)\n",
    "print(a)\n",
    "print(b)\n",
    "print('*'*100)\n",
    "aa = [[False for _ in range(2)] for _ in range(3)]\n",
    "bb = [[False] * 2]*3\n",
    "print(aa == bb)\n",
    "aa[0][0], bb[0][0] = True, True\n",
    "print(aa == bb)\n",
    "print(aa)\n",
    "print(bb)"
   ]
  },
  {
   "cell_type": "markdown",
   "metadata": {},
   "source": [
    "# Lists as *Stack* and *Queue*"
   ]
  },
  {
   "cell_type": "markdown",
   "metadata": {},
   "source": [
    "list are fast at adding or removing from the end, but\n",
    "they are slow at adding or removing from the beginning, so\n",
    "they are good options for stacks and NOT queue"
   ]
  },
  {
   "cell_type": "code",
   "execution_count": 28,
   "metadata": {},
   "outputs": [
    {
     "data": {
      "text/plain": [
       "10"
      ]
     },
     "execution_count": 28,
     "metadata": {},
     "output_type": "execute_result"
    }
   ],
   "source": [
    "s = []\n",
    "for i in range(1, 11):\n",
    "    s.append(i)\n",
    "s.pop()"
   ]
  },
  {
   "cell_type": "markdown",
   "metadata": {},
   "source": [
    "for queues we use deque from the collections\n",
    "https://www.geeksforgeeks.org/using-list-stack-queues-python/"
   ]
  },
  {
   "cell_type": "code",
   "execution_count": 29,
   "metadata": {},
   "outputs": [
    {
     "name": "stdout",
     "output_type": "stream",
     "text": [
      "1 4 deque([2, 3])\n"
     ]
    }
   ],
   "source": [
    "from collections import deque\n",
    "q = deque([1,2,3])\n",
    "q.append(4)\n",
    "print(q.popleft(), q.pop(), q)"
   ]
  },
  {
   "cell_type": "markdown",
   "metadata": {},
   "source": [
    "# Miscellaneous"
   ]
  },
  {
   "cell_type": "code",
   "execution_count": 30,
   "metadata": {},
   "outputs": [
    {
     "data": {
      "text/plain": [
       "'9 8 7 6 5 4 3 2 1 0'"
      ]
     },
     "execution_count": 30,
     "metadata": {},
     "output_type": "execute_result"
    }
   ],
   "source": [
    "' '.join([str(x) for x in reversed(range(10))])"
   ]
  },
  {
   "cell_type": "code",
   "execution_count": 31,
   "metadata": {},
   "outputs": [
    {
     "name": "stdout",
     "output_type": "stream",
     "text": [
      "True\n",
      "True\n"
     ]
    }
   ],
   "source": [
    "# INF positive and negative\n",
    "print(-float('inf') < 0 < float('inf'))\n",
    "import math\n",
    "print(-math.inf < 0 < math.inf)"
   ]
  },
  {
   "cell_type": "code",
   "execution_count": 32,
   "metadata": {},
   "outputs": [
    {
     "name": "stdout",
     "output_type": "stream",
     "text": [
      "0+a\n",
      "0+a\n",
      "0+a\n"
     ]
    },
    {
     "data": {
      "text/plain": [
       "{'0+a', '1+a', '3+a', '4+a', '5+a', '6+a', '7+a', '8+a', '9+a'}"
      ]
     },
     "execution_count": 32,
     "metadata": {},
     "output_type": "execute_result"
    }
   ],
   "source": [
    "d = {f'{i}+a':i for i in range(10)}\n",
    "print(min(d))\n",
    "print(min(d, key=d.get))\n",
    "print(min(d.items(), key=lambda x: x[1])[0])\n",
    "s = set(d.keys())\n",
    "s.remove('2+a')\n",
    "s"
   ]
  },
  {
   "cell_type": "code",
   "execution_count": 33,
   "metadata": {},
   "outputs": [
    {
     "data": {
      "text/plain": [
       "'much ado about nothing   %20'"
      ]
     },
     "execution_count": 33,
     "metadata": {},
     "output_type": "execute_result"
    }
   ],
   "source": [
    "# strings are immutable\n",
    "# string = 'much ado about nothing      '\n",
    "# string[-3:] = \"%20\"\n",
    "# string\n",
    "string = list('much ado about nothing      ')\n",
    "string[-3:] = \"%20\"\n",
    "string\n",
    "''.join(string)"
   ]
  },
  {
   "cell_type": "code",
   "execution_count": 34,
   "metadata": {},
   "outputs": [
    {
     "data": {
      "text/plain": [
       "'hello world'"
      ]
     },
     "execution_count": 34,
     "metadata": {},
     "output_type": "execute_result"
    }
   ],
   "source": [
    "min('hello world', range(15), key= len)"
   ]
  },
  {
   "cell_type": "code",
   "execution_count": 35,
   "metadata": {},
   "outputs": [
    {
     "data": {
      "text/plain": [
       "'nitba'"
      ]
     },
     "execution_count": 35,
     "metadata": {},
     "output_type": "execute_result"
    }
   ],
   "source": [
    "s = \"abtin\"\n",
    "s[-1::-1]"
   ]
  },
  {
   "cell_type": "code",
   "execution_count": 36,
   "metadata": {},
   "outputs": [
    {
     "data": {
      "text/plain": [
       "[2]"
      ]
     },
     "execution_count": 36,
     "metadata": {},
     "output_type": "execute_result"
    }
   ],
   "source": [
    "from random import randint\n",
    "list(map(len, [['a' for _ in range(randint(1,6))] for _ in range(randint(1,6))]))"
   ]
  },
  {
   "cell_type": "code",
   "execution_count": 37,
   "metadata": {},
   "outputs": [
    {
     "data": {
      "text/plain": [
       "2.56"
      ]
     },
     "execution_count": 37,
     "metadata": {},
     "output_type": "execute_result"
    }
   ],
   "source": [
    "round(2.56456, 2)"
   ]
  },
  {
   "cell_type": "code",
   "execution_count": 38,
   "metadata": {},
   "outputs": [
    {
     "name": "stdout",
     "output_type": "stream",
     "text": [
      "name: random, age: 4, type: <class '__main__.BaseClass'>\n",
      "name: copied_parent, age: 10, type: <class '__main__.BaseClass'>\n",
      "name: random, age: 6, type: <class '__main__.DerivedClass'>\n",
      "name: copied_child, age: 15, type: <class '__main__.DerivedClass'>\n"
     ]
    }
   ],
   "source": [
    "from random import randint\n",
    "class BaseClass:\n",
    "    def __init__(self, age, name):\n",
    "        self.age, self.name = age, name\n",
    "    \n",
    "    def copy(self):\n",
    "        age, name = self.age, \"copied_\"+self.name\n",
    "        cp = type(self)(age, name) # <---------------------        \n",
    "        return cp\n",
    "    \n",
    "    @classmethod\n",
    "    def random(self, min_val, max_val):\n",
    "        age, name = randint(min_val, max_val), \"random\"\n",
    "        obj = self(age, name) # <----------------------------        \n",
    "        return obj\n",
    "        \n",
    "    def __str__(self):\n",
    "        return f\"name: {self.name}, age: {self.age}, type: {type(self)}\"\n",
    "\n",
    "class DerivedClass(BaseClass):\n",
    "    pass\n",
    "\n",
    "b, d = BaseClass(10, \"parent\"), DerivedClass(15, \"child\")\n",
    "nb, nd = b.copy(), d.copy()\n",
    "print(BaseClass.random(1, 10))\n",
    "print(nb)\n",
    "print(DerivedClass.random(1,10))\n",
    "print(nd)"
   ]
  },
  {
   "cell_type": "code",
   "execution_count": 39,
   "metadata": {},
   "outputs": [
    {
     "data": {
      "text/plain": [
       "[[True, True, True]]"
      ]
     },
     "execution_count": 39,
     "metadata": {},
     "output_type": "execute_result"
    }
   ],
   "source": [
    "grid = [[True, True, False], [True, False, True], [True, True, True]]\n",
    "grid[1:][1:]"
   ]
  },
  {
   "cell_type": "code",
   "execution_count": 40,
   "metadata": {},
   "outputs": [
    {
     "name": "stdout",
     "output_type": "stream",
     "text": [
      "[0, 1, 2, 3, 4, 5, 6, 7, 8, 9]\n",
      "[None, 1, 2, 3, 4, 5, 6, 7, 8, 9]\n"
     ]
    }
   ],
   "source": [
    "# slicing makes a copy of the list and copies of the elements in the list\n",
    "l1 = list(range(10))\n",
    "l2 = l1[:]\n",
    "l2[0] = None\n",
    "print(l1)\n",
    "l3 = l1\n",
    "l3[0] = None\n",
    "print(l1)"
   ]
  },
  {
   "cell_type": "code",
   "execution_count": 41,
   "metadata": {},
   "outputs": [
    {
     "name": "stdout",
     "output_type": "stream",
     "text": [
      "{1, 2, 3}\n"
     ]
    },
    {
     "data": {
      "text/plain": [
       "True"
      ]
     },
     "execution_count": 41,
     "metadata": {},
     "output_type": "execute_result"
    }
   ],
   "source": [
    "s = set([3,2,1])\n",
    "print(s)\n",
    "string = \"abc\"\n",
    "string[:0] == string[len(string):]"
   ]
  },
  {
   "cell_type": "code",
   "execution_count": 42,
   "metadata": {},
   "outputs": [
    {
     "name": "stdout",
     "output_type": "stream",
     "text": [
      "{1, 4}\n",
      "{1, 2, 3, 4, 5, 6}\n",
      "{1, 2, 3, 4} {2, 3, 5, 6}\n",
      "{1, 2, 3, 4, 5, 6}\n"
     ]
    }
   ],
   "source": [
    "s1, s2 = set([1,2,3,4]), set([2,3,5,6])\n",
    "print(s1.difference(s2))\n",
    "print(s1.union(s2))\n",
    "print(s1, s2)\n",
    "s1.update(s2)\n",
    "print(s1)"
   ]
  },
  {
   "cell_type": "code",
   "execution_count": 43,
   "metadata": {},
   "outputs": [
    {
     "name": "stdout",
     "output_type": "stream",
     "text": [
      "['0x0', '0x1', '0x2', '0x3', '0x4', '0x5', '0x6', '0x7', '0x8', '0x9'] <class 'str'>\n",
      "['0x0', '0x1', '0x3', '0x4', '0x5', '0x6', '0x7', '0x8', '0x9']\n",
      "['0x0', '0x1', '0x3', '0x4', '0x5', '0x6', '0x7', '0x8']\n",
      "{'0x3', '0x8', '0x5', '0x6', '0x0', '0x7', '0x4'} ['0x0', '0x1', '0x3', '0x4', '0x5', '0x6', '0x7', '0x8']\n"
     ]
    }
   ],
   "source": [
    "l = list(map(hex, range(10)))\n",
    "print(l, type(l[0]))\n",
    "del(l[2])\n",
    "print(l)\n",
    "l.remove('0x9')\n",
    "print(l)\n",
    "\n",
    "s = set(l)\n",
    "s.remove('0x1')\n",
    "print(s, l)"
   ]
  },
  {
   "cell_type": "code",
   "execution_count": 44,
   "metadata": {},
   "outputs": [
    {
     "name": "stdout",
     "output_type": "stream",
     "text": [
      "[20, 21, 22, 23, 24, 25, 26, 27, 28, 29, 30]\n",
      "[(10, 30), (9, 29), (8, 28), (7, 27), (6, 26), (5, 25), (4, 24), (3, 23), (2, 22), (1, 21), (0, 20)]\n"
     ]
    }
   ],
   "source": [
    "#enumerate backward\n",
    "l = list(range(20, 31))\n",
    "print(l)\n",
    "print([(i, l[i]) for i in range(len(l)-1, -1, -1)])"
   ]
  },
  {
   "cell_type": "code",
   "execution_count": 45,
   "metadata": {},
   "outputs": [
    {
     "name": "stdout",
     "output_type": "stream",
     "text": [
      "True (1, 2, 3, 4)\n",
      "a[0] = 1? values CANNOT be changed! --> correct: a = list(a), a[0] = 9, a = tuple(a)\n"
     ]
    }
   ],
   "source": [
    "a, b = (1,2), (3, 4)\n",
    "print(a+b != (a[0]+b[0], a[1]+b[1]), a+b)\n",
    "print('a[0] = 1? values CANNOT be changed! --> correct: a = list(a), a[0] = 9, a = tuple(a)')"
   ]
  },
  {
   "cell_type": "code",
   "execution_count": 46,
   "metadata": {},
   "outputs": [
    {
     "name": "stdout",
     "output_type": "stream",
     "text": [
      "{(2, 5): '10', (3, 10): '11', (4, 2): '100', (5, 5): '101', (6, 9): '110', (7, 1): '111'}\n",
      "[((7, 1), '111'), ((4, 2), '100'), ((2, 5), '10'), ((5, 5), '101'), ((6, 9), '110'), ((3, 10), '11')]\n"
     ]
    }
   ],
   "source": [
    "from random import randint\n",
    "d = {(i, randint(1,10)):f'{i:b}' for i in range(2, 8)}\n",
    "print(d)\n",
    "print(sorted(d.items(), key=lambda x: x[0][1]))"
   ]
  },
  {
   "cell_type": "code",
   "execution_count": 47,
   "metadata": {},
   "outputs": [
    {
     "name": "stdout",
     "output_type": "stream",
     "text": [
      "True\n",
      "2 4\n"
     ]
    },
    {
     "data": {
      "text/plain": [
       "True"
      ]
     },
     "execution_count": 47,
     "metadata": {},
     "output_type": "execute_result"
    }
   ],
   "source": [
    "print(1 << 5 == pow(2, 5))\n",
    "x = 4\n",
    "print(x >> 1, x)\n",
    "(3 >> 1 << 1) != 3"
   ]
  },
  {
   "cell_type": "code",
   "execution_count": 48,
   "metadata": {},
   "outputs": [
    {
     "data": {
      "text/plain": [
       "{0: '0', 1: '1', 3: '3', 4: '4', 5: '5', 6: '6', 7: '7', 8: '8', 9: '9'}"
      ]
     },
     "execution_count": 48,
     "metadata": {},
     "output_type": "execute_result"
    }
   ],
   "source": [
    "d = {i:f'{i}' for i in range(10)}\n",
    "del(d[2])\n",
    "d"
   ]
  },
  {
   "cell_type": "code",
   "execution_count": 49,
   "metadata": {},
   "outputs": [
    {
     "data": {
      "text/plain": [
       "{'a': 1, 'b': {10}}"
      ]
     },
     "execution_count": 49,
     "metadata": {},
     "output_type": "execute_result"
    }
   ],
   "source": [
    "d = {'a': 1}\n",
    "d.setdefault('a', set())\n",
    "d.setdefault('b', set([10]))\n",
    "d"
   ]
  },
  {
   "cell_type": "code",
   "execution_count": 50,
   "metadata": {},
   "outputs": [
    {
     "name": "stdout",
     "output_type": "stream",
     "text": [
      "[(0, 2), (1, 3), (2, 4), (3, 5), (4, 6), (5, 7), (6, 8), (7, 9)]\n",
      "[(2, 0), (3, 1), (4, 2), (5, 3), (6, 4), (7, 5), (8, 6), (9, 7), (10, 8), (11, 9)]\n",
      "[(2, 2), (3, 3), (4, 4), (5, 5), (6, 6), (7, 7), (8, 8), (9, 9)]\n",
      "[(2, 2), (3, 3), (4, 4), (5, 5), (6, 6), (7, 7), (8, 8), (9, 9)]\n"
     ]
    }
   ],
   "source": [
    "l = list(range(10))\n",
    "print([(i, v) for i, v in enumerate(l[2:])]) # wrong\n",
    "print([(i, v) for i, v in enumerate(l, start=2)]) # wrong\n",
    "print([(i, v) for i, v in enumerate(l[2:], start=2)])\n",
    "enuml = enumerate(l)\n",
    "next(enuml)\n",
    "next(enuml)\n",
    "print([(i, v) for i, v in enuml])"
   ]
  },
  {
   "cell_type": "code",
   "execution_count": 51,
   "metadata": {},
   "outputs": [
    {
     "name": "stdout",
     "output_type": "stream",
     "text": [
      "[0, 1, 2, 3, 4, 5, 6, 77, 88, 8, 9]\n",
      "[0, 1, 2, 3, 4, 5, 6, 7, 8, 9]\n"
     ]
    }
   ],
   "source": [
    "l = l1 = list(range(5))\n",
    "l2 = list(range(5,10))\n",
    "l3 = l1 + l2\n",
    "l1.extend(l2)\n",
    "l1[7] = 77\n",
    "l1.insert(8, 88)\n",
    "print(l)\n",
    "print(l3)"
   ]
  },
  {
   "cell_type": "code",
   "execution_count": 52,
   "metadata": {},
   "outputs": [
    {
     "name": "stdout",
     "output_type": "stream",
     "text": [
      "False [2, 3, 4] [100, 3, 4]\n",
      "******************************\n",
      "[0, 1, 2, 3, 4]\n",
      "True [0, 1, 2, 120, 4] [2, 120, 4]\n",
      "False [0, 1, 2, 120, 4] [100, 120, 4]\n",
      "Conclusion: list slicing copies the references inside the list (= it is not MASKING the same list!)\n"
     ]
    }
   ],
   "source": [
    "l1 = list(range(5))\n",
    "l2 = l1[2:]\n",
    "l2[0] = 100\n",
    "print(l2 == l1[2:], l1[2:], l2)\n",
    "print('*'*30)\n",
    "class Data:\n",
    "    def __init__(self, d):\n",
    "        self.value = d\n",
    "    def __repr__(self):\n",
    "        return str(self.value)\n",
    "l1 = [Data(i) for i in range(5)]\n",
    "print(l1)\n",
    "l2 = l1[2:]\n",
    "l2[1].value = 120\n",
    "print(l2 == l1[2:], l1, l2)\n",
    "l2[0] = Data(100)\n",
    "print(l2 == l1[2:], l1, l2)\n",
    "print('Conclusion: list slicing copies the references inside the list (= it is not MASKING the same list!)')"
   ]
  },
  {
   "cell_type": "code",
   "execution_count": 53,
   "metadata": {},
   "outputs": [
    {
     "data": {
      "text/plain": [
       "555121000"
      ]
     },
     "execution_count": 53,
     "metadata": {},
     "output_type": "execute_result"
    }
   ],
   "source": [
    "def recursive_multiply(smaller, bigger, memo={}):\n",
    "    if smaller == 0:\n",
    "        return 0\n",
    "    if smaller == 1:\n",
    "        return bigger\n",
    "    \n",
    "    rightmost = 0 if smaller == (smaller >> 1 << 1) else bigger\n",
    "    n = smaller >> 1\n",
    "    if memo.get(n, -1) == -1:\n",
    "        memo[n] = recursive_multiply(n, bigger, memo)\n",
    "    return memo[n] + memo[n] + rightmost\n",
    "\n",
    "recursive_multiply(555121, 1000)"
   ]
  },
  {
   "cell_type": "code",
   "execution_count": 54,
   "metadata": {},
   "outputs": [
    {
     "name": "stdout",
     "output_type": "stream",
     "text": [
      "{'0': 0, '1': 1, '2': 2, '3': 0, '4': 1, '5': 2, '6': 0, '7': 1, '8': 2, '9': 0}\n",
      "min so far 0\n",
      "deleting d[0] ...\n",
      "min so far -->  3\n",
      "pop -->  0\n",
      "min so far -->  6\n",
      "popitem -->  ('9', 0)\n",
      "popitem -->  ('8', 2)\n",
      "{'1': 1, '2': 2, '4': 1, '5': 2, '6': 0, '7': 1}\n"
     ]
    }
   ],
   "source": [
    "d= {f'{x}':x%3 for x in range(10)}\n",
    "print(d)\n",
    "print('min so far', min(d, key=d.get))\n",
    "print('deleting d[0] ...')\n",
    "del(d['0'])\n",
    "print('min so far --> ', min(d, key=d.get))\n",
    "print('pop --> ', d.pop('3'))\n",
    "print('min so far --> ', min(d, key=d.get))\n",
    "print('popitem --> ', d.popitem())\n",
    "print('popitem --> ', d.popitem())\n",
    "print(d)"
   ]
  },
  {
   "cell_type": "code",
   "execution_count": 55,
   "metadata": {},
   "outputs": [
    {
     "name": "stdout",
     "output_type": "stream",
     "text": [
      "<generator object <genexpr> at 0x06395150>\n",
      "(0, 0, 0)\n",
      "(0, 1, 1)\n",
      "(0, 2, 2)\n",
      "(1, 0, 1)\n",
      "(1, 1, 2)\n",
      "(2, 0, 2)\n"
     ]
    }
   ],
   "source": [
    "# flatten nested loop\n",
    "gen = ((x,y,z) for x in range(3) for y in range(3) for z in range(3) if z == x+y)\n",
    "print(gen)\n",
    "for t in gen:\n",
    "    print(t)"
   ]
  }
 ],
 "metadata": {
  "kernelspec": {
   "display_name": "Python 3",
   "language": "python",
   "name": "python3"
  },
  "language_info": {
   "codemirror_mode": {
    "name": "ipython",
    "version": 3
   },
   "file_extension": ".py",
   "mimetype": "text/x-python",
   "name": "python",
   "nbconvert_exporter": "python",
   "pygments_lexer": "ipython3",
   "version": "3.6.9"
  },
  "toc": {
   "base_numbering": 1,
   "nav_menu": {},
   "number_sections": true,
   "sideBar": true,
   "skip_h1_title": false,
   "title_cell": "Table of Contents",
   "title_sidebar": "Contents",
   "toc_cell": false,
   "toc_position": {},
   "toc_section_display": true,
   "toc_window_display": true
  }
 },
 "nbformat": 4,
 "nbformat_minor": 2
}
