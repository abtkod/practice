{
 "cells": [
  {
   "cell_type": "markdown",
   "metadata": {},
   "source": [
    "# Node"
   ]
  },
  {
   "cell_type": "code",
   "execution_count": 1,
   "metadata": {},
   "outputs": [],
   "source": [
    "%load_ext autoreload\n",
    "%autoreload 1"
   ]
  },
  {
   "cell_type": "code",
   "execution_count": 2,
   "metadata": {},
   "outputs": [],
   "source": [
    "# from datastructure.node import * is replaced by: (to have auto import in the notebook)\n",
    "\n",
    "%aimport datastructure.node\n",
    "BaseNode = datastructure.node.BaseNode\n",
    "Node = datastructure.node.Node\n",
    "NodeF = datastructure.node.NodeFlexible"
   ]
  },
  {
   "cell_type": "code",
   "execution_count": 3,
   "metadata": {},
   "outputs": [],
   "source": [
    "bn = BaseNode('root-B', 3)\n",
    "print(bn)\n",
    "print(repr(bn))"
   ]
  },
  {
   "cell_type": "code",
   "execution_count": 4,
   "metadata": {},
   "outputs": [],
   "source": [
    "n = Node('root-FF', 2)\n",
    "print(n)\n",
    "print(repr(n))\n",
    "print('*' * 60)\n",
    "n[0] = Node('left-FF', 2)\n",
    "rnd = Node('right-FF', 2)\n",
    "n[1] = rnd\n",
    "print(n)\n",
    "print(repr(n))\n",
    "print(repr(rnd))\n",
    "print(f'parents of rnd: {[str(x.value) for x in rnd._parents]}')\n",
    "print('*' * 60)\n",
    "n.remove_child(1)\n",
    "print(n)\n",
    "print(repr(n))\n",
    "print(repr(rnd))\n",
    "print(f'parents of rnd: {[str(x.value) for x in rnd._parents]}')"
   ]
  },
  {
   "cell_type": "code",
   "execution_count": 5,
   "metadata": {},
   "outputs": [],
   "source": [
    "nf = NodeF('root-Flx')\n",
    "print(nf)\n",
    "print(repr(nf))\n",
    "print('*' * 60)\n",
    "nfy = NodeF('yellow')\n",
    "nf += nfy\n",
    "nf += nfy\n",
    "nf += 1\n",
    "nf[2] = nfy\n",
    "nf += 7\n",
    "print(nf)\n",
    "print(repr(nf))\n",
    "print(repr(nfy))\n",
    "print('*' * 60)\n",
    "nf -= nfy\n",
    "print(nf)\n",
    "nf.clean_children()\n",
    "print(nf)\n",
    "print(repr(nf))\n",
    "print(repr(nfy))"
   ]
  },
  {
   "cell_type": "code",
   "execution_count": 6,
   "metadata": {
    "scrolled": true
   },
   "outputs": [],
   "source": [
    "root = Node('root', 2)\n",
    "root[0] = Node('l', 2)\n",
    "root[1] = Node('r', 2)\n",
    "root[1][1] = Node('rr', 2)\n",
    "print(root)\n",
    "print(root[1])"
   ]
  },
  {
   "cell_type": "markdown",
   "metadata": {},
   "source": [
    "# Tree"
   ]
  },
  {
   "cell_type": "code",
   "execution_count": 7,
   "metadata": {
    "scrolled": true
   },
   "outputs": [],
   "source": [
    "%aimport datastructure.tree\n",
    "\n",
    "BinaryTree = datastructure.tree.BinaryTree\n",
    "BST = datastructure.tree.BinarySearchTree"
   ]
  },
  {
   "cell_type": "code",
   "execution_count": 8,
   "metadata": {
    "scrolled": true
   },
   "outputs": [
    {
     "name": "stdout",
     "output_type": "stream",
     "text": [
      "BinaryTree: (ROOT; (l; (ll; _, _), (lr; _, _)), (r; _, (rr; _, (rrr; _, _))))\n",
      "BinaryTree<depth=3>: {0: [\"{'ntype': <class 'datastructure.tree.BinaryTree'>, 'dtype': <class 'str'>, 'parents_count': 0, 'children_count': 2, 'max_children': 2, 'value': 'ROOT'}\"], 1: [\"{'ntype': <class 'datastructure.tree.BinaryTree'>, 'dtype': <class 'str'>, 'parents_count': 1, 'children_count': 2, 'max_children': 2, 'value': 'l'}\", \"{'ntype': <class 'datastructure.tree.BinaryTree'>, 'dtype': <class 'str'>, 'parents_count': 1, 'children_count': 1, 'max_children': 2, 'value': 'r'}\"], 2: [\"{'ntype': <class 'datastructure.tree.BinaryTree'>, 'dtype': <class 'str'>, 'parents_count': 1, 'children_count': 0, 'max_children': 2, 'value': 'll'}\", \"{'ntype': <class 'datastructure.tree.BinaryTree'>, 'dtype': <class 'str'>, 'parents_count': 1, 'children_count': 0, 'max_children': 2, 'value': 'lr'}\", None, \"{'ntype': <class 'datastructure.tree.BinaryTree'>, 'dtype': <class 'str'>, 'parents_count': 1, 'children_count': 1, 'max_children': 2, 'value': 'rr'}\"], 3: [None, None, None, None, None, \"{'ntype': <class 'datastructure.tree.BinaryTree'>, 'dtype': <class 'str'>, 'parents_count': 1, 'children_count': 0, 'max_children': 2, 'value': 'rrr'}\"]}\n",
      "************************************************************\n",
      "BinaryTree: (rr; _, (rrr; _, _))\n",
      "BinaryTree<depth=0>: {0: [\"{'ntype': <class 'datastructure.tree.BinaryTree'>, 'dtype': <class 'str'>, 'parents_count': 1, 'children_count': 0, 'max_children': 2, 'value': 'rrr'}\"]}\n",
      "************************************************************\n",
      "True\n"
     ]
    }
   ],
   "source": [
    "BT = BinaryTree\n",
    "root = BT('ROOT')\n",
    "root[0] = BT('l')\n",
    "root[1] = BT('r')\n",
    "root[0][0] = BT('ll')\n",
    "root[0][1] = BT('lr')\n",
    "root[1][1] = BT('rr')\n",
    "root[1][1][1] = BT('rrr')\n",
    "\n",
    "\n",
    "print(root)\n",
    "print(repr(root))\n",
    "print('*'*60)\n",
    "print(root[1][1])\n",
    "print(repr(root[1][1][1]))\n",
    "print('*'*60)\n",
    "print(root[1][1][1] == root.access([1,1,1]))"
   ]
  },
  {
   "cell_type": "code",
   "execution_count": 9,
   "metadata": {
    "scrolled": false
   },
   "outputs": [
    {
     "name": "stdout",
     "output_type": "stream",
     "text": [
      "BinaryTree: (100; (10; (1; _, (5; _, _)), (20; (15; _, (17; (16; _, _), _)), _)), _)\n",
      "-1\n",
      "['root']\n",
      "[0]\n",
      "[0, 1, 0]\n",
      "BinaryTree: (15; _, (17; (16; _, _), _))\n",
      "**************************************************\n",
      "BinaryTree: (100; (10; (1; _, (5; _, _)), (20; (15; _, (17; (16; _, _), _)), _)), _)\n",
      "BinaryTree: (100; (20; (15; (1; _, (5; _, _)), (17; (16; _, _), _)), _), _)\n"
     ]
    }
   ],
   "source": [
    "bst = BST(int)\n",
    "print(bst.insert(100).insert(10).insert(20).insert(15).insert(17).insert(16).insert(1).insert(5))\n",
    "print(bst.search(11))\n",
    "print(bst.search(100))\n",
    "print(bst.search(10))\n",
    "print(bst.search(15))\n",
    "print(bst.access(bst.search(15)))\n",
    "print('*' * 50)\n",
    "print(bst)\n",
    "print(bst.remove(10))"
   ]
  },
  {
   "cell_type": "markdown",
   "metadata": {},
   "source": [
    "# LinkedList"
   ]
  },
  {
   "cell_type": "code",
   "execution_count": 10,
   "metadata": {},
   "outputs": [],
   "source": [
    "%aimport datastructure.linked_list\n",
    "LinkedList = datastructure.linked_list.LinkedList\n",
    "LinkedListFast = datastructure.linked_list.LinkedListFast"
   ]
  },
  {
   "cell_type": "code",
   "execution_count": 11,
   "metadata": {
    "scrolled": true
   },
   "outputs": [
    {
     "name": "stdout",
     "output_type": "stream",
     "text": [
      "['a', 'b', 0.444, 'd']\n",
      "LinkedList<4>: ['a', 'b', 0.444, 'd']\n",
      "LinkedList<4>: {1: {'ntype': <class 'datastructure.node.NodeFlexible'>, 'dtype': <class 'str'>, 'parents_count': 0, 'children_count': 1, 'max_children': 1, 'value': 'a'}, 2: {'ntype': <class 'datastructure.node.NodeFlexible'>, 'dtype': <class 'str'>, 'parents_count': 1, 'children_count': 1, 'max_children': 1, 'value': 'b'}, 3: {'ntype': <class 'datastructure.node.NodeFlexible'>, 'dtype': <class 'float'>, 'parents_count': 1, 'children_count': 1, 'max_children': 1, 'value': 0.444}, 4: {'ntype': <class 'datastructure.node.NodeFlexible'>, 'dtype': <class 'str'>, 'parents_count': 1, 'children_count': 0, 'max_children': 1, 'value': 'd'}}\n",
      "******************************\n",
      "LinkedList<4>: ['a', 'b', 0.444, 'd']\n",
      "LinkedList<3>: ['a', 'b', 0.444]\n",
      "******************************\n",
      "['a', 'b', 'ccc', 'd']\n",
      "LinkedListFast<4>: ['a', 'b', 'ccc', 'd']\n",
      "LinkedListFast<4>: {1: {'ntype': <class 'datastructure.node.Node'>, 'dtype': <class 'str'>, 'parents_count': 0, 'children_count': 1, 'max_children': 1, 'value': 'a'}, 2: {'ntype': <class 'datastructure.node.Node'>, 'dtype': <class 'str'>, 'parents_count': 1, 'children_count': 1, 'max_children': 1, 'value': 'b'}, 3: {'ntype': <class 'datastructure.node.Node'>, 'dtype': <class 'str'>, 'parents_count': 1, 'children_count': 1, 'max_children': 1, 'value': 'ccc'}, 4: {'ntype': <class 'datastructure.node.Node'>, 'dtype': <class 'str'>, 'parents_count': 1, 'children_count': 0, 'max_children': 1, 'value': 'd'}}\n",
      "******************************\n",
      "LinkedListFast<4>: ['a', 'b', 'ccc', 'd']\n",
      "LinkedListFast<3>: ['a', 'b', 'ccc']\n"
     ]
    }
   ],
   "source": [
    "# examples\n",
    "ll = LinkedList(NodeF)\n",
    "ll.append('a')\n",
    "ll.append('b')\n",
    "ll.append('c')\n",
    "ll.append('d')\n",
    "ll[2] = 0.444\n",
    "print(list(ll))\n",
    "print(ll)\n",
    "print(repr(ll))\n",
    "print('*'*30)\n",
    "print(ll)\n",
    "ll.pop()\n",
    "print(ll)\n",
    "print('*'*30)\n",
    "llf = LinkedListFast()\n",
    "llf.append('a')\n",
    "llf.append('b')\n",
    "llf.append('c')\n",
    "llf.append('d')\n",
    "llf[2] = 'ccc'\n",
    "print(list(llf))\n",
    "print(llf)\n",
    "print(repr(llf))\n",
    "print('*'*30)\n",
    "print(llf)\n",
    "llf.pop()\n",
    "print(llf)"
   ]
  },
  {
   "cell_type": "markdown",
   "metadata": {},
   "source": [
    "### Comparing the performance of LinkedList vs. LinkedListFast "
   ]
  },
  {
   "cell_type": "code",
   "execution_count": 12,
   "metadata": {},
   "outputs": [
    {
     "name": "stdout",
     "output_type": "stream",
     "text": [
      "linkedlist - append time = 1.162309169769287\n",
      "linkedlistfast - append time = 0.009038448333740234\n"
     ]
    }
   ],
   "source": [
    "from time import time\n",
    "ll = LinkedList()\n",
    "ll_sa = time()\n",
    "for i in range(1000):\n",
    "    ll.append(i)\n",
    "print(f'linkedlist - append time = {time()-ll_sa}')\n",
    "llf = LinkedListFast()\n",
    "llf_sa = time()\n",
    "for i in range(1000):\n",
    "    llf.append(i)\n",
    "print(f'linkedlistfast - append time = {time()-llf_sa}')"
   ]
  },
  {
   "cell_type": "markdown",
   "metadata": {},
   "source": [
    "# Stack"
   ]
  },
  {
   "cell_type": "code",
   "execution_count": 13,
   "metadata": {},
   "outputs": [],
   "source": [
    "%aimport datastructure.stack\n",
    "\n",
    "Stack = datastructure.stack.Stack"
   ]
  },
  {
   "cell_type": "code",
   "execution_count": 14,
   "metadata": {},
   "outputs": [
    {
     "name": "stdout",
     "output_type": "stream",
     "text": [
      "Stack<3>: {1: {'ntype': <class 'datastructure.node.BaseNode'>, 'dtype': <class 'str'>, 'parents_count': 0, 'children_count': 1, 'max_children': 1, 'value': 'three'}, 2: {'ntype': <class 'datastructure.node.BaseNode'>, 'dtype': <class 'str'>, 'parents_count': 1, 'children_count': 1, 'max_children': 1, 'value': '2'}, 3: {'ntype': <class 'datastructure.node.BaseNode'>, 'dtype': <class 'int'>, 'parents_count': 1, 'children_count': 0, 'max_children': 1, 'value': 1}}\n",
      "--------------------------------------------------\n",
      "Stack<3>: ['three' > '2' > 1]\n",
      "3 three\n",
      "2 2\n",
      "1\n",
      "Stack<1>: [1]\n",
      "**************************************************\n",
      "0 None\n",
      "Stack<3>: [3 > 2 > 1]\n",
      "3 3\n",
      "2 2\n",
      "1\n",
      "Stack<1>: [1]\n"
     ]
    }
   ],
   "source": [
    "# example\n",
    "s = Stack(BaseNode)\n",
    "s.push(1)\n",
    "s.push('2')\n",
    "s.push('three')\n",
    "print(repr(s))\n",
    "print('-' * 50)\n",
    "print(s)\n",
    "print(len(s), s.pop())\n",
    "print(len(s), s.pop())\n",
    "print(len(s))\n",
    "print(s)\n",
    "print('*'*50)\n",
    "s = Stack(Node)\n",
    "print(len(s), s.pop())\n",
    "s.push(1)\n",
    "s.push(2)\n",
    "s.push(3)\n",
    "print(s)\n",
    "print(len(s), s.pop())\n",
    "print(len(s), s.pop())\n",
    "print(len(s))\n",
    "print(s)"
   ]
  },
  {
   "cell_type": "markdown",
   "metadata": {},
   "source": [
    "# Queue"
   ]
  },
  {
   "cell_type": "code",
   "execution_count": 15,
   "metadata": {},
   "outputs": [],
   "source": [
    "%aimport datastructure.queue\n",
    "\n",
    "Queue = datastructure.queue.Queue"
   ]
  },
  {
   "cell_type": "code",
   "execution_count": 16,
   "metadata": {
    "scrolled": true
   },
   "outputs": [
    {
     "name": "stdout",
     "output_type": "stream",
     "text": [
      "Queue<3>: {1: {'ntype': <class 'datastructure.node.NodeFlexible'>, 'dtype': <class 'int'>, 'parents_count': 0, 'children_count': 1, 'max_children': 1, 'value': 1}, 2: {'ntype': <class 'datastructure.node.NodeFlexible'>, 'dtype': <class 'str'>, 'parents_count': 1, 'children_count': 1, 'max_children': 1, 'value': '2'}, 3: {'ntype': <class 'datastructure.node.NodeFlexible'>, 'dtype': <class 'str'>, 'parents_count': 1, 'children_count': 0, 'max_children': 1, 'value': 'three'}}\n",
      "--------------------------------------------------\n",
      "Queue<3>: [1 > '2' > 'three']\n",
      "3 1\n",
      "2 2\n",
      "1\n",
      "Queue<1>: ['three']\n",
      "**************************************************\n",
      "Queue<3>: [1 > 2 > 3]\n",
      "3 1\n",
      "2 2\n",
      "1\n",
      "Queue<1>: [3]\n"
     ]
    }
   ],
   "source": [
    "q = Queue(NodeF)\n",
    "q.push(1)\n",
    "q.push('2')\n",
    "q.push('three')\n",
    "print(repr(q))\n",
    "print('-' * 50)\n",
    "print(q)\n",
    "print(len(q), q.pop())\n",
    "print(len(q), q.pop())\n",
    "print(len(q))\n",
    "print(q)\n",
    "print('*'*50)\n",
    "q = Queue(Node)\n",
    "q.push(1)\n",
    "q.push(2)\n",
    "q.push(3)\n",
    "print(q)\n",
    "print(len(q), q.pop())\n",
    "print(len(q), q.pop())\n",
    "print(len(q))\n",
    "print(q)"
   ]
  }
 ],
 "metadata": {
  "celltoolbar": "Raw Cell Format",
  "kernelspec": {
   "display_name": "Python 3",
   "language": "python",
   "name": "python3"
  },
  "language_info": {
   "codemirror_mode": {
    "name": "ipython",
    "version": 3
   },
   "file_extension": ".py",
   "mimetype": "text/x-python",
   "name": "python",
   "nbconvert_exporter": "python",
   "pygments_lexer": "ipython3",
   "version": "3.6.9"
  },
  "toc": {
   "base_numbering": 1,
   "nav_menu": {},
   "number_sections": true,
   "sideBar": true,
   "skip_h1_title": false,
   "title_cell": "Table of Contents",
   "title_sidebar": "Contents",
   "toc_cell": false,
   "toc_position": {},
   "toc_section_display": true,
   "toc_window_display": true
  }
 },
 "nbformat": 4,
 "nbformat_minor": 2
}
