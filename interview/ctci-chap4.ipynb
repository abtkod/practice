{
 "cells": [
  {
   "cell_type": "markdown",
   "metadata": {},
   "source": [
    "# Node"
   ]
  },
  {
   "cell_type": "code",
   "execution_count": 1,
   "metadata": {},
   "outputs": [],
   "source": [
    "%load_ext autoreload\n",
    "%autoreload 1"
   ]
  },
  {
   "cell_type": "code",
   "execution_count": 2,
   "metadata": {},
   "outputs": [],
   "source": [
    "# from datastructure.node import * is replaced by: (to have auto import in the notebook)\n",
    "\n",
    "%aimport datastructure.node\n",
    "BaseNode = datastructure.node.BaseNode\n",
    "Node = datastructure.node.Node"
   ]
  },
  {
   "cell_type": "code",
   "execution_count": 3,
   "metadata": {},
   "outputs": [
    {
     "name": "stdout",
     "output_type": "stream",
     "text": [
      "((<object object at 0x7fe6f0050d30>; ); )\n",
      "{'child_count': 0, 'max_children': 0, 'value': {'child_count': 0, 'max_children': 0, 'value': <object object at 0x7fe6f0050d30>, 'dtype': <class 'object'>}, 'dtype': <class 'datastructure.node.BaseNode'>}\n",
      "******************************\n",
      "(r; _, rr)\n",
      "{'child_count': 1, 'max_children': 2, 'value': 'r', 'dtype': <class 'str'>}\n",
      "(rr; _, _)\n",
      "{'child_count': 0, 'max_children': 2, 'value': 'rr', 'dtype': <class 'str'>}\n",
      "******************************\n",
      "(l; ll, 777, lr)\n",
      "{'child_count': 3, 'max_children': 3, 'value': 'l', 'dtype': <class 'str'>}\n",
      "(ll; )\n",
      "{'child_count': 0, 'max_children': 0, 'value': 'll', 'dtype': <class 'str'>}\n",
      "(777; _)\n",
      "{'child_count': 0, 'max_children': 1, 'value': 777, 'dtype': <class 'int'>}\n",
      "******************************\n",
      "(None; l, r)\n",
      "{'child_count': 2, 'max_children': 2, 'value': None, 'dtype': <class 'NoneType'>}\n",
      "******************************\n"
     ]
    }
   ],
   "source": [
    "print(BaseNode(BaseNode(), 0))\n",
    "print(repr(BaseNode(BaseNode(), 0)))\n",
    "print('*'*30)\n",
    "\n",
    "n = BaseNode(object(),2)\n",
    "n.value = None\n",
    "\n",
    "n[0] = BaseNode('l',3)\n",
    "n[0][0] = Node('ll')\n",
    "n[0][1] = Node(777, 1)\n",
    "n[0][2] = Node('lr')\n",
    "\n",
    "n[1] = Node('r',2)\n",
    "n[1][1] = Node('rr', 2)\n",
    "\n",
    "print(n[1])\n",
    "print(repr(n[1]))\n",
    "print(n[1][1])\n",
    "print(repr(n[1][1]))\n",
    "print('*'*30)\n",
    "print(n[0])\n",
    "print(repr(n[0]))\n",
    "print(n[0][0])\n",
    "print(repr(n[0][0]))\n",
    "print(n[0][1])\n",
    "print(repr(n[0][1]))\n",
    "print('*'*30)\n",
    "print(n)\n",
    "print(repr(n))\n",
    "print('*'*30)"
   ]
  },
  {
   "cell_type": "markdown",
   "metadata": {},
   "source": [
    "# Tree"
   ]
  },
  {
   "cell_type": "code",
   "execution_count": 4,
   "metadata": {
    "scrolled": true
   },
   "outputs": [],
   "source": [
    "%aimport datastructure.tree\n",
    "\n",
    "BinaryTreeNode = datastructure.tree.BinaryTreeNode"
   ]
  },
  {
   "cell_type": "code",
   "execution_count": 5,
   "metadata": {},
   "outputs": [
    {
     "name": "stdout",
     "output_type": "stream",
     "text": [
      "******************************\n",
      "(ROOT; (l; (ll; _, _), (lr; _, _)), (r; _, (rr; _, (rrr; _, _))))\n",
      "\n",
      "tree: {0: [\"{'child_count': 2, 'max_children': 2, 'value': 'ROOT', 'dtype': <class 'str'>}\"], 1: [\"{'child_count': 2, 'max_children': 2, 'value': 'l', 'dtype': <class 'str'>}\", \"{'child_count': 1, 'max_children': 2, 'value': 'r', 'dtype': <class 'str'>}\"], 2: [\"{'child_count': 0, 'max_children': 2, 'value': 'll', 'dtype': <class 'str'>}\", \"{'child_count': 0, 'max_children': 2, 'value': 'lr', 'dtype': <class 'str'>}\", 'null', \"{'child_count': 1, 'max_children': 2, 'value': 'rr', 'dtype': <class 'str'>}\"], 3: ['null', 'null', 'null', 'null', 'null', \"{'child_count': 0, 'max_children': 2, 'value': 'rrr', 'dtype': <class 'str'>}\"], 4: ['null', 'null']}\n",
      "******************************\n",
      "(r; _, (rr; _, (rrr; _, _)))\n",
      "tree: {0: [\"{'child_count': 1, 'max_children': 2, 'value': 'r', 'dtype': <class 'str'>}\"], 1: ['null', \"{'child_count': 1, 'max_children': 2, 'value': 'rr', 'dtype': <class 'str'>}\"], 2: ['null', \"{'child_count': 0, 'max_children': 2, 'value': 'rrr', 'dtype': <class 'str'>}\"], 3: ['null', 'null']}\n"
     ]
    }
   ],
   "source": [
    "# example\n",
    "BT = BinaryTreeNode\n",
    "root = BT('ROOT')\n",
    "root[0] = BT('l')\n",
    "root[1] = BT('r')\n",
    "root[0][0] = BT('ll')\n",
    "root[0][1] = BT('lr')\n",
    "root[1][1] = BT('rr')\n",
    "root[1][1][1] = BT('rrr')\n",
    "print('*'*30)\n",
    "print(str(root) + '\\n')\n",
    "print(repr(root))\n",
    "print('*'*30)\n",
    "print(root[1])\n",
    "print(repr(root[1]))"
   ]
  },
  {
   "cell_type": "markdown",
   "metadata": {},
   "source": [
    "# LinkedList"
   ]
  },
  {
   "cell_type": "code",
   "execution_count": 6,
   "metadata": {},
   "outputs": [],
   "source": [
    "%aimport datastructure.linked_list\n",
    "\n",
    "LinkedListFast = datastructure.linked_list.LinkedListFast"
   ]
  },
  {
   "cell_type": "code",
   "execution_count": 7,
   "metadata": {
    "scrolled": true
   },
   "outputs": [
    {
     "name": "stdout",
     "output_type": "stream",
     "text": [
      "LinkedList: ['a', 'b', 'ccc', 'd']\n",
      "LinkedList(4): {1: {'child_count': 1, 'max_children': 1, 'value': 'a', 'dtype': <class 'str'>}, 2: {'child_count': 1, 'max_children': 1, 'value': 'b', 'dtype': <class 'str'>}, 3: {'child_count': 1, 'max_children': 1, 'value': 'ccc', 'dtype': <class 'str'>}, 4: {'child_count': 0, 'max_children': 1, 'value': 'd', 'dtype': <class 'str'>}}\n",
      "******************************\n",
      "LinkedList: ['a', 'b', 'ccc', 'd']\n",
      "['a', 'b', 'ccc']\n"
     ]
    }
   ],
   "source": [
    "# examples\n",
    "ll = LinkedListFast()\n",
    "ll.append('a')\n",
    "ll.append('b')\n",
    "ll.append('c')\n",
    "ll.append('d')\n",
    "ll[2] = 'ccc'\n",
    "print(ll)\n",
    "print(repr(ll))\n",
    "print('*'*30)\n",
    "\n",
    "ll.pop()\n",
    "print(ll)\n",
    "print(['a', 'b', 'ccc'])"
   ]
  },
  {
   "cell_type": "markdown",
   "metadata": {},
   "source": [
    "# Stack"
   ]
  },
  {
   "cell_type": "code",
   "execution_count": 8,
   "metadata": {},
   "outputs": [],
   "source": [
    "%aimport datastructure.stack\n",
    "\n",
    "Stack = datastructure.stack.Stack\n",
    "Stack2 = datastructure.stack.Stack2"
   ]
  },
  {
   "cell_type": "code",
   "execution_count": 9,
   "metadata": {},
   "outputs": [
    {
     "name": "stdout",
     "output_type": "stream",
     "text": [
      "Stack: [LinkedList: ['a', 'b', 'ccc', 'd'] > (ROOT; (l; (ll; _, _), (lr; _, _)), (r; _, (rr; _, (rrr; _, _)))) > (None; l, r)]\n",
      "3 LinkedList: ['a', 'b', 'ccc', 'd']\n",
      "2 (ROOT; (l; (ll; _, _), (lr; _, _)), (r; _, (rr; _, (rrr; _, _))))\n",
      "1\n",
      "Stack: [(None; l, r)]\n",
      "**************************************************\n",
      "Stack: [LinkedList: ['a', 'b', 'ccc', 'd'] > (ROOT; (l; (ll; _, _), (lr; _, _)), (r; _, (rr; _, (rrr; _, _)))) > (None; l, r)]\n",
      "3 LinkedList: ['a', 'b', 'ccc', 'd']\n",
      "2 (ROOT; (l; (ll; _, _), (lr; _, _)), (r; _, (rr; _, (rrr; _, _))))\n",
      "1\n",
      "Stack: [(None; l, r)]\n"
     ]
    }
   ],
   "source": [
    "# example\n",
    "s = Stack()\n",
    "s.push(n)\n",
    "s.push(root)\n",
    "s.push(ll)\n",
    "print(s)\n",
    "print(len(s), s.pop())\n",
    "print(len(s), s.pop())\n",
    "print(len(s))\n",
    "print(s)\n",
    "print('*'*50)\n",
    "s = Stack2(False)\n",
    "s.push(n)\n",
    "s.push(root)\n",
    "s.push(ll)\n",
    "print(s)\n",
    "print(len(s), s.pop())\n",
    "print(len(s), s.pop())\n",
    "print(len(s))\n",
    "print(s)"
   ]
  },
  {
   "cell_type": "markdown",
   "metadata": {},
   "source": [
    "# Queue"
   ]
  },
  {
   "cell_type": "code",
   "execution_count": 10,
   "metadata": {},
   "outputs": [],
   "source": [
    "%aimport datastructure.queue\n",
    "\n",
    "Queue = datastructure.queue.Queue"
   ]
  },
  {
   "cell_type": "code",
   "execution_count": 11,
   "metadata": {
    "scrolled": true
   },
   "outputs": [
    {
     "name": "stdout",
     "output_type": "stream",
     "text": [
      "Queue: [(None; l, r) > (ROOT; (l; (ll; _, _), (lr; _, _)), (r; _, (rr; _, (rrr; _, _))))]\n",
      "2 (None; l, r)\n",
      "1 (ROOT; (l; (ll; _, _), (lr; _, _)), (r; _, (rr; _, (rrr; _, _))))\n",
      "0\n",
      "Queue: []\n"
     ]
    }
   ],
   "source": [
    "q = Queue()\n",
    "q.push(n)\n",
    "q.push(root)\n",
    "print(q)\n",
    "print(len(q), q.pop())\n",
    "print(len(q), q.pop())\n",
    "print(len(q))\n",
    "print(q)"
   ]
  },
  {
   "cell_type": "markdown",
   "metadata": {},
   "source": [
    "# Tips"
   ]
  },
  {
   "cell_type": "markdown",
   "metadata": {},
   "source": [
    "## Decorators"
   ]
  },
  {
   "cell_type": "code",
   "execution_count": 12,
   "metadata": {},
   "outputs": [
    {
     "name": "stdout",
     "output_type": "stream",
     "text": [
      "120\n",
      "******************************\n",
      "120\n",
      "******************************\n",
      "******************************\n",
      "120\n",
      "******************************\n"
     ]
    }
   ],
   "source": [
    "# Thanks to https://www.programiz.com/python-programming/decorator\n",
    "\n",
    "def star(func):\n",
    "    def inner(*args, **kwargs):\n",
    "        print('*' * 30)\n",
    "        func(*args, **kwargs)\n",
    "        print('*' * 30)\n",
    "        return\n",
    "    return inner\n",
    "\n",
    "def nonnegative_integer(func):\n",
    "    def inner(x):\n",
    "        if not isinstance(x, int):\n",
    "            raise TypeError('factorial is not defined for {}'.format(x))\n",
    "        if x < 0:\n",
    "            raise ValueError('factorial is not defined for negative numbers')\n",
    "        return func(x)\n",
    "    return inner\n",
    "\n",
    "def printer(func):\n",
    "    def inner(*args, **kwargs):\n",
    "        print(func(*args, **kwargs))\n",
    "    return inner\n",
    "        \n",
    "\n",
    "@nonnegative_integer\n",
    "def factorial(n:int):\n",
    "    if n==0 or n==1:\n",
    "        return 1\n",
    "    return n * factorial(n-1)\n",
    "\n",
    "@star\n",
    "@printer\n",
    "@nonnegative_integer\n",
    "def fact(n:int):\n",
    "    if n==0 or n==1:\n",
    "        return 1\n",
    "    res=1\n",
    "    for i in range(1,n+1):\n",
    "        res *= i\n",
    "    return res\n",
    "\n",
    "\n",
    "def f(n:int):\n",
    "    if n==0 or n==1:\n",
    "        return 1\n",
    "    res=1\n",
    "    for i in range(1,n+1):\n",
    "        res *= i\n",
    "    return res\n",
    "nondecorated_fact = star(printer(nonnegative_integer(f)))\n",
    "\n",
    "print(factorial(5))\n",
    "fact(5)\n",
    "nondecorated_fact(5)"
   ]
  }
 ],
 "metadata": {
  "celltoolbar": "Raw Cell Format",
  "kernelspec": {
   "display_name": "Python 3",
   "language": "python",
   "name": "python3"
  },
  "language_info": {
   "codemirror_mode": {
    "name": "ipython",
    "version": 3
   },
   "file_extension": ".py",
   "mimetype": "text/x-python",
   "name": "python",
   "nbconvert_exporter": "python",
   "pygments_lexer": "ipython3",
   "version": "3.6.8"
  }
 },
 "nbformat": 4,
 "nbformat_minor": 2
}
