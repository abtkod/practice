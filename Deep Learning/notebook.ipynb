{
 "cells": [
  {
   "cell_type": "markdown",
   "metadata": {},
   "source": [
    "# Setup"
   ]
  },
  {
   "cell_type": "code",
   "execution_count": 1,
   "metadata": {},
   "outputs": [],
   "source": [
    "%load_ext autoreload\n",
    "%autoreload 1"
   ]
  },
  {
   "cell_type": "code",
   "execution_count": 2,
   "metadata": {},
   "outputs": [],
   "source": [
    "%aimport network\n",
    "%aimport network_torch\n",
    "%aimport torchnets\n",
    "import numpy as np\n",
    "\n",
    "DN = network.DeepNetwork\n",
    "DNT = network_torch.DeepNetwork\n",
    "FCN = torchnets.FullyConnectedNetwork"
   ]
  },
  {
   "cell_type": "markdown",
   "metadata": {},
   "source": [
    "# Vectorization"
   ]
  },
  {
   "cell_type": "code",
   "execution_count": 2,
   "metadata": {},
   "outputs": [
    {
     "name": "stdout",
     "output_type": "stream",
     "text": [
      "(10,) (1, 10) (10, 1)\n",
      "False False\n",
      "(1, 10) (10, 10) (10, 10)\n",
      "(1, 1) (10, 10)\n"
     ]
    }
   ],
   "source": [
    "a = np.array([1,2,3,4,5,6,7,8,9,10]) #rank 1 array which is neither a row vector (1,10) nor a column vector (10, 1)\n",
    "b = np.array([1,2,3,4,5,6,7,8,9,10]).reshape((1,10))\n",
    "c = np.array([1,2,3,4,5,6,7,8,9,10]).reshape((10, 1))\n",
    "print(a.shape, b.shape, c.shape)\n",
    "print(np.array_equal(a, b), np.array_equal(a, c))\n",
    "print((a*b).shape, (a*c).shape, (b*c).shape)\n",
    "print(np.dot(b,c).shape, np.dot(c,b).shape)"
   ]
  },
  {
   "cell_type": "code",
   "execution_count": 7,
   "metadata": {},
   "outputs": [
    {
     "name": "stdout",
     "output_type": "stream",
     "text": [
      "249966.59497044512\n",
      "Vectorized version:1.7580986022949219ms\n",
      "249966.59497044657\n",
      "For loop:556.1151504516602ms\n"
     ]
    }
   ],
   "source": [
    "import time\n",
    "a = np.random.rand(1000000)\n",
    "b = np.random.rand(1000000)\n",
    "\n",
    "tic = time.time()\n",
    "c = np.dot(a,b)\n",
    "toc = time.time()\n",
    "print(c)\n",
    "print(\"Vectorized version:\" + str(1000*(toc-tic)) +\"ms\" )\n",
    "\n",
    "c = 0\n",
    "tic = time.time()\n",
    "for i in range(1000000):\n",
    "    c += a[i]*b[i]\n",
    "toc = time.time()\n",
    "print(c)\n",
    "print(\"For loop:\" + str(1000*(toc-tic)) + \"ms\")"
   ]
  },
  {
   "cell_type": "code",
   "execution_count": 14,
   "metadata": {},
   "outputs": [
    {
     "name": "stdout",
     "output_type": "stream",
     "text": [
      "(10,)\n",
      "(10, 0)\n",
      "(0, 10)\n"
     ]
    }
   ],
   "source": [
    "print(np.zeros(10).shape)\n",
    "print(np.zeros((10, 0)).shape)\n",
    "print(np.zeros((0,10)).shape)"
   ]
  },
  {
   "cell_type": "markdown",
   "metadata": {},
   "source": [
    "# Vectorized version of Logistic Regression\n",
    "\n",
    "There are three for loops:\n",
    "* The outmost for loop is for the **i iterations**\n",
    "    * second for loop is for the **m training examples**\n",
    "        * third for loop is over the **nx weights**\n",
    "\n",
    "We can vectorize second and third for loops this way:"
   ]
  },
  {
   "cell_type": "code",
   "execution_count": 83,
   "metadata": {
    "collapsed": true
   },
   "outputs": [
    {
     "name": "stdout",
     "output_type": "stream",
     "text": [
      "[1.41986636]\n",
      "[1.10393502]\n",
      "[0.88655215]\n",
      "[0.76997461]\n",
      "[0.72108426]\n",
      "[0.7036203]\n",
      "[0.69777363]\n",
      "[0.69580776]\n",
      "[0.69509335]\n",
      "[0.69477913]\n",
      "[0.69459369]\n",
      "[0.69445083]\n",
      "[0.6943232]\n",
      "[0.6942021]\n",
      "[0.69408473]\n",
      "[0.69397018]\n",
      "[0.69385811]\n",
      "[0.6937484]\n",
      "[0.69364097]\n",
      "[0.69353576]\n",
      "[0.69343272]\n",
      "[0.6933318]\n",
      "[0.69323296]\n",
      "[0.69313616]\n",
      "[0.69304135]\n",
      "[0.6929485]\n",
      "[0.69285755]\n",
      "[0.69276848]\n",
      "[0.69268124]\n",
      "[0.69259579]\n",
      "[0.69251209]\n",
      "[0.69243012]\n",
      "[0.69234982]\n",
      "[0.69227117]\n",
      "[0.69219414]\n",
      "[0.69211868]\n",
      "[0.69204477]\n",
      "[0.69197237]\n",
      "[0.69190145]\n",
      "[0.69183199]\n",
      "[0.69176394]\n",
      "[0.69169728]\n",
      "[0.69163198]\n",
      "[0.69156802]\n",
      "[0.69150535]\n",
      "[0.69144397]\n",
      "[0.69138383]\n",
      "[0.69132492]\n",
      "[0.69126721]\n",
      "[0.69121066]\n",
      "[0.69115527]\n",
      "[0.691101]\n",
      "[0.69104783]\n",
      "[0.69099574]\n",
      "[0.6909447]\n",
      "[0.6908947]\n",
      "[0.6908457]\n",
      "[0.6907977]\n",
      "[0.69075066]\n",
      "[0.69070458]\n",
      "[0.69065942]\n",
      "[0.69061517]\n",
      "[0.69057181]\n",
      "[0.69052932]\n",
      "[0.69048769]\n",
      "[0.69044689]\n",
      "[0.69040691]\n",
      "[0.69036773]\n",
      "[0.69032934]\n",
      "[0.69029171]\n",
      "[0.69025483]\n",
      "[0.69021869]\n",
      "[0.69018327]\n",
      "[0.69014856]\n",
      "[0.69011454]\n",
      "[0.69008119]\n",
      "[0.69004851]\n",
      "[0.69001647]\n",
      "[0.68998507]\n",
      "[0.68995429]\n",
      "[0.68992412]\n",
      "[0.68989455]\n",
      "[0.68986556]\n",
      "[0.68983714]\n",
      "[0.68980928]\n",
      "[0.68978197]\n",
      "[0.68975519]\n",
      "[0.68972894]\n",
      "[0.68970321]\n",
      "[0.68967797]\n",
      "[0.68965324]\n",
      "[0.68962898]\n",
      "[0.6896052]\n",
      "[0.68958188]\n",
      "[0.68955901]\n",
      "[0.68953659]\n",
      "[0.68951461]\n",
      "[0.68949305]\n",
      "[0.68947191]\n",
      "[0.68945117]\n"
     ]
    }
   ],
   "source": [
    "nx, m = 10, 1000 \n",
    "X = np.random.rand(nx*m).reshape((nx, m))\n",
    "y = np.random.randint(low=0, high=2, size=m).reshape((1, m))\n",
    "\n",
    "iterations = 100\n",
    "alpha = 0.5\n",
    "w = np.random.rand(nx).reshape((nx, 1))\n",
    "b = np.random.rand(1).reshape(1,1)\n",
    "for i in range(iterations):\n",
    "    z = np.dot(w.T, X) + b #z.shape()= (1,m) \n",
    "    # np.dot(w.T, X) + b has broadcasting for b: (1,1) --> (1,m)\n",
    "    a = 1/(1+np.exp((-1)*z)) #a.shape() = (1,m)\n",
    "    J = -1/m*np.sum(y*np.log(a)+(1-y)*np.log(1-a), axis=1) #L.shape(1,m)\n",
    "    print(J)\n",
    "    dz = a - y #dz.shape(1,m)\n",
    "    dw = 1/m * np.dot(X, dz.T) #dw.shape(nx, 1)\n",
    "    db = 1/m * np.sum(dz)\n",
    "    w = w - alpha * dw\n",
    "    b = b - alpha * db\n",
    "    "
   ]
  },
  {
   "cell_type": "markdown",
   "metadata": {},
   "source": [
    "# Building a neural network with arbitrary activation function and hidden layers"
   ]
  },
  {
   "cell_type": "code",
   "execution_count": 8,
   "metadata": {},
   "outputs": [],
   "source": [
    "def in_sphere(X, radius, center):\n",
    "    return np.where(np.sum((X - center)**2, axis=0, keepdims=True) < radius, True, False)\n",
    "\n",
    "def in_diagonal_sphere(X, radius, center):\n",
    "    return in_sphere(X, radius/2, center-radius/2) + in_sphere(X, radius/2, center+radius/2)\n",
    "\n",
    "def in_sphere_sequence(X, radius, center, seq=10):\n",
    "    out = np.zeros((1, X.shape[1]), dtype=bool)\n",
    "    r = radius / seq\n",
    "    for i in range(seq):\n",
    "        out += in_sphere(X, r, center-i*r) + in_sphere(X, r, center+i*r)\n",
    "    return out\n",
    "    "
   ]
  },
  {
   "cell_type": "code",
   "execution_count": 9,
   "metadata": {},
   "outputs": [],
   "source": [
    "X = np.random.uniform(low=-2, high=2, size=(3,10000))\n",
    "X_test = np.random.uniform(low=-2, high=2, size=(3,1000))"
   ]
  },
  {
   "cell_type": "code",
   "execution_count": 155,
   "metadata": {},
   "outputs": [
    {
     "name": "stdout",
     "output_type": "stream",
     "text": [
      "[[ 0.81387549 -0.3141217  -1.54608771 -0.62508154  0.5838078  -0.80966537]\n",
      " [ 1.42665321 -1.99369778  0.50020848  0.78288884  0.65039398  1.56100254]\n",
      " [ 0.36227043  0.0356978   0.20294804 -1.62306782 -0.00607913  0.69989529]] \n",
      " [[False False False False  True False]]\n",
      "7440 [0.03336406]\n",
      "accuracy:  0.985\n",
      "CPU times: user 6min 29s, sys: 20.7 s, total: 6min 50s\n",
      "Wall time: 14.2 s\n"
     ]
    }
   ],
   "source": [
    "%%time\n",
    "Y = in_sphere(X, 1.0, 0.0)\n",
    "print(X[:,:6], '\\n', Y[:, :6])\n",
    "Y_test = in_sphere(X_test, 1.0, 0.0)\n",
    "\n",
    "dn = DN([4,1], [DN.RELU, DN.SIGMOID])\n",
    "dn.train(X, Y, alpha=0.5, max_iterations=10000)\n",
    "\n",
    "\n",
    "Y_hat = dn.classify(X_test)\n",
    "Y_hat = np.where(Y_hat>=0.5, True, False)\n",
    "\n",
    "print('accuracy: ', np.sum(Y_hat == Y_test)/Y_hat.shape[1])"
   ]
  },
  {
   "cell_type": "code",
   "execution_count": 191,
   "metadata": {},
   "outputs": [
    {
     "name": "stdout",
     "output_type": "stream",
     "text": [
      "[[ 0.81387549 -0.3141217  -1.54608771 -0.62508154  0.5838078  -0.80966537]\n",
      " [ 1.42665321 -1.99369778  0.50020848  0.78288884  0.65039398  1.56100254]\n",
      " [ 0.36227043  0.0356978   0.20294804 -1.62306782 -0.00607913  0.69989529]] \n",
      " [[False False False False  True False]]\n",
      "5356 [0.05263828]\n",
      "accuracy:  0.977\n",
      "CPU times: user 5min 49s, sys: 19.2 s, total: 6min 8s\n",
      "Wall time: 12.6 s\n"
     ]
    }
   ],
   "source": [
    "%%time\n",
    "Y = in_diagonal_sphere(X, 1.0, 0.0)\n",
    "print(X[:,:6], '\\n', Y[:, :6])\n",
    "Y_test = in_diagonal_sphere(X_test, 1.0, 0.0)\n",
    "\n",
    "dn = DN([5,1], [DN.RELU,DN.SIGMOID])\n",
    "dn.train(X, Y, alpha=0.5, max_iterations=10000)\n",
    "\n",
    "\n",
    "Y_hat = dn.classify(X_test)\n",
    "Y_hat = np.where(Y_hat>=0.5, True, False)\n",
    "\n",
    "print('accuracy: ', np.sum(Y_hat == Y_test)/Y_hat.shape[1])"
   ]
  },
  {
   "cell_type": "code",
   "execution_count": 10,
   "metadata": {},
   "outputs": [
    {
     "name": "stdout",
     "output_type": "stream",
     "text": [
      "[[-0.62379128 -1.59088895 -1.2668483  -0.48814007 -0.41834499 -1.30764606]\n",
      " [-0.87151739  1.49108778  0.22281211 -0.89757436 -0.66785392  1.803055  ]\n",
      " [-1.64534396  0.08717931 -0.76229082  0.13478964  1.9125314   0.23986735]] \n",
      " [[False False False False False False]]\n"
     ]
    },
    {
     "ename": "AssertionError",
     "evalue": "invalid dropout list",
     "output_type": "error",
     "traceback": [
      "\u001b[0;31m---------------------------------------------------------------------------\u001b[0m",
      "\u001b[0;31mAssertionError\u001b[0m                            Traceback (most recent call last)",
      "\u001b[0;32m<timed exec>\u001b[0m in \u001b[0;36m<module>\u001b[0;34m()\u001b[0m\n",
      "\u001b[0;32m~/Documents/Code/practice/network.py\u001b[0m in \u001b[0;36mtrain\u001b[0;34m(self, X, Y, alpha, max_iterations, lambd, dropout, terminate_on_cost_change, print_cost_every)\u001b[0m\n\u001b[1;32m     67\u001b[0m         \u001b[0;32mif\u001b[0m \u001b[0mdropout\u001b[0m \u001b[0;32mis\u001b[0m \u001b[0;32mNone\u001b[0m\u001b[0;34m:\u001b[0m\u001b[0;34m\u001b[0m\u001b[0m\n\u001b[1;32m     68\u001b[0m             \u001b[0mdropout\u001b[0m \u001b[0;34m=\u001b[0m \u001b[0;34m[\u001b[0m\u001b[0;32mFalse\u001b[0m \u001b[0;32mfor\u001b[0m \u001b[0mi\u001b[0m \u001b[0;32min\u001b[0m \u001b[0mrange\u001b[0m\u001b[0;34m(\u001b[0m\u001b[0mL\u001b[0m\u001b[0;34m+\u001b[0m\u001b[0;36m1\u001b[0m\u001b[0;34m)\u001b[0m\u001b[0;34m]\u001b[0m \u001b[0;31m# L+1: input layer also has a dropout keep-prob which is usually close to 1.0\u001b[0m\u001b[0;34m\u001b[0m\u001b[0m\n\u001b[0;32m---> 69\u001b[0;31m         \u001b[0;32massert\u001b[0m \u001b[0mlen\u001b[0m\u001b[0;34m(\u001b[0m\u001b[0mdropout\u001b[0m\u001b[0;34m)\u001b[0m \u001b[0;34m==\u001b[0m \u001b[0mL\u001b[0m\u001b[0;34m+\u001b[0m\u001b[0;36m1\u001b[0m \u001b[0;32mand\u001b[0m \u001b[0mreduce\u001b[0m\u001b[0;34m(\u001b[0m\u001b[0;34m(\u001b[0m\u001b[0;32mlambda\u001b[0m \u001b[0mx\u001b[0m\u001b[0;34m,\u001b[0m\u001b[0my\u001b[0m\u001b[0;34m:\u001b[0m \u001b[0mx\u001b[0m \u001b[0;32mand\u001b[0m \u001b[0my\u001b[0m\u001b[0;34m)\u001b[0m\u001b[0;34m,\u001b[0m \u001b[0mmap\u001b[0m\u001b[0;34m(\u001b[0m\u001b[0;32mlambda\u001b[0m \u001b[0mx\u001b[0m\u001b[0;34m:\u001b[0m \u001b[0;36m0.0\u001b[0m \u001b[0;34m<\u001b[0m \u001b[0mx\u001b[0m \u001b[0;34m<=\u001b[0m \u001b[0;36m1.0\u001b[0m\u001b[0;34m,\u001b[0m \u001b[0mdropout\u001b[0m\u001b[0;34m)\u001b[0m\u001b[0;34m)\u001b[0m\u001b[0;34m,\u001b[0m \u001b[0;34m'invalid dropout list'\u001b[0m\u001b[0;34m\u001b[0m\u001b[0m\n\u001b[0m\u001b[1;32m     70\u001b[0m \u001b[0;34m\u001b[0m\u001b[0m\n\u001b[1;32m     71\u001b[0m         \u001b[0mnp\u001b[0m\u001b[0;34m.\u001b[0m\u001b[0mrandom\u001b[0m\u001b[0;34m.\u001b[0m\u001b[0mseed\u001b[0m\u001b[0;34m(\u001b[0m\u001b[0;36m1\u001b[0m\u001b[0;34m)\u001b[0m\u001b[0;34m\u001b[0m\u001b[0m\n",
      "\u001b[0;31mAssertionError\u001b[0m: invalid dropout list"
     ]
    }
   ],
   "source": [
    "%%time\n",
    "Y = in_sphere_sequence(X, 1.0, 0.0)\n",
    "print(X[:,:6], '\\n', Y[:, :6])\n",
    "Y_test = in_sphere_sequence(X_test, 1.0, 0.0)\n",
    "\n",
    "dn = DN([5,1], [DN.SIGMOID,DN.SIGMOID])\n",
    "dn.train(X, Y, alpha=0.5, max_iterations=10000)\n",
    "\n",
    "\n",
    "Y_hat = dn.classify(X_test)\n",
    "Y_hat = np.where(Y_hat>=0.5, True, False)\n",
    "\n",
    "print('accuracy: ', np.sum(Y_hat == Y_test)/Y_hat.shape[1])"
   ]
  },
  {
   "cell_type": "code",
   "execution_count": 40,
   "metadata": {},
   "outputs": [
    {
     "name": "stderr",
     "output_type": "stream",
     "text": [
      "[autoreload of network failed: Traceback (most recent call last):\n",
      "  File \"/nfs/stak/users/khodadaa/miniconda3/envs/db/lib/python3.6/site-packages/IPython/extensions/autoreload.py\", line 245, in check\n",
      "    superreload(m, reload, self.old_objects)\n",
      "  File \"/nfs/stak/users/khodadaa/miniconda3/envs/db/lib/python3.6/site-packages/IPython/extensions/autoreload.py\", line 368, in superreload\n",
      "    module = reload(module)\n",
      "  File \"/nfs/stak/users/khodadaa/miniconda3/envs/db/lib/python3.6/imp.py\", line 315, in reload\n",
      "    return importlib.reload(module)\n",
      "  File \"/nfs/stak/users/khodadaa/miniconda3/envs/db/lib/python3.6/importlib/__init__.py\", line 166, in reload\n",
      "    _bootstrap._exec(spec, module)\n",
      "  File \"<frozen importlib._bootstrap>\", line 618, in _exec\n",
      "  File \"<frozen importlib._bootstrap_external>\", line 674, in exec_module\n",
      "  File \"<frozen importlib._bootstrap_external>\", line 781, in get_code\n",
      "  File \"<frozen importlib._bootstrap_external>\", line 741, in source_to_code\n",
      "  File \"<frozen importlib._bootstrap>\", line 219, in _call_with_frames_removed\n",
      "  File \"/nfs/stak/users/khodadaa/Documents/Code/practice/network.py\", line 61\n",
      "    def train(self, X, Y, alpha, max_iterations, lambd=0.0, dropout=None:list,\n",
      "                                                                        ^\n",
      "SyntaxError: invalid syntax\n",
      "]\n"
     ]
    },
    {
     "ename": "TypeError",
     "evalue": "'tuple' object cannot be interpreted as an integer",
     "output_type": "error",
     "traceback": [
      "\u001b[0;31m---------------------------------------------------------------------------\u001b[0m",
      "\u001b[0;31mTypeError\u001b[0m                                 Traceback (most recent call last)",
      "\u001b[0;32m<ipython-input-40-52de613f496d>\u001b[0m in \u001b[0;36m<module>\u001b[0;34m()\u001b[0m\n\u001b[0;32m----> 1\u001b[0;31m \u001b[0mnp\u001b[0m\u001b[0;34m.\u001b[0m\u001b[0mrandom\u001b[0m\u001b[0;34m.\u001b[0m\u001b[0mrand\u001b[0m\u001b[0;34m(\u001b[0m\u001b[0;34m(\u001b[0m\u001b[0;36m3\u001b[0m\u001b[0;34m,\u001b[0m\u001b[0;36m2\u001b[0m\u001b[0;34m)\u001b[0m\u001b[0;34m)\u001b[0m\u001b[0;34m\u001b[0m\u001b[0m\n\u001b[0m",
      "\u001b[0;32mmtrand.pyx\u001b[0m in \u001b[0;36mmtrand.RandomState.rand\u001b[0;34m()\u001b[0m\n",
      "\u001b[0;32mmtrand.pyx\u001b[0m in \u001b[0;36mmtrand.RandomState.random_sample\u001b[0;34m()\u001b[0m\n",
      "\u001b[0;32mmtrand.pyx\u001b[0m in \u001b[0;36mmtrand.cont0_array\u001b[0;34m()\u001b[0m\n",
      "\u001b[0;31mTypeError\u001b[0m: 'tuple' object cannot be interpreted as an integer"
     ]
    }
   ],
   "source": [
    "np.random.rand((3,2))"
   ]
  },
  {
   "cell_type": "markdown",
   "metadata": {},
   "source": [
    "# Circuit theory and Deep learning\n",
    "Example of a function that needs exponential(2^(n-1)) units if not represented in deep layers."
   ]
  },
  {
   "cell_type": "code",
   "execution_count": 3,
   "metadata": {},
   "outputs": [],
   "source": [
    "def XOR(X):\n",
    "    from functools import reduce\n",
    "    xor_func = lambda vec: reduce((lambda x,y: bool(x)!= bool(y)), vec)\n",
    "    return np.apply_along_axis(xor_func, axis=0, arr=X).reshape(1, X.shape[1])"
   ]
  },
  {
   "cell_type": "code",
   "execution_count": 4,
   "metadata": {},
   "outputs": [],
   "source": [
    "X = np.random.randint(low=0, high=2, size=(5,1000))\n",
    "X_test = np.random.randint(low=0, high=2, size=(5,100))"
   ]
  },
  {
   "cell_type": "code",
   "execution_count": 6,
   "metadata": {
    "scrolled": true
   },
   "outputs": [
    {
     "name": "stdout",
     "output_type": "stream",
     "text": [
      "[[0 0]\n",
      " [0 0]\n",
      " [0 0]\n",
      " [1 0]\n",
      " [0 1]] \n",
      " [[ True  True]]\n",
      "iteration: 0, cost: [0.73139991]\n",
      "iteration: 500, cost: [0.66955723]\n",
      "iteration: 1000, cost: [0.65104971]\n",
      "iteration: 1500, cost: [0.63129436]\n",
      "iteration: 2000, cost: [0.60839577]\n",
      "iteration: 2500, cost: [0.58205764]\n",
      "iteration: 3000, cost: [0.55199586]\n",
      "iteration: 3500, cost: [0.51873364]\n",
      "iteration: 4000, cost: [0.48296]\n",
      "iteration: 4500, cost: [0.44569435]\n",
      "iteration: 5000, cost: [0.40858241]\n",
      "iteration: 5500, cost: [0.37300618]\n",
      "iteration: 6000, cost: [0.33903508]\n",
      "iteration: 6500, cost: [0.30759945]\n",
      "iteration: 7000, cost: [0.27946559]\n",
      "iteration: 7500, cost: [0.25425153]\n",
      "iteration: 8000, cost: [0.23170359]\n",
      "iteration: 8500, cost: [0.21133404]\n",
      "iteration: 9000, cost: [0.19309526]\n",
      "iteration: 9500, cost: [0.17673523]\n",
      "iteration: 9748, cost: [0.16927594]\n",
      "Train accuracy:  0.983\n",
      "Test accuracy:  0.95\n",
      "CPU times: user 38min 17s, sys: 2min 20s, total: 40min 38s\n",
      "Wall time: 1min 24s\n"
     ]
    }
   ],
   "source": [
    "%%time\n",
    "Y = XOR(X)\n",
    "print(X[:,:2], '\\n', Y[:,:2])\n",
    "Y_test = XOR(X_test)\n",
    "\n",
    "dn = DN([311, 1], [DN.RELU, DN.SIGMOID])\n",
    "\"\"\"Train, Test = (1.0, 1.0)\n",
    "DN([400,1], [DN.RELU, DN.SIGMOID])\n",
    "DN([60,50, 1], [DN.RELU, DN.RELU, DN.SIGMOID])\n",
    "DN([63,37, 1], [DN.RELU, DN.RELU, DN.SIGMOID])\n",
    "DN([80,40,20,10,1], [DN.RELU, DN.RELU, DN.RELU, DN.RELU, DN.SIGMOID])\n",
    "\"\"\"\n",
    "dn.train(X, Y, alpha=0.01, max_iterations=10000, print_cost_every=500)\n",
    "\n",
    "Y_hat = dn.classify(X)\n",
    "Y_hat = np.where(Y_hat>=0.5, True, False)\n",
    "\n",
    "print('Train accuracy: ', np.sum(Y_hat == Y)/Y_hat.shape[1])\n",
    "\n",
    "Y_hat = dn.classify(X_test)\n",
    "Y_hat = np.where(Y_hat>=0.5, True, False)\n",
    "\n",
    "print('Test accuracy: ', np.sum(Y_hat == Y_test)/Y_hat.shape[1])"
   ]
  },
  {
   "cell_type": "markdown",
   "metadata": {},
   "source": [
    "# Coursera\n",
    "https://www.coursera.org/learn/neural-networks-deep-learning?specialization=deep-learning"
   ]
  },
  {
   "cell_type": "markdown",
   "metadata": {},
   "source": [
    "## Cat vs. nonCat Example"
   ]
  },
  {
   "cell_type": "code",
   "execution_count": 24,
   "metadata": {},
   "outputs": [
    {
     "name": "stdout",
     "output_type": "stream",
     "text": [
      "train_x's shape: (12288, 209)\n",
      "test_x's shape: (12288, 50)\n"
     ]
    },
    {
     "data": {
      "image/png": "[encoded data removed]",
      "text/plain": [
       "<Figure size 504x288 with 1 Axes>"
      ]
     },
     "metadata": {},
     "output_type": "display_data"
    },
    {
     "name": "stdout",
     "output_type": "stream",
     "text": [
      "y = 0. It's a non-cat picture.\n"
     ]
    }
   ],
   "source": [
    "import h5py\n",
    "import matplotlib.pyplot as plt\n",
    "def load_data():\n",
    "    train_dataset = h5py.File('data/train_catvnoncat.h5', \"r\")\n",
    "    train_set_x_orig = np.array(train_dataset[\"train_set_x\"][:]) # your train set features\n",
    "    train_set_y_orig = np.array(train_dataset[\"train_set_y\"][:]) # your train set labels\n",
    "\n",
    "    test_dataset = h5py.File('data/test_catvnoncat.h5', \"r\")\n",
    "    test_set_x_orig = np.array(test_dataset[\"test_set_x\"][:]) # your test set features\n",
    "    test_set_y_orig = np.array(test_dataset[\"test_set_y\"][:]) # your test set labels\n",
    "\n",
    "    classes = np.array(test_dataset[\"list_classes\"][:]) # the list of classes\n",
    "    \n",
    "    train_set_y_orig = train_set_y_orig.reshape((1, train_set_y_orig.shape[0]))\n",
    "    test_set_y_orig = test_set_y_orig.reshape((1, test_set_y_orig.shape[0]))\n",
    "    \n",
    "    return train_set_x_orig, train_set_y_orig, test_set_x_orig, test_set_y_orig, classes\n",
    "\n",
    "\n",
    "train_x_orig, train_y, test_x_orig, test_y, classes = load_data()\n",
    "\n",
    "# Reshape the training and test examples \n",
    "train_x_flatten = train_x_orig.reshape(train_x_orig.shape[0], -1).T   # The \"-1\" makes reshape flatten the remaining dimensions\n",
    "test_x_flatten = test_x_orig.reshape(test_x_orig.shape[0], -1).T\n",
    "\n",
    "# Standardize data to have feature values between 0 and 1.\n",
    "train_x = train_x_flatten/255.\n",
    "test_x = test_x_flatten/255.\n",
    "\n",
    "print (\"train_x's shape: \" + str(train_x.shape))\n",
    "print (\"test_x's shape: \" + str(test_x.shape))\n",
    "\n",
    "# Example of a picture\n",
    "index = 10\n",
    "plt.imshow(train_x_orig[index])\n",
    "plt.show()\n",
    "print (\"y = \" + str(train_y[0,index]) + \". It's a \" + classes[train_y[0,index]].decode(\"utf-8\") +  \" picture.\")"
   ]
  },
  {
   "cell_type": "markdown",
   "metadata": {},
   "source": [
    "$12,288$ equals $64 \\times 64 \\times 3$ which is the size of one reshaped image vector."
   ]
  },
  {
   "cell_type": "code",
   "execution_count": 36,
   "metadata": {},
   "outputs": [
    {
     "name": "stdout",
     "output_type": "stream",
     "text": [
      "iteration: 0, cost: [0.77174933]\n",
      "iteration: 100, cost: [0.67299362]\n",
      "iteration: 200, cost: [0.64715121]\n",
      "iteration: 300, cost: [0.60869193]\n",
      "iteration: 400, cost: [0.57999815]\n",
      "iteration: 500, cost: [0.58233823]\n",
      "iteration: 600, cost: [0.4567194]\n",
      "iteration: 700, cost: [0.46068667]\n",
      "iteration: 800, cost: [0.41227748]\n",
      "iteration: 900, cost: [0.30480673]\n",
      "iteration: 1000, cost: [0.32689108]\n",
      "iteration: 1100, cost: [0.25017321]\n",
      "iteration: 1200, cost: [0.21314738]\n",
      "iteration: 1300, cost: [0.17070875]\n",
      "iteration: 1400, cost: [0.15352608]\n",
      "iteration: 1500, cost: [0.13415954]\n",
      "iteration: 1600, cost: [0.12348212]\n",
      "iteration: 1700, cost: [0.10960806]\n",
      "iteration: 1800, cost: [0.10093713]\n",
      "iteration: 1900, cost: [0.09757583]\n",
      "iteration: 2000, cost: [0.08565674]\n",
      "iteration: 2100, cost: [0.08035706]\n",
      "iteration: 2200, cost: [0.07453497]\n",
      "iteration: 2300, cost: [0.06942943]\n",
      "iteration: 2399, cost: [0.0655564]\n",
      "Test accuracy:  0.8\n",
      "CPU times: user 5min 3s, sys: 23 s, total: 5min 26s\n",
      "Wall time: 11.3 s\n"
     ]
    }
   ],
   "source": [
    "%%time\n",
    "\n",
    "dn = DN([20, 7, 5, 1], [DN.RELU, DN.RELU, DN.RELU, DN.SIGMOID])\n",
    "dn.train(train_x, train_y, alpha=0.0075, max_iterations=2400)\n",
    "# dn.train(train_x, train_y, alpha=0.0075, max_iterations=2400, lambd=1.0)\n",
    "# dn.train(train_x, train_y, alpha=0.0075, max_iterations=2400, dropout=[False, 0.01, False, False, False])\n",
    "\n",
    "\n",
    "Y_hat = dn.classify(test_x)\n",
    "Y_hat = np.where(Y_hat>=0.5, True, False)\n",
    "\n",
    "print('Test accuracy: ', np.sum(Y_hat == test_y)/Y_hat.shape[1])"
   ]
  },
  {
   "cell_type": "code",
   "execution_count": 89,
   "metadata": {},
   "outputs": [
    {
     "name": "stdout",
     "output_type": "stream",
     "text": [
      "Train accuracy:  1.0\n"
     ]
    }
   ],
   "source": [
    "Y_hat = dn.classify(train_x)\n",
    "Y_hat = np.where(Y_hat>=0.5, True, False)\n",
    "\n",
    "print('Train accuracy: ', np.sum(Y_hat == train_y)/Y_hat.shape[1])"
   ]
  },
  {
   "cell_type": "markdown",
   "metadata": {},
   "source": [
    "## Dropout and regularization"
   ]
  },
  {
   "cell_type": "code",
   "execution_count": 3,
   "metadata": {},
   "outputs": [],
   "source": [
    "import numpy as np\n",
    "import sklearn\n",
    "import sklearn.datasets\n",
    "import matplotlib.pyplot as plt\n",
    "import scipy.io\n",
    "%matplotlib inline\n",
    "plt.rcParams['figure.figsize'] = (7.0, 4.0) # set default size of plots\n",
    "plt.rcParams['image.interpolation'] = 'nearest'\n",
    "plt.rcParams['image.cmap'] = 'gray'\n",
    "\n",
    "def load_2D_dataset():\n",
    "    data = scipy.io.loadmat('../data/data.mat')\n",
    "    train_X = data['X'].T\n",
    "    train_Y = data['y'].T\n",
    "    test_X = data['Xval'].T\n",
    "    test_Y = data['yval'].T\n",
    "\n",
    "#     plt.scatter(train_X[0, :], train_X[1, :], c=train_Y, s=40, cmap=plt.cm.Spectral);\n",
    "    \n",
    "    return train_X, train_Y, test_X, test_Y\n",
    "\n",
    "train_X, train_Y, test_X, test_Y = load_2D_dataset()"
   ]
  },
  {
   "cell_type": "code",
   "execution_count": 6,
   "metadata": {
    "scrolled": true
   },
   "outputs": [
    {
     "name": "stdout",
     "output_type": "stream",
     "text": [
      "iteration: 0, cost: [0.72977688]\n",
      "iteration: 1000, cost: [0.23089703]\n",
      "iteration: 2000, cost: [0.22581166]\n",
      "iteration: 2999, cost: [0.2189547]\n",
      "Test accuracy:  0.925\n",
      "CPU times: user 1.11 s, sys: 12.8 ms, total: 1.13 s\n",
      "Wall time: 1.14 s\n"
     ]
    }
   ],
   "source": [
    "%%time\n",
    "dn = DN([20, 3, 1], [DN.RELU, DN.RELU, DN.SIGMOID]) # numpy\n",
    "# dn = DNT([20, 3, 1], [DNT.RELU, DNT.RELU, DNT.SIGMOID]) # pytorch\n",
    "\n",
    "dn.train(train_X, train_Y, alpha=0.1, max_iterations=3000, print_cost_every=1000, terminate_on_cost_change=1e-50)\n",
    "# dn.train(train_X, train_Y, alpha=0.3, max_iterations=2000, dropout=[False, 0.1, 0.01, False])\n",
    "\n",
    "Y_hat = dn.classify(test_X)\n",
    "Y_hat = np.where(Y_hat>=0.5, True, False)\n",
    "\n",
    "print('Test accuracy: ', np.sum(Y_hat == test_Y)/Y_hat.shape[1])"
   ]
  },
  {
   "cell_type": "code",
   "execution_count": 5,
   "metadata": {},
   "outputs": [
    {
     "name": "stdout",
     "output_type": "stream",
     "text": [
      "Train accuracy:  0.9289099526066351\n"
     ]
    }
   ],
   "source": [
    "Y_hat = dn.classify(train_X)\n",
    "Y_hat = np.where(Y_hat>=0.5, True, False)\n",
    "\n",
    "print('Train accuracy: ', np.sum(Y_hat == train_Y)/Y_hat.shape[1])"
   ]
  },
  {
   "cell_type": "markdown",
   "metadata": {},
   "source": [
    "# Udacity"
   ]
  },
  {
   "cell_type": "markdown",
   "metadata": {},
   "source": [
    "## Fashion-MNIST \n",
    "https://github.com/udacity/deep-learning-v2-pytorch/tree/master/intro-to-pytorch"
   ]
  },
  {
   "cell_type": "code",
   "execution_count": 95,
   "metadata": {},
   "outputs": [
    {
     "name": "stdout",
     "output_type": "stream",
     "text": [
      "torch.Size([60000, 28, 28]) torch.Size([10000, 28, 28])\n",
      "torch.Size([64, 1, 28, 28]) torch.Size([64])\n"
     ]
    }
   ],
   "source": [
    "import torch\n",
    "from torchvision import datasets, transforms\n",
    "import helper\n",
    "\n",
    "# Define a transform to normalize the data\n",
    "transform = transforms.Compose([transforms.ToTensor(),\n",
    "                                transforms.Normalize((0.5, 0.5, 0.5), (0.5, 0.5, 0.5))])\n",
    "# Download and load the training data\n",
    "trainset = datasets.FashionMNIST('~/.pytorch/F_MNIST_data/', download=True, train=True, transform=transform)\n",
    "trainloader = torch.utils.data.DataLoader(trainset, batch_size=64, shuffle=True)\n",
    "\n",
    "# Download and load the test data\n",
    "testset = datasets.FashionMNIST('~/.pytorch/F_MNIST_data/', download=True, train=False, transform=transform)\n",
    "testloader = torch.utils.data.DataLoader(testset, batch_size=64, shuffle=True)\n",
    "\n",
    "print(trainset.train_data.shape, testset.test_data.shape)\n",
    "images, labels = next(iter(trainloader))\n",
    "print(images.shape, labels.shape)"
   ]
  },
  {
   "cell_type": "markdown",
   "metadata": {},
   "source": [
    "In general, a “2d” tensor in CNNs is of size “Batch x Channels x Height x Width.” For the actual input to the network, channels is usually 3 for RGB or 1 if it’s greyscale. For the outputs of layers in the network, “output channels” is analagous to the number of neurons, or the number of hidden units, of a layer. So, the latter–output channels are the number of filters in one layer, while input channels are the number of filters in the incoming layer."
   ]
  },
  {
   "cell_type": "code",
   "execution_count": 155,
   "metadata": {},
   "outputs": [
    {
     "name": "stdout",
     "output_type": "stream",
     "text": [
      "Model:\n",
      " Sequential(\n",
      "  (fc1): Linear(in_features=784, out_features=256)\n",
      "  (relu1): ReLU()\n",
      "  (fc2): Linear(in_features=256, out_features=128)\n",
      "  (relu2): ReLU()\n",
      "  (fc3): Linear(in_features=128, out_features=64)\n",
      "  (relu3): ReLU()\n",
      "  (fc4): Linear(in_features=64, out_features=10)\n",
      "  (logsofmx): LogSoftmax()\n",
      ")\n",
      "Training loss: 0.5136411200041202\n",
      "Training loss: 0.39053860133581325\n",
      "Training loss: 0.3559039857373563\n",
      "Training loss: 0.33352756355680635\n",
      "CPU times: user 43min 3s, sys: 1h 47min 24s, total: 2h 30min 27s\n",
      "Wall time: 16min 5s\n"
     ]
    }
   ],
   "source": [
    "%%time\n",
    "# My Code\n",
    "from collections import OrderedDict\n",
    "from torch import nn, optim\n",
    "from torch.autograd import Variable\n",
    "model = nn.Sequential(OrderedDict([('fc1', nn.Linear(28*28, 256)), ('relu1', nn.ReLU()), \n",
    "                                   ('fc2', nn.Linear(256, 128)), ('relu2', nn.ReLU()),\n",
    "                                   ('fc3', nn.Linear(128, 64)), ('relu3', nn.ReLU()),\n",
    "                                   ('fc4', nn.Linear(64, 10)), ('logsofmx', nn.LogSoftmax(dim=1))]))\n",
    "\n",
    "print('Model:\\n', model)\n",
    "criterion = nn.NLLLoss()\n",
    "optimizer = optim.Adam(model.parameters(), lr=0.003)\n",
    "\n",
    "epoch = 4\n",
    "for e in range(epoch):\n",
    "    running_loss = 0    \n",
    "    for images, labels in trainloader:\n",
    "        images = images.view(images.shape[0], -1)\n",
    "        images, labels = Variable(images), Variable(labels)\n",
    "        \n",
    "        log_ps = model(images)\n",
    "        loss = criterion(log_ps, labels)\n",
    "        \n",
    "        optimizer.zero_grad()\n",
    "        loss.backward()\n",
    "        optimizer.step()\n",
    "        \n",
    "        running_loss += loss.data[0]\n",
    "    else:\n",
    "        print(f'Training loss: {running_loss/len(trainloader)}')"
   ]
  },
  {
   "cell_type": "code",
   "execution_count": 167,
   "metadata": {},
   "outputs": [
    {
     "data": {
      "image/png": "[encoded data removed]",
      "text/plain": [
       "<Figure size 432x648 with 2 Axes>"
      ]
     },
     "metadata": {
      "image/png": {
       "height": 206,
       "width": 423
      },
      "needs_background": "light"
     },
     "output_type": "display_data"
    }
   ],
   "source": [
    "%matplotlib inline\n",
    "%config InlineBackend.figure_format = 'retina'\n",
    "\n",
    "import helper\n",
    "\n",
    "# Test out your network!\n",
    "\n",
    "dataiter = iter(testloader)\n",
    "images, labels = next(dataiter)\n",
    "img = images[62]\n",
    "im = img.view(img.shape[0], -1)\n",
    "# TODO: Calculate the class probabilities (softmax) for img\n",
    "ps = torch.exp(model(Variable(im)))\n",
    "\n",
    "# Plot the image and probabilities\n",
    "helper.view_classify(img, ps, version='Fashion')"
   ]
  },
  {
   "cell_type": "code",
   "execution_count": 146,
   "metadata": {},
   "outputs": [],
   "source": [
    "images, labels = next(iter(trainloader))\n",
    "images = images.view(images.shape[0], -1)\n",
    "images, labels = Variable(images), Variable(labels)\n",
    "\n",
    "log_ps = model(images)\n",
    "loss = criterion(log_ps, labels)"
   ]
  },
  {
   "cell_type": "code",
   "execution_count": 3,
   "metadata": {},
   "outputs": [
    {
     "name": "stdout",
     "output_type": "stream",
     "text": [
      "FullyConnectedNetwork(\n",
      "  (fc1): Linear(in_features=784, out_features=256)\n",
      "  (ac1): ReLU()\n",
      "  (fc2): Linear(in_features=256, out_features=128)\n",
      "  (ac2): ReLU()\n",
      "  (fc3): Linear(in_features=128, out_features=64)\n",
      "  (ac3): ReLU()\n",
      "  (fc4): Linear(in_features=64, out_features=10)\n",
      "  (ac4): LogSoftmax()\n",
      "  (criterion): NLLLoss(\n",
      "  )\n",
      ")\n"
     ]
    }
   ],
   "source": [
    "from torchvision import datasets, transforms\n",
    "import helper\n",
    "\n",
    "# Define a transform to normalize the data\n",
    "transform = transforms.Compose([transforms.ToTensor(),\n",
    "                                transforms.Normalize((0.5, 0.5, 0.5), (0.5, 0.5, 0.5))])\n",
    "# Download and load the training data\n",
    "trainset = datasets.FashionMNIST('~/.pytorch/F_MNIST_data/', download=True, train=True, transform=transform)\n",
    "\n",
    "# Download and load the test data\n",
    "testset = datasets.FashionMNIST('~/.pytorch/F_MNIST_data/', download=True, train=False, transform=transform)\n",
    "\n",
    "net = FCN(28*28, [256, 128, 64, 10], [FCN.RELU, FCN.RELU, FCN.RELU, FCN.LOGSOFTMAX], \n",
    "    loss_function=FCN.NLLLOSS, optimizer_class=FCN.ADAM)\n",
    "print(net)"
   ]
  },
  {
   "cell_type": "code",
   "execution_count": 4,
   "metadata": {},
   "outputs": [
    {
     "name": "stdout",
     "output_type": "stream",
     "text": [
      "Epoch 0. Training loss: Variable containing:\n",
      " 0.5158\n",
      "[torch.FloatTensor of size 1]\n",
      "\n"
     ]
    }
   ],
   "source": [
    "net.train(trainset, lr=0.003, epochs=1)"
   ]
  },
  {
   "cell_type": "markdown",
   "metadata": {},
   "source": [
    "## My"
   ]
  },
  {
   "cell_type": "code",
   "execution_count": 3,
   "metadata": {},
   "outputs": [],
   "source": [
    "from torchvision import datasets, transforms\n",
    "\n",
    "# Define a transform to normalize the data\n",
    "transform = transforms.Compose([transforms.ToTensor(),\n",
    "                                transforms.Normalize((0.5, 0.5, 0.5), (0.5, 0.5, 0.5))])\n",
    "# Download and load the training data\n",
    "trainset = datasets.FashionMNIST('~/.pytorch/F_MNIST_data/', download=True, train=True, transform=transform)\n",
    "\n",
    "# Download and load the test data\n",
    "testset = datasets.FashionMNIST('~/.pytorch/F_MNIST_data/', download=True, train=False, transform=transform)"
   ]
  },
  {
   "cell_type": "code",
   "execution_count": 17,
   "metadata": {
    "scrolled": true
   },
   "outputs": [
    {
     "data": {
      "text/plain": [
       "FullyConnectedNetwork(\n",
       "Optimizer:Adam\n",
       "Criterion:NLLLos\n",
       "Layers:\n",
       "  (fc1): Linear(in_features=784, out_features=256, bias=True)\n",
       "  (ac1): ReLU()\n",
       "  (fc2): Linear(in_features=256, out_features=128, bias=True)\n",
       "  (ac2): ReLU()\n",
       "  (fc3): Linear(in_features=128, out_features=64, bias=True)\n",
       "  (ac3): ReLU()\n",
       "  (fc4): Linear(in_features=64, out_features=10, bias=True)\n",
       "  (ac4): LogSoftmax()\n",
       ")"
      ]
     },
     "execution_count": 17,
     "metadata": {},
     "output_type": "execute_result"
    }
   ],
   "source": [
    "net = FCN(FCN.nl_loss, FCN.Adam, input_size=28*28, layer_sizes=[256, 128, 64, 10], \n",
    "          activation_functions=[FCN.relu, FCN.relu, FCN.relu, FCN.log_soft_max])\n",
    "net"
   ]
  },
  {
   "cell_type": "code",
   "execution_count": 78,
   "metadata": {},
   "outputs": [
    {
     "name": "stdout",
     "output_type": "stream",
     "text": [
      "Epoch 0. Training loss: 0.288, Test loss: 0.416, Test Accuracy: 86.78%\n"
     ]
    }
   ],
   "source": [
    "net.train(trainset, testset, lr=0.003, epochs=1)"
   ]
  },
  {
   "cell_type": "markdown",
   "metadata": {},
   "source": [
    "# Scratchpad"
   ]
  },
  {
   "cell_type": "code",
   "execution_count": 12,
   "metadata": {},
   "outputs": [
    {
     "name": "stdout",
     "output_type": "stream",
     "text": [
      "Variable containing:\n",
      "-0.3437 -0.2059 -0.0318  1.4417\n",
      "[torch.FloatTensor of size 1x4]\n",
      "\n",
      "None\n",
      "Variable containing:\n",
      "-0.1718 -0.1030 -0.0159  0.7209\n",
      "[torch.FloatTensor of size 1x4]\n",
      "\n",
      "Variable containing:\n",
      "-0.1718 -0.1030 -0.0159  0.7209\n",
      "[torch.FloatTensor of size 1x4]\n",
      "\n"
     ]
    }
   ],
   "source": [
    "import torch\n",
    "from torch.autograd import Variable\n",
    "x = Variable(torch.randn(1,4), requires_grad=True)\n",
    "print(x)\n",
    "y = x**2\n",
    "z = y.mean()\n",
    "print(x.grad)\n",
    "z.backward()\n",
    "print(x.grad)\n",
    "print(x/2)"
   ]
  },
  {
   "cell_type": "code",
   "execution_count": 57,
   "metadata": {},
   "outputs": [
    {
     "name": "stdout",
     "output_type": "stream",
     "text": [
      "torch.Size([4]) torch.Size([4, 1]) torch.Size([4, 4])\n"
     ]
    }
   ],
   "source": [
    "import torch\n",
    "t1 = torch.Tensor([1, 2, 3, 4])\n",
    "t2 = torch.Tensor([[1], [2], [3], [4]])\n",
    "print(t1.shape, t2.shape, (t1==t2).shape)"
   ]
  },
  {
   "cell_type": "code",
   "execution_count": 61,
   "metadata": {},
   "outputs": [
    {
     "name": "stdout",
     "output_type": "stream",
     "text": [
      "(4,) (1, 4) (4, 1) (1, 4) (4, 4)\n"
     ]
    }
   ],
   "source": [
    "import numpy as np\n",
    "a0 = np.array([1, 2, 3, 4])\n",
    "a1 = np.array([[1, 2, 3, 4]])\n",
    "a2 = np.array([[1], [2], [3], [4]])\n",
    "print(a0.shape, a1.shape, a2.shape, (a0==a1).shape, (a1==a2).shape)"
   ]
  }
 ],
 "metadata": {
  "kernelspec": {
   "display_name": "Python 3",
   "language": "python",
   "name": "python3"
  },
  "language_info": {
   "codemirror_mode": {
    "name": "ipython",
    "version": 3
   },
   "file_extension": ".py",
   "mimetype": "text/x-python",
   "name": "python",
   "nbconvert_exporter": "python",
   "pygments_lexer": "ipython3",
   "version": "3.6.8"
  }
 },
 "nbformat": 4,
 "nbformat_minor": 2
}
