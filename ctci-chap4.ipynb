{
 "cells": [
  {
   "cell_type": "code",
   "execution_count": 1,
   "metadata": {},
   "outputs": [],
   "source": [
    "# thanks to: \n",
    "# https://www.python-course.eu/python3_properties.php\n",
    "# http://blog.lerner.co.il/python-attributes/\n",
    "# https://www.programiz.com/python-programming/property\n",
    "\n",
    "# this node can store any data types including itself.\n",
    "class Node(object):    \n",
    "    def __init__(self, dtype=object, max_children=-1):\n",
    "        self._dtype = dtype\n",
    "        self.value = dtype() #initialize\n",
    "        self._max = max_children\n",
    "        self._children = []    \n",
    "            \n",
    "    @property\n",
    "    def value(self):        \n",
    "        return self._data\n",
    "    \n",
    "    @value.setter\n",
    "    def value(self, val):        \n",
    "        if not isinstance(val, self._dtype):\n",
    "            raise TypeError('Oooops {} data type cannot be stored in this Node({})'.format(type(val), self._dtype))\n",
    "        self._data = val\n",
    "    \n",
    "    def add_child(self, value=None):\n",
    "        if self._max == -1 or len(self._children) < self._max:\n",
    "            self._children.append(Node(self._dtype, self._max))\n",
    "            if value is not None:\n",
    "                self._children[-1].value = value\n",
    "            return len(self._children)\n",
    "        else:\n",
    "            raise ValueError('This node cannot adopt new child!')\n",
    "            \n",
    "    def del_child(self, child_index=-1):        \n",
    "        assert -1 <= child_index < len(self._children), 'Invalid child index'        \n",
    "        if len(self._children) == 0:\n",
    "            return\n",
    "        del(self._children[child_index])\n",
    "    \n",
    "    def get_child(self, child_index):\n",
    "        assert child_index >= 0, 'Invalid child number'\n",
    "        if child_index > len(self._children):\n",
    "            raise ValueError('This node does not have this child')\n",
    "        return self._children[child_index]\n",
    "    \n",
    "    def __getitem__(self, key):\n",
    "        assert key >=0 and key < len(self._children), 'Invalid child index'\n",
    "        return self.get_child(key)\n",
    "    \n",
    "    def __setitem__(self, key, value):\n",
    "        assert key >=0 and key < len(self._children), 'Invalid child index'\n",
    "        assert isinstance(value._dtype, self._dtype), 'dtypes do not match! (%s vs. %s)'\\\n",
    "                                                % (value._dtype, self._dtype)\n",
    "        assert value._max == self._max, 'Maximum children does not match'\n",
    "        self._children[key] = value\n",
    "    \n",
    "    def count_children(self):\n",
    "        return len(self._children)\n",
    "    \n",
    "    def __repr__(self):\n",
    "        return '{basetype:%s, child_count:%s, max_children:%s, data:{dtype:%s, value:%s}}' \\\n",
    "                %(self._dtype, len(self._children), self._max, type(self._data), self._data)\n",
    "        \n",
    "        \n",
    "# class Tree(object):\n",
    "#     def __init__(self, dtype, max_number_of_children):\n",
    "#         self._dtype = dtype\n",
    "#         self._root = Node(None, dtype, max_number_of_children)\n",
    "    \n",
    "#     def root(self):\n",
    "#         return(self._root)"
   ]
  },
  {
   "cell_type": "code",
   "execution_count": 2,
   "metadata": {},
   "outputs": [
    {
     "name": "stdout",
     "output_type": "stream",
     "text": [
      "{basetype:<class 'object'>, child_count:2, max_children:2, data:{dtype:<class 'str'>, value:root}}\n",
      "{basetype:<class 'object'>, child_count:2, max_children:2, data:{dtype:<class 'str'>, value:l}}\n",
      "{basetype:<class 'object'>, child_count:1, max_children:2, data:{dtype:<class 'str'>, value:r}}\n",
      "{basetype:<class 'object'>, child_count:0, max_children:2, data:{dtype:<class 'str'>, value:ll}}\n",
      "{basetype:<class 'object'>, child_count:0, max_children:2, data:{dtype:<class 'str'>, value:lr}}\n",
      "{basetype:<class 'object'>, child_count:0, max_children:2, data:{dtype:<class 'str'>, value:rl}}\n"
     ]
    }
   ],
   "source": [
    "n = Node(object,2)\n",
    "n.value = 'root'\n",
    "n.add_child('l')\n",
    "n.add_child('r')\n",
    "n[0].add_child('ll')\n",
    "n[0].add_child('lr')\n",
    "n[1].add_child('rl')\n",
    "print(n)\n",
    "print(n[0])\n",
    "print(n[1])\n",
    "print(n[0][0])\n",
    "print(n[0][1])\n",
    "print(n[1][0])"
   ]
  },
  {
   "cell_type": "code",
   "execution_count": 3,
   "metadata": {},
   "outputs": [
    {
     "name": "stdout",
     "output_type": "stream",
     "text": [
      "{basetype:<class 'object'>, child_count:0, max_children:-1, data:{dtype:<class 'object'>, value:<object object at 0x7f6cf9feabb0>}}\n",
      "{basetype:<class 'dict'>, child_count:0, max_children:-1, data:{dtype:<class 'dict'>, value:{}}}\n",
      "{}\n"
     ]
    }
   ],
   "source": [
    "node = Node(Node, 3)\n",
    "print(node.value)\n",
    "node.value = Node(dict)\n",
    "print(node.value)\n",
    "print(node.value.value)"
   ]
  },
  {
   "cell_type": "code",
   "execution_count": null,
   "metadata": {},
   "outputs": [],
   "source": [
    "class LinkedList(object):\n",
    "    class ListNode(object):\n",
    "        def __init__(self, data):\n",
    "            self._data = data\n",
    "            self.next = None\n",
    "            \n",
    "    def __init__(self, data):\n",
    "        self.head = ListNode(data)\n",
    "        self.head.next = None"
   ]
  },
  {
   "cell_type": "code",
   "execution_count": null,
   "metadata": {},
   "outputs": [],
   "source": [
    "t = Tree(2)"
   ]
  },
  {
   "cell_type": "code",
   "execution_count": null,
   "metadata": {},
   "outputs": [],
   "source": [
    "r = t.root()"
   ]
  },
  {
   "cell_type": "code",
   "execution_count": null,
   "metadata": {},
   "outputs": [],
   "source": [
    "print(r.value(5))"
   ]
  },
  {
   "cell_type": "code",
   "execution_count": null,
   "metadata": {},
   "outputs": [],
   "source": [
    "x = int"
   ]
  },
  {
   "cell_type": "markdown",
   "metadata": {},
   "source": [
    "# Tips"
   ]
  },
  {
   "cell_type": "markdown",
   "metadata": {},
   "source": [
    "## Decorators"
   ]
  },
  {
   "cell_type": "code",
   "execution_count": 4,
   "metadata": {},
   "outputs": [
    {
     "name": "stdout",
     "output_type": "stream",
     "text": [
      "120\n",
      "******************************\n",
      "120\n",
      "******************************\n",
      "******************************\n",
      "120\n",
      "******************************\n"
     ]
    }
   ],
   "source": [
    "# Thanks to https://www.programiz.com/python-programming/decorator\n",
    "\n",
    "def star(func):\n",
    "    def inner(*args, **kwargs):\n",
    "        print('*' * 30)\n",
    "        func(*args, **kwargs)\n",
    "        print('*' * 30)\n",
    "        return\n",
    "    return inner\n",
    "\n",
    "def nonnegative_integer(func):\n",
    "    def inner(x):\n",
    "        if not isinstance(x, int):\n",
    "            raise TypeError('factorial is not defined for {}'.format(x))\n",
    "        if x < 0:\n",
    "            raise ValueError('factorial is not defined for negative numbers')\n",
    "        return func(x)\n",
    "    return inner\n",
    "\n",
    "def printer(func):\n",
    "    def inner(*args, **kwargs):\n",
    "        print(func(*args, **kwargs))\n",
    "    return inner\n",
    "        \n",
    "\n",
    "@nonnegative_integer\n",
    "def factorial(n:int):\n",
    "    if n==0 or n==1:\n",
    "        return 1\n",
    "    return n * factorial(n-1)\n",
    "\n",
    "@star\n",
    "@printer\n",
    "@nonnegative_integer\n",
    "def fact(n:int):\n",
    "    if n==0 or n==1:\n",
    "        return 1\n",
    "    res=1\n",
    "    for i in range(1,n+1):\n",
    "        res *= i\n",
    "    return res\n",
    "\n",
    "\n",
    "def f(n:int):\n",
    "    if n==0 or n==1:\n",
    "        return 1\n",
    "    res=1\n",
    "    for i in range(1,n+1):\n",
    "        res *= i\n",
    "    return res\n",
    "nondecorated_fact = star(printer(nonnegative_integer(f)))\n",
    "\n",
    "print(factorial(5))\n",
    "fact(5)\n",
    "nondecorated_fact(5)"
   ]
  }
 ],
 "metadata": {
  "kernelspec": {
   "display_name": "Python 3",
   "language": "python",
   "name": "python3"
  },
  "language_info": {
   "codemirror_mode": {
    "name": "ipython",
    "version": 3
   },
   "file_extension": ".py",
   "mimetype": "text/x-python",
   "name": "python",
   "nbconvert_exporter": "python",
   "pygments_lexer": "ipython3",
   "version": "3.6.5"
  }
 },
 "nbformat": 4,
 "nbformat_minor": 2
}
